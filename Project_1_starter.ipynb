{
 "cells": [
  {
   "attachments": {},
   "cell_type": "markdown",
   "metadata": {},
   "source": [
    "# Crime Data Analysis\n",
    "\n",
    "- Your analysis here\n",
    "  \n",
    "---"
   ]
  },
  {
   "cell_type": "code",
   "execution_count": null,
   "metadata": {},
   "outputs": [],
   "source": [
    "# Dependencies and Setup\n",
    "import pandas as pd\n",
    "from pathlib import Path\n",
    "import matplotlib.pyplot as plt\n",
    "import hvplot.pandas\n",
    "import numpy as np\n",
    "import scipy.stats as stats\n",
    "\n",
    "import requests\n",
    "# Import API key\n",
    "from api_keys import geoapify_key\n",
    "\n",
    "\n",
    "\n",
    "# File to Load (Remember to Change These)\n",
    "data_2010_2019 = Path(\"Crime_Data_from_2010_to_2019 (1).csv\")\n",
    "data_2020_2023 = Path(\"Crime_Data_from_2020_to_Present_20231016.csv\")\n",
    "\n",
    "# Read data(2010-2019) and data (2020- present)Data File and store into Pandas DataFrames\n",
    "pre_covid_data = pd.read_csv(data_2010_2019)\n",
    "post_covid_data = pd.read_csv(data_2020_2023)\n",
    "#pre_covid_data.head(5)\n",
    "#post_covid_data.head(5)\n",
    "\n",
    "# Combine the data into a single dataset.  \n",
    "Data_complete = pd.concat([pre_covid_data, post_covid_data], ignore_index=True)\n",
    "Data_complete.columns"
   ]
  },
  {
   "cell_type": "code",
   "execution_count": null,
   "metadata": {},
   "outputs": [],
   "source": [
    "Data_complete.head()"
   ]
  },
  {
   "cell_type": "markdown",
   "metadata": {},
   "source": []
  },
  {
   "cell_type": "code",
   "execution_count": null,
   "metadata": {},
   "outputs": [],
   "source": [
    "Data_complete.info()"
   ]
  },
  {
   "cell_type": "markdown",
   "metadata": {},
   "source": [
    "Data Analysis\n"
   ]
  },
  {
   "cell_type": "code",
   "execution_count": null,
   "metadata": {},
   "outputs": [],
   "source": [
    "len(Data_complete.columns)"
   ]
  },
  {
   "cell_type": "code",
   "execution_count": null,
   "metadata": {},
   "outputs": [],
   "source": [
    "\n",
    "Data_complete['Crime Year'] = pd.to_datetime(Data_complete['Date Rptd']).dt.year\n",
    "\n",
    "Data_complete['Crime Year']"
   ]
  },
  {
   "cell_type": "code",
   "execution_count": null,
   "metadata": {},
   "outputs": [],
   "source": [
    "#Drop the columns not needed\n",
    "Data_complete.drop(Data_complete.columns[[1, 2, 3, 4, 6, 7, 10, 14, 16, 17, 18, 19, 20, 21, 22, 23, 24, 25,28]], axis=1, inplace=True)"
   ]
  },
  {
   "cell_type": "code",
   "execution_count": null,
   "metadata": {},
   "outputs": [],
   "source": [
    "\n",
    "# Clean data for duplicate\n",
    "Data_complete = Data_complete.drop_duplicates(subset=['DR_NO'])\n",
    "# Clean data for -ve values\n",
    "\n",
    "# Remove enteries with  Victim Sex : X and Victim Race: X, Removing 0 in VictAge\n",
    "\n",
    "Data_complete = Data_complete[Data_complete['Vict Age'] > 0]"
   ]
  },
  {
   "cell_type": "code",
   "execution_count": null,
   "metadata": {},
   "outputs": [],
   "source": [
    "# Change the name of the columns\n",
    "Data_complete.rename(columns={\n",
    "                    'DR_NO':'DR Number',\n",
    "                    'Crime Year': 'Crime Year',\n",
    "                    'AREA NAME': 'Area Name',\n",
    "                    'Crm Cd': 'Crime Code',\n",
    "                    'Crm Cd Desc':'Type of Crime',\n",
    "                    'Vict Age': 'Victim Age',\n",
    "                    'Vict Sex': 'Victim Gender',\n",
    "                    'Vict Descent': 'Victim Ethnicity',\n",
    "                    'Premis Desc': 'Scene of Crime',\n",
    "                    'LAT': 'Latitude',\n",
    "                    'LON': 'Longitude'\n",
    "                    \n",
    "},inplace= True)\n",
    "\n",
    "Data_complete.head()\n",
    "\n",
    "\n",
    "\n"
   ]
  },
  {
   "cell_type": "code",
   "execution_count": null,
   "metadata": {},
   "outputs": [],
   "source": [
    "\n",
    "Data_complete = Data_complete[(Data_complete['Longitude'] < -108) & (Data_complete['Longitude'] > -128)]\n"
   ]
  },
  {
   "cell_type": "code",
   "execution_count": null,
   "metadata": {},
   "outputs": [],
   "source": [
    "Data_complete = Data_complete[(Data_complete['Latitude'] < 44) & (Data_complete['Latitude'] > 24)]\n"
   ]
  },
  {
   "cell_type": "markdown",
   "metadata": {},
   "source": [
    "## Crimes Summary"
   ]
  },
  {
   "cell_type": "code",
   "execution_count": null,
   "metadata": {},
   "outputs": [],
   "source": [
    "Total_crime_count = len(Data_complete['DR Number'])\n",
    "Total_crime_count"
   ]
  },
  {
   "cell_type": "markdown",
   "metadata": {},
   "source": [
    "## Area Summary"
   ]
  },
  {
   "cell_type": "code",
   "execution_count": null,
   "metadata": {},
   "outputs": [],
   "source": [
    "#  select all of the different Areas\n",
    "Data_complete[\"Area Name\"].value_counts()\n"
   ]
  },
  {
   "cell_type": "markdown",
   "metadata": {},
   "source": [
    "##https://pandas.pydata.org/pandas-docs/stable/reference/api/pandas.Series.replace.html"
   ]
  },
  {
   "cell_type": "code",
   "execution_count": null,
   "metadata": {},
   "outputs": [],
   "source": [
    "Data_complete[\"Area Name\"].replace({\"West LA\":\"West\", \n",
    "                                    \"77th Street\":\"South\",\n",
    "                                    \"Southwest\": \"South\",\n",
    "                                    \"Southeast\": \"South\",\n",
    "                                    \"Harbor\": \"South\",\n",
    "                                    \"Pacific\":\"West\",\n",
    "                                    \"Wilshire\":\"West\",\n",
    "                                    \"Olympic\":\"West\",\n",
    "                                    \"Hollywood\":\"West\",\n",
    "                                    \"Central\":\"Central\",\n",
    "                                    \"Hollenbeck\":\"Central\",\n",
    "                                    \"Newton\":\"Central\",\n",
    "                                    \"Northeast\":\"Central\",\n",
    "                                    \"Rampart\":\"Central\",\n",
    "                                    \"Devonshire\":\"Valley\",\n",
    "                                    \"Foothill\":\"Valley\",\n",
    "                                    \"Mission\":\"Valley\",\n",
    "                                    \"North\":\"Valley\",\n",
    "                                    \"Topanga\":\"Valley\",\n",
    "                                    \"Van Nuys\":\"Valley\",\n",
    "                                    \"West Valley\":\"Valley\",\n",
    "                                    \"N Hollywood\":\"Valley\",\n",
    "}, inplace= True)\n",
    "\n"
   ]
  },
  {
   "cell_type": "code",
   "execution_count": null,
   "metadata": {},
   "outputs": [],
   "source": [
    "# First, filter your DataFrame to include only the data for the years 2010 to 2019.\n",
    "pre_covid_data = Data_complete[(Data_complete['Crime Year'] >= 2010) & (Data_complete['Crime Year'] <= 2019)]\n",
    "\n",
    "\n",
    "# Then, group the filtered data by 'Area Name' and calculate the mean of 'DR Number' for each area.\n",
    "crime_mean_by_area = pre_covid_data.groupby('Area Name')['DR Number'].count()\n",
    "\n",
    "# Display the result.\n",
    "print((crime_mean_by_area)/10)"
   ]
  },
  {
   "cell_type": "code",
   "execution_count": null,
   "metadata": {},
   "outputs": [],
   "source": [
    "# First, filter your DataFrame to include only the data for the years 2020 and 2023.\n",
    "Covid_data_2020_2023 = Data_complete[(Data_complete['Crime Year'] >= 2020) & (Data_complete['Crime Year'] <= 2022)]\n",
    "Total_crime_2020_2022 = Covid_data_2020_2023.groupby('Area Name')['DR Number'].count()\n",
    "Total_crime_2020_2022/4\n"
   ]
  },
  {
   "cell_type": "code",
   "execution_count": null,
   "metadata": {},
   "outputs": [],
   "source": [
    "plt.figure(figsize=(15, 8))\n",
    "x_axis = ['Central', 'South', 'Valley', 'West']\n",
    "y_axis_1 = [37285, 40188, 54326,38842]\n",
    "y_axis_2 = [28695, 26556, 36296, 31088]\n",
    "\n",
    "\n",
    "\n",
    "\n",
    "width = 0.2  # Adjust the bar width to prevent overlap\n",
    "x_pos = np.arange(len(x_axis))\n",
    "\n",
    "\n",
    "plt.bar(x_pos - width/2, y_axis_1, width=width, alpha=0.8, color=\"r\", label=\"Crime Count 2010-2019\")\n",
    "plt.bar(x_pos + width/2, y_axis_2, width=width, alpha=0.8, color=\"b\", label=\"Crime Count 2020-2023\")\n",
    "\n",
    "\n",
    "plt.title(\"Crime per Area\")\n",
    "plt.ylabel(\"Crime Count\")\n",
    "plt.xlabel(\"Area Name\")\n",
    "tick_locations = [0, 1, 2, 3]\n",
    "plt.xticks(tick_locations, [\"Central\", \"South\", \"Valley\", \"West\"], rotation= 45)\n",
    "\n",
    "\n",
    "#plt.xticks(tick_locations,rotation=45)\n",
    "plt.legend()  # Add a legend to differentiate the two years\n",
    "plt.show()"
   ]
  },
  {
   "cell_type": "code",
   "execution_count": null,
   "metadata": {},
   "outputs": [],
   "source": [
    "crime_2020 = Data_complete[(Data_complete['Crime Year'] == 2020) ]\n"
   ]
  },
  {
   "cell_type": "code",
   "execution_count": null,
   "metadata": {},
   "outputs": [],
   "source": [
    "base_url = \"https://api.geoapify.com/v2/places\"\n",
    "base_url"
   ]
  },
  {
   "cell_type": "code",
   "execution_count": null,
   "metadata": {},
   "outputs": [],
   "source": [
    "\n",
    "\n",
    " # Configure the map\n",
    "Crime_map_2010_2019 = pre_covid_data .hvplot.points(\n",
    "    \"Longitude\",\n",
    "    \"Latitude\",\n",
    "    geo = True,\n",
    "    tiles = \"OSM\",\n",
    "    #alpha = 0.5,\n",
    "    frame_width = 800,\n",
    "    frame_height = 600,\n",
    "    size = \"Total\",\n",
    "    scale = 2.0,\n",
    "    color = \"Area Name\",\n",
    "    title = \"Crimes Per Area in Pre Covid Years\"\n",
    ")\n",
    "# Display the map plot\n",
    "Crime_map_2010_2019\n"
   ]
  },
  {
   "cell_type": "code",
   "execution_count": null,
   "metadata": {},
   "outputs": [],
   "source": [
    " # Configure the map\n",
    "Crime_map_covid_era = Covid_data_2020_2023 .hvplot.points(\n",
    "    \"Longitude\",\n",
    "    \"Latitude\",\n",
    "    geo = True,\n",
    "    tiles = \"OSM\",\n",
    "    #alpha = 0.5,\n",
    "    frame_width = 800,\n",
    "    frame_height = 600,\n",
    "    size = \"Total\",\n",
    "    scale = 2.0,\n",
    "    color = \"Area Name\",\n",
    "    title = \"Crimes Per Area During Covid Years\"\n",
    ")\n",
    "# Display the map plot\n",
    "Crime_map_covid_era\n"
   ]
  },
  {
   "cell_type": "code",
   "execution_count": null,
   "metadata": {},
   "outputs": [],
   "source": []
  },
  {
   "cell_type": "code",
   "execution_count": null,
   "metadata": {},
   "outputs": [],
   "source": []
  },
  {
   "cell_type": "code",
   "execution_count": null,
   "metadata": {},
   "outputs": [],
   "source": []
  },
  {
   "cell_type": "code",
   "execution_count": null,
   "metadata": {},
   "outputs": [],
   "source": []
  }
 ],
 "metadata": {
  "anaconda-cloud": {},
  "kernel_info": {
   "name": "python3"
  },
  "kernelspec": {
   "display_name": "Python 3 (ipykernel)",
   "language": "python",
   "name": "python3"
  },
  "language_info": {
   "codemirror_mode": {
    "name": "ipython",
    "version": 3
   },
   "file_extension": ".py",
   "mimetype": "text/x-python",
   "name": "python",
   "nbconvert_exporter": "python",
   "pygments_lexer": "ipython3",
   "version": "3.10.13"
  },
  "latex_envs": {
   "LaTeX_envs_menu_present": true,
   "autoclose": false,
   "autocomplete": true,
   "bibliofile": "biblio.bib",
   "cite_by": "apalike",
   "current_citInitial": 1,
   "eqLabelWithNumbers": true,
   "eqNumInitial": 1,
   "hotkeys": {
    "equation": "Ctrl-E",
    "itemize": "Ctrl-I"
   },
   "labels_anchors": false,
   "latex_user_defs": false,
   "report_style_numbering": false,
   "user_envs_cfg": false
  },
  "nteract": {
   "version": "0.8.4"
  },
  "vscode": {
   "interpreter": {
    "hash": "5384d77d82de63fd599f73e77f9ec786e7719288bf80a29ec0288c670ac3cf32"
   }
  }
 },
 "nbformat": 4,
 "nbformat_minor": 4
}
