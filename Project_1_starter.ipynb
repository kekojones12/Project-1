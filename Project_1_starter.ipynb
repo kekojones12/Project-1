{
 "cells": [
  {
   "attachments": {},
   "cell_type": "markdown",
   "metadata": {},
   "source": [
    "# Crime Data Analysis\n",
    "\n",
    "- Your analysis here\n",
    "  \n",
    "---"
   ]
  },
  {
   "cell_type": "code",
   "execution_count": null,
   "metadata": {},
   "outputs": [],
   "source": [
    "# Dependencies and Setup\n",
    "import pandas as pd\n",
    "from pathlib import Path\n",
    "import matplotlib.pyplot as plt\n",
    "import numpy as np\n",
    "from scipy import stats\n",
    "import hvplot.pandas\n",
    "\n",
    "# Files to Load\n",
    "data_2010_2019 = Path(\"Crime_Data_from_2010_to_2019 (1).csv\")\n",
    "data_2020_2023 = Path(\"Crime_Data_from_2020_to_Present_20231016.csv\")\n",
    "\n",
    "# Read data(2010-2019) and data (2020- present)Data File and store into Pandas DataFrames\n",
    "pre_covid_data = pd.read_csv(data_2010_2019)\n",
    "post_covid_data = pd.read_csv(data_2020_2023)\n",
    "\n",
    "# Combine the data into a single dataset.  \n",
    "Data_complete = pd.concat([pre_covid_data, post_covid_data], ignore_index=True)\n",
    "Data_complete.head()"
   ]
  },
  {
   "cell_type": "markdown",
   "metadata": {},
   "source": [
    "Data Cleaning\n"
   ]
  },
  {
   "cell_type": "code",
   "execution_count": null,
   "metadata": {},
   "outputs": [],
   "source": [
    "# Create a Year column from the dataframe\n",
    "Data_complete['Crime Year'] = pd.to_datetime(Data_complete['Date Rptd']).dt.year"
   ]
  },
  {
   "cell_type": "code",
   "execution_count": null,
   "metadata": {},
   "outputs": [],
   "source": [
    "# Remove unused columns\n",
    "Data_complete.drop(Data_complete.columns[[1, 2, 3, 4, 6, 7, 10, 14, 16, 17, 18, 19, 20, 21, 22, 23, 24, 25,28]], axis=1, inplace=True)"
   ]
  },
  {
   "cell_type": "code",
   "execution_count": null,
   "metadata": {},
   "outputs": [],
   "source": [
    "# Remove NaN entries\n",
    "Data_complete = Data_complete.dropna()\n",
    "\n",
    "# Clean data for duplicate crime records\n",
    "Data_complete = Data_complete.drop_duplicates(subset=['DR_NO'])\n",
    "\n",
    "# Remove unrecorded victim age data\n",
    "Data_complete = Data_complete[Data_complete['Vict Age'] > 0]"
   ]
  },
  {
   "cell_type": "code",
   "execution_count": null,
   "metadata": {},
   "outputs": [],
   "source": [
    "# Change the name of the columns to complete the data cleaning\n",
    "Data_complete.rename(columns={\n",
    "                    'DR_NO':'DR Number',\n",
    "                    'Crime Year': 'Crime Year',\n",
    "                    'AREA NAME': 'Area Name',\n",
    "                    'Crm Cd': 'Crime Code',\n",
    "                    'Crm Cd Desc':'Type of Crime',\n",
    "                    'Vict Age': 'Victim Age',\n",
    "                    'Vict Sex': 'Victim Gender',\n",
    "                    'Vict Descent': 'Victim Ethnicity',\n",
    "                    'Premis Desc': 'Scene of Crime',\n",
    "                    'LAT': 'Latitude',\n",
    "                    'LON': 'Longitude'\n",
    "                    \n",
    "},inplace= True)\n",
    "\n",
    "# Remove coordinates outside of Los Angeles\n",
    "Data_complete = Data_complete[(Data_complete['Longitude'] < -108) & (Data_complete['Longitude'] > -128)]\n",
    "Data_complete = Data_complete[(Data_complete['Latitude'] < 44) & (Data_complete['Latitude'] > 24)]\n",
    "\n",
    "Data_complete.head()"
   ]
  },
  {
   "cell_type": "markdown",
   "metadata": {},
   "source": [
    "## Data Analysis"
   ]
  },
  {
   "cell_type": "code",
   "execution_count": null,
   "metadata": {},
   "outputs": [],
   "source": [
    "count = len(Data_complete[\"DR Number\"])\n",
    "print(count)"
   ]
  },
  {
   "cell_type": "code",
   "execution_count": null,
   "metadata": {},
   "outputs": [],
   "source": [
    "unique_demo = Data_complete[\"Victim Ethnicity\"].value_counts()\n",
    "print(unique_demo)"
   ]
  },
  {
   "cell_type": "code",
   "execution_count": null,
   "metadata": {},
   "outputs": [],
   "source": [
    "unique_demo = Data_complete[\"Victim Ethnicity\"].value_counts()\n",
    "print(unique_demo)"
   ]
  },
  {
   "cell_type": "code",
   "execution_count": null,
   "metadata": {},
   "outputs": [],
   "source": [
    "unique_demo = Data_complete[\"Area Name\"].value_counts()\n",
    "print(unique_demo)"
   ]
  },
  {
   "cell_type": "markdown",
   "metadata": {},
   "source": [
    "## Annual Crime Analysis"
   ]
  },
  {
   "cell_type": "code",
   "execution_count": null,
   "metadata": {},
   "outputs": [],
   "source": [
    "# Get the total number of crimes by year\n",
    "yearly_total = Data_complete[\"DR Number\"].groupby(Data_complete[\"Crime Year\"]).count().reset_index()\n",
    "yearly_total.rename(columns={\"DR Number\": \"Total Crimes\"}, inplace=True)\n",
    "\n",
    "# Add a column that calculates the yearly rate of change in crime\n",
    "yearly_total['Percentage Change'] = yearly_total['Total Crimes'].pct_change() * 100\n",
    "\n",
    "# Convert NaN first row to a dash\n",
    "yearly_total['Percentage Change'].iloc[0] = '-'\n",
    "yearly_total.set_index('Crime Year', inplace=True)\n",
    "yearly_total"
   ]
  },
  {
   "cell_type": "code",
   "execution_count": null,
   "metadata": {},
   "outputs": [],
   "source": [
    "# Create a Summary Statistics table of the total crimes over the entire dataset\n",
    "yearly_sum_stats = yearly_total.describe()\n",
    "yearly_sum_stats"
   ]
  },
  {
   "cell_type": "code",
   "execution_count": null,
   "metadata": {},
   "outputs": [],
   "source": [
    "# Obtain the first and third quartiles\n",
    "Q1 = yearly_sum_stats.loc['25%']\n",
    "Q3 = yearly_sum_stats.loc['75%']\n",
    "\n",
    "# Calculate the IQR\n",
    "IQR = Q3 - Q1\n",
    "\n",
    "# Calculate the lower and upper bounds\n",
    "lower_bound = Q1 - 1.5 * IQR\n",
    "upper_bound = Q3 + 1.5 * IQR\n",
    "\n",
    "# Print lower and upper Bounds to find the range for determining outliers\n",
    "print(\"Lower Bound:\", lower_bound)\n",
    "print(\"Upper Bound:\", upper_bound)"
   ]
  },
  {
   "cell_type": "code",
   "execution_count": null,
   "metadata": {},
   "outputs": [],
   "source": [
    "# Bar plot of the total crime count over the length of the dataset\n",
    "yearly_total_plot = yearly_total\n",
    "mean_total = yearly_sum_stats.loc['mean', 'Total Crimes']\n",
    "\n",
    "# Use list comprehension to change the covid years to red\n",
    "covid_color = [\"r\" if year >= 2020 else \"b\" for year in yearly_total_plot.index]\n",
    "yearly_total_plot.plot.bar(y = \"Total Crimes\", \n",
    "                       color= covid_color,\n",
    "                       legend = False)\n",
    "\n",
    "plt.axhline(y=mean_total, color='black', linestyle='--')\n",
    "plt.text(9.5, 169000, \"Mean\")\n",
    "plt.xlabel(\"\")\n",
    "plt.xticks(rotation=45)\n",
    "plt.ylabel(\"Total Crimes by Year\")\n",
    "plt.title(\"Totals Crimes in Los Angeles (2010-2023)\")\n",
    "plt.savefig(\"output_data/TotalCrimeYTY.png\", bbox_inches=\"tight\")\n",
    "plt.show()"
   ]
  },
  {
   "cell_type": "code",
   "execution_count": null,
   "metadata": {},
   "outputs": [],
   "source": [
    "# Line graph showing the percentage change in total crimes year-to-year\n",
    "yearly_total_index_reset = yearly_total.reset_index()\n",
    "percent_plot = yearly_total_index_reset.iloc[1:]\n",
    "plt.figure(figsize=(7, 5))\n",
    "plt.plot(percent_plot[\"Crime Year\"], percent_plot[\"Percentage Change\"], marker='o', linestyle='-')\n",
    "plt.title(\"Percentage Change in Total Crimes (2010-2023)\")\n",
    "plt.xlabel(\"Year\")\n",
    "plt.ylabel(\"Percentage Change\")\n",
    "plt.xticks(percent_plot[\"Crime Year\"], rotation=45)\n",
    "plt.grid(True)\n",
    "plt.savefig(\"output_data/PercentChangeYTY.png\", bbox_inches=\"tight\")\n",
    "plt.show()"
   ]
  },
  {
   "cell_type": "code",
   "execution_count": null,
   "metadata": {},
   "outputs": [],
   "source": [
    "# Linear Regression plot\n",
    "slope, intercept, rvalue, pvalue, stderr = stats.linregress(yearly_total_index_reset[\"Crime Year\"], yearly_total_index_reset[\"Total Crimes\"])\n",
    "regress = yearly_total_index_reset[\"Crime Year\"] * slope + intercept\n",
    "line_eq = \"y = \" + str(round(slope,2)) + \"x +\" + str(round(intercept, 2))\n",
    "plt.scatter(yearly_total_index_reset[\"Crime Year\"], yearly_total_index_reset[\"Total Crimes\"])\n",
    "plt.plot(yearly_total_index_reset[\"Crime Year\"], regress, \"r-\")\n",
    "plt.xticks(yearly_total_index_reset[\"Crime Year\"], rotation=45)\n",
    "plt.ylabel(\"Total Crimes\")\n",
    "plt.title(\"Linear Regression Plot of Total Crime in Los Angeles (2010-2023)\")\n",
    "plt.annotate(line_eq, (min(yearly_total_index_reset[\"Crime Year\"]), max(yearly_total_index_reset[\"Total Crimes\"])-1), fontsize=12, color=\"red\")\n",
    "plt.savefig(\"output_data/LinearRegressionYTY.png\", bbox_inches=\"tight\")\n",
    "print(f\"The r-value is: {rvalue ** 2}\")\n",
    "print(f\"The p-value is: {pvalue}\")\n",
    "plt.show()"
   ]
  },
  {
   "cell_type": "code",
   "execution_count": null,
   "metadata": {},
   "outputs": [],
   "source": [
    "# T-Test of Pre-Covid and Covid-Era Total Crimes\n",
    "# Slice the dataframe to create Pre-Covid and Covid-Era\n",
    "pre_covid_slice = yearly_total_index_reset[(yearly_total_index_reset['Crime Year'] >= 2010) & (yearly_total_index_reset['Crime Year'] <= 2019)]\n",
    "covid_slice = yearly_total_index_reset[(yearly_total_index_reset['Crime Year'] >= 2020) & (yearly_total_index_reset['Crime Year'] <= 2023)]\n",
    "\n",
    "# Calculate the mean for before and after covid\n",
    "pre_covid_mean = pre_covid_slice['Total Crimes'].mean()\n",
    "covid_mean = covid_slice['Total Crimes'].mean()\n",
    "\n",
    "print(pre_covid_mean)\n",
    "print(covid_mean)\n",
    "# Perform a t-test to compare the means of the two groups\n",
    "stats.ttest_ind(pre_covid_slice['Total Crimes'], covid_slice['Total Crimes'], equal_var=False)"
   ]
  },
  {
   "cell_type": "code",
   "execution_count": null,
   "metadata": {},
   "outputs": [],
   "source": [
    "# Define function to pull the most common occurring value in each column\n",
    "def highest_occurance(column):\n",
    "    return column.value_counts().idxmax()\n",
    "\n",
    "# Group the data by 'Crime Year' and apply the most_frequent_value function to each column\n",
    "highest_occurance = Data_complete.groupby('Crime Year').agg({\n",
    "                    'Area Name': highest_occurance,\n",
    "                    'Crime Code': highest_occurance,\n",
    "                    'Type of Crime': highest_occurance,\n",
    "                    'Victim Age': highest_occurance,\n",
    "                    'Victim Gender': highest_occurance,\n",
    "                    'Victim Ethnicity': highest_occurance,\n",
    "                    'Scene of Crime': highest_occurance\n",
    "                    }).reset_index()"
   ]
  },
  {
   "cell_type": "code",
   "execution_count": null,
   "metadata": {},
   "outputs": [],
   "source": [
    "# Create Yearly Summary table by merging the two new yearly analysis dataframes\n",
    "yearly_summary_df = pd.merge(yearly_total, highest_occurance, on='Crime Year')\n",
    "yearly_summary_df.set_index('Crime Year', inplace=True)\n",
    "yearly_summary_df"
   ]
  },
  {
   "cell_type": "markdown",
   "metadata": {},
   "source": [
    "## Crimes Summary"
   ]
  },
  {
   "cell_type": "code",
   "execution_count": null,
   "metadata": {},
   "outputs": [],
   "source": [
    "Total_crime_count = len(Data_complete['DR Number'])\n",
    "Total_crime_count"
   ]
  },
  {
   "cell_type": "code",
   "execution_count": null,
   "metadata": {},
   "outputs": [],
   "source": [
    "# Calculate the total number of Crimes \n",
    "##Total_crime_count = Data_complete.len['Type of Crime']\n",
    "\n",
    "\n",
    "# unique kind of the crimes:\n",
    "#Kind_of_crimes = clean_crime_data.groupby([\"Crm Cd Desc\",\"crime_year\"], as_index = false).count()\n",
    "\n",
    "# Pick which highest frequency (5)\n",
    "#highest_frequency_crime = Kind_of_crimes.sort_values(ascending= False)\n",
    "\n",
    "# Inside the home and outside the home( COVID people were home)\n",
    "\n"
   ]
  },
  {
   "cell_type": "code",
   "execution_count": null,
   "metadata": {},
   "outputs": [],
   "source": [
    "#Plot a line graph showing the overall crimes trend change over the years\n",
    "#plot.line"
   ]
  },
  {
   "cell_type": "markdown",
   "metadata": {},
   "source": []
  },
  {
   "cell_type": "code",
   "execution_count": null,
   "metadata": {},
   "outputs": [],
   "source": [
    "# Calculate the kind of crimes (e.g different kind of crimes) per year??\n",
    "#the distribution of crime types over the years\n",
    "#clean_crime_data.loc(2017)\n",
    "#df_2017= \n",
    "#df_2018\n",
    "#df_2019\n",
    "#df_2020\n",
    "#df_2021\n",
    "#df_2022\n",
    "#crime_type\n"
   ]
  },
  {
   "cell_type": "code",
   "execution_count": null,
   "metadata": {},
   "outputs": [],
   "source": []
  },
  {
   "cell_type": "code",
   "execution_count": null,
   "metadata": {},
   "outputs": [],
   "source": [
    "# Create a dataframe with crime_type and year????\n",
    "#crime_summary = pd.DataFrame({\n",
    "    "
   ]
  },
  {
   "cell_type": "code",
   "execution_count": null,
   "metadata": {},
   "outputs": [],
   "source": [
    "# Plot a bar plot with multiple columns over the different years for total number of crimes(value count)\n"
   ]
  },
  {
   "cell_type": "code",
   "execution_count": null,
   "metadata": {},
   "outputs": [],
   "source": [
    "# Plot another histogram for average of pre covid and post covid crimes (Total and one for each crime)."
   ]
  },
  {
   "cell_type": "markdown",
   "metadata": {},
   "source": [
    "## Area Summary"
   ]
  },
  {
   "cell_type": "code",
   "execution_count": null,
   "metadata": {},
   "outputs": [],
   "source": [
    "#  select all of the different Areas\n"
   ]
  },
  {
   "cell_type": "code",
   "execution_count": null,
   "metadata": {},
   "outputs": [],
   "source": [
    "# Divide areas into Central, Valley, South, West"
   ]
  },
  {
   "cell_type": "code",
   "execution_count": null,
   "metadata": {},
   "outputs": [],
   "source": [
    "# Calculate the total crimes per area per year\n",
    "per_area_crime_counts = "
   ]
  },
  {
   "cell_type": "code",
   "execution_count": null,
   "metadata": {},
   "outputs": [],
   "source": [
    "#calculate crime types per area\n",
    "# Five highest crimes "
   ]
  },
  {
   "cell_type": "code",
   "execution_count": null,
   "metadata": {},
   "outputs": [],
   "source": [
    "# Geoplot the area "
   ]
  },
  {
   "cell_type": "code",
   "execution_count": null,
   "metadata": {},
   "outputs": [],
   "source": [
    "# Make a data frame with Columns for Average crime per area\n",
    "\n",
    "\n",
    "# Display Data Frame"
   ]
  },
  {
   "cell_type": "code",
   "execution_count": null,
   "metadata": {},
   "outputs": [],
   "source": [
    "# Highest Crime Area(By Total Crimes)"
   ]
  },
  {
   "cell_type": "code",
   "execution_count": null,
   "metadata": {},
   "outputs": [],
   "source": [
    "# Lowest Crime Area (By Total Crime)"
   ]
  },
  {
   "cell_type": "code",
   "execution_count": null,
   "metadata": {},
   "outputs": [],
   "source": [
    "#Bar chart four areas, four years and total number of crimes"
   ]
  },
  {
   "cell_type": "code",
   "execution_count": null,
   "metadata": {},
   "outputs": [],
   "source": [
    "# Identify Hot Spots\n",
    "#Crime in each area acroos the years"
   ]
  },
  {
   "cell_type": "code",
   "execution_count": null,
   "metadata": {},
   "outputs": [],
   "source": [
    "# Any change in the Hot spots overs the years\n"
   ]
  },
  {
   "cell_type": "markdown",
   "metadata": {},
   "source": [
    "### Female Vs Male Victims"
   ]
  },
  {
   "cell_type": "code",
   "execution_count": null,
   "metadata": {},
   "outputs": [],
   "source": [
    "# Generate a pie plot showing the distribution of female versus male victims using Pandas\n",
    "gender_counts = Data_complete['Victim Gender'].value_counts()\n",
    "grouped_crimes = {}\n",
    "\n",
    "# Create a pie plot\n",
    "plt.figure(figsize=(6, 6))\n",
    "plt.pie(gender_counts, labels=gender_counts.index, autopct='%1.1f%%', startangle=140)\n",
    "plt.title('Distribution of Male vs. Female Victims')\n",
    "plt.axis('equal')  # Equal aspect ratio ensures that pie is drawn as a circle\n",
    "\n",
    "# Display the plot\n",
    "plt.show()\n",
    "\n",
    "#NEED VICTIM GENDER CLEANED"
   ]
  },
  {
   "cell_type": "markdown",
   "metadata": {},
   "source": [
    "#Types of Crime: Distribution of Types of Crime, Age vs Type of Crime, Sex vs Type of Crime"
   ]
  },
  {
   "cell_type": "code",
   "execution_count": null,
   "metadata": {},
   "outputs": [],
   "source": [
    "#Count all of the unique values in 'Types of Crime' column\n",
    "crime_counts = Data_complete['Type of Crime'].value_counts()\n",
    "print(crime_counts)"
   ]
  },
  {
   "cell_type": "code",
   "execution_count": null,
   "metadata": {},
   "outputs": [],
   "source": [
    "#find all the unique values in 'Types of Crime' column\n",
    "for Crimes in Data_complete['Type of Crime']:\n",
    "    print(Crimes)\n",
    "\n",
    "# add to csv and save\n",
    "import csv\n",
    "types_of_crime = Data_complete['Type of Crime']\n",
    "\n",
    "with open('Types_of_Crimes_list.csv', 'w') as f:\n",
    "    types_of_crime.to_csv(f, header=False)\n",
    "\n",
    "\n"
   ]
  },
  {
   "cell_type": "code",
   "execution_count": null,
   "metadata": {},
   "outputs": [],
   "source": [
    "def categorize_crime(crime):\n",
    "    def categorize_abortion_illegal(crime):\n",
    "        abortion_illegal_keywords = [\n",
    "            \"ABORTION/ILLEGAL\",\n",
    "            # Add more keywords related to \"Abortion/Illegal\" here\n",
    "        ]\n",
    "        for keyword in abortion_illegal_keywords:\n",
    "            if keyword in crime:\n",
    "                return \"ABORTION\"\n",
    "        return None\n",
    "        pass\n",
    "   #-------------------------------------------- \n",
    "    def categorize_theft(crime):\n",
    "        theft_keywords = [\n",
    "            \"ATTEMPTED ROBBERY\",\n",
    "            \"BIKE - ATTEMPTED STOLEN\",\n",
    "            \"BIKE - STOLEN\",\n",
    "            \"BOAT - STOLEN\",\n",
    "            \"BUNCO, ATTEMPT\",\n",
    "            \"BUNCO, GRAND THEFT\",\n",
    "            \"BUNCO, PETTY THEFT\",\n",
    "            \"BURGLARY\",\n",
    "            \"BURGLARY FROM VEHICLE\",\n",
    "            \"BURGLARY FROM VEHICLE, ATTEMPTED\",\n",
    "            \"BURGLARY, ATTEMPTED\",\n",
    "            \"COUNTERFEIT\",\n",
    "            \"CREDIT CARDS, FRAUD USE ($950 & UNDER\",\n",
    "            \"CREDIT CARDS, FRAUD USE ($950.01 & OVER)\",\n",
    "            \"DEFRAUDING INNKEEPER/THEFT OF SERVICES, $950 & UNDER\",\n",
    "            \"DEFRAUDING INNKEEPER/THEFT OF SERVICES, OVER $950.01\",\n",
    "            \"DISHONEST EMPLOYEE - GRAND THEFT\",\n",
    "            \"DISHONEST EMPLOYEE - PETTY THEFT\",\n",
    "            \"DISHONEST EMPLOYEE ATTEMPTED THEFT\",\n",
    "            \"DOCUMENT FORGERY / STOLEN FELONY\",\n",
    "            \"EMBEZZLEMENT, GRAND THEFT ($950.01 & OVER)\",\n",
    "            \"EMBEZZLEMENT, PETTY THEFT ($950 & UNDER)\",\n",
    "            \"GRAND THEFT / AUTO REPAIR\",\n",
    "            \"GRAND THEFT / INSURANCE FRAUD\",\n",
    "            \"PETTY THEFT - AUTO REPAIR\",\n",
    "            \"PICKPOCKET\",\n",
    "            \"PICKPOCKET, ATTEMPT\",\n",
    "            \"PURSE SNATCHING\",\n",
    "            \"PURSE SNATCHING - ATTEMPT\",\n",
    "            \"ROBBERY\",\n",
    "            \"SHOPLIFTING - ATTEMPT\",\n",
    "            \"SHOPLIFTING - PETTY THEFT ($950 & UNDER)\",\n",
    "            \"SHOPLIFTING-GRAND THEFT ($950.01 & OVER)\",\n",
    "            \"THEFT FROM MOTOR VEHICLE - ATTEMPT\",\n",
    "            \"THEFT FROM MOTOR VEHICLE - GRAND ($950.01 AND OVER)\",\n",
    "            \"THEFT FROM MOTOR VEHICLE - PETTY ($950 & UNDER)\",\n",
    "            \"THEFT FROM PERSON - ATTEMPT\",\n",
    "            \"THEFT OF IDENTITY\",\n",
    "            \"THEFT PLAIN - ATTEMPT\",\n",
    "            \"THEFT PLAIN - PETTY ($950 & UNDER)\",\n",
    "            \"THEFT, COIN MACHINE - ATTEMPT\",\n",
    "            \"THEFT, COIN MACHINE - GRAND ($950.01 & OVER)\",\n",
    "            \"THEFT, COIN MACHINE - PETTY ($950 & UNDER)\",\n",
    "            \"THEFT, PERSON\",\n",
    "            \"THEFT-GRAND ($950.01 & OVER)EXCPT,GUNS,FOWL,LIVESTK,PROD\",\n",
    "            \"VEHICLE - ATTEMPT STOLEN\",\n",
    "            \"VEHICLE - STOLEN\",\n",
    "            \"VEHICLE, STOLEN - OTHER (MOTORIZED SCOOTERS, BIKES, ETC)\",\n",
    "            \"DOCUMENT FORGERY / STOLEN FELONY\",\n",
    "            \"DOCUMENT WORTHLESS ($200 & UNDER)\",\n",
    "            \"DOCUMENT WORTHLESS ($200.01 & OVER)\",\n",
    "\n",
    "\n",
    "\n",
    "            # Add more keywords related to \"Abortion/Illegal\" here\n",
    "        ]\n",
    "\n",
    "        for keyword in theft_keywords:\n",
    "            if keyword in crime:\n",
    "                return \"THEFT\"\n",
    "        return None\n",
    "        pass\n",
    "    #-------------------------------------------\n",
    "    def categorize_assault(crime):\n",
    "        assault_keywords = [\"ASSAULT WITH DEADLY WEAPON ON POLICE OFFICER\",\n",
    "            \"ASSAULT WITH DEADLY WEAPON, AGGRAVATED ASSAULT\",\n",
    "            \"BATTERY - SIMPLE ASSAULT\",\n",
    "            \"BATTERY ON A FIREFIGHTER\",\n",
    "            \"BATTERY POLICE (SIMPLE)\",\n",
    "            \"OTHER ASSAULT\",\n",
    "\n",
    "\n",
    "\n",
    "\n",
    "        ]\n",
    "\n",
    "        for keyword in assault_keywords:\n",
    "            if keyword in crime:\n",
    "                return \"ASSAULT\"\n",
    "        return None\n",
    "        \n",
    "   #-------------------------------------------- \n",
    "    def categorize_sex_offenses(crime):\n",
    "        sexual_offenses_keywords = [\"SODOMY/SEXUAL CONTACT B/W PENIS OF ONE PERS TO ANUS OTH\",\n",
    "            \"SEX OFFENDER REGISTRANT OUT OF COMPLIANCE\",\n",
    "            \"SEX,UNLAWFUL(INC MUTUAL CONSENT, PENETRATION W/ FRGN OBJ\",\n",
    "            \"SEXUAL PENETRATION W/FOREIGN OBJECT\",\n",
    "            \"RAPE, ATTEMPTED\",\n",
    "            \"RAPE, FORCIBLE\",\n",
    "            \"PIMPING\",\n",
    "            \"PROWLER\",\n",
    "            \"PEEPING TOM\",\n",
    "            \"ORAL COPULATION\",\n",
    "            \"LEWD CONDUCT\",\n",
    "            \"LEWD/LASCIVIOUS ACTS WITH CHILD\",\n",
    "            \"LETTERS, LEWD  -  TELEPHONE CALLS, LEWD\",\n",
    "            \"INDECENT EXPOSURE\",\n",
    "            \"INCEST (SEXUAL ACTS BETWEEN BLOOD RELATIVES)\",\n",
    "            \"HUMAN TRAFFICKING - COMMERCIAL SEX ACTS\",\n",
    "            \"BEASTIALITY, CRIME AGAINST NATURE SEXUAL ASSLT WITH ANIM\",\n",
    "            \"BATTERWITH SEXUAL CONTACT\",\n",
    "        ]\n",
    "\n",
    "        for keyword in sexual_offenses_keywords:\n",
    "            if keyword in crime:\n",
    "                return \"SEXUAL OFFENSES\"\n",
    "        pass\n",
    "        return None\n",
    "        \n",
    "#--------------------------------------------------------\n",
    "    def categorize_domestic_violence(crime):\n",
    "        domestic_violence_keywords = [\"INTIMATE PARTNER - AGGRAVATED\",\n",
    "                                      \"INTIMATE PARTNER - SIMPLE\",\n",
    "        ]\n",
    "\n",
    "        for keyword in domestic_violence_keywords:\n",
    "            if keyword in crime:\n",
    "                return \"DOMESTIC VIOLENCE\"\n",
    "        return None\n",
    "     #--------------------------------------------------------       \n",
    "    def categorize_child_abuse(crime):\n",
    "        child_abuse_keywords = [\"CHILD ABANDONMENT\",\n",
    "                    \"CHILD ABUSE (SEXUAL)\",\n",
    "                    \"CHILD ABUSE (PHYSICAL)\",\n",
    "                    \"CHILD ANNOYING (17YRS & UNDER)\",\n",
    "                    \"CHILD NEGLECT (SEE 300 W.I.C.)\",\n",
    "                    \"CHILD PORNOGRAPHY\",\n",
    "                    \"CHILD STEALING\",\n",
    "                    \"CRM AGNST CHLD (13 OR UNDER) (14-15 & SUSP 10 YRS OLDER)\",\n",
    "        ]\n",
    "        for keyword in child_abuse_keywords:\n",
    "            if keyword in crime:\n",
    "                return \"CHILD ABUSE\"\n",
    "        return None\n",
    "#------------------------------------------------------------------\n",
    "    def categorize_homicide(crime):\n",
    "        homicide_keywords = [\"CRIMINAL HOMICIDE\",\n",
    "                             \"MANSLAUGHTER, NEGLIGENT\",\n",
    "                             \"LYNCHING\",\n",
    "                             \"LYNCHING - ATTEMPTED\",\n",
    "\n",
    "\n",
    "        ]\n",
    "        for keyword in homicide_keywords:\n",
    "            if keyword in crime:\n",
    "                return \"HOMICIDE\"\n",
    "            \n",
    "        return None\n",
    "    #--------------------------------------------------------        \n",
    "    def categorize_drugs(crime):\n",
    "        drugs_keywords = [\"DRUGS, TO A MINOR\",\n",
    "                          \"DRUNK ROLL\",\n",
    "                          \"DRUNK ROLL - ATTEMPT\",\n",
    "        ]\n",
    "\n",
    "        for keyword in drugs_keywords:\n",
    "            if keyword in crime:\n",
    "                return \"DRUG & ALCOHOL OFFENSES\"\n",
    "        return None\n",
    "    #--------------------------------------------------------\n",
    "    \n",
    "    def categorize_other(crime):\n",
    "        other_keywords = [\n",
    "                        \"VANDALISM\",\n",
    "                        \"BIGAMY\",\n",
    "                \"BLOCKING DOOR INDUCTION CENTER\",\n",
    "                \"BOMB SCARE\",\n",
    "                \"BRIBERY\",\n",
    "                \"CONSPIRACY\",\n",
    "                \"CONTEMPT OF COURT\",\n",
    "                \"CONTRIBUTING\",\n",
    "                \"CRUELTY TO ANIMALS\",\n",
    "                \"CRIMINAL THREATS - NO WEAPON DISPLAYED\",\n",
    "                \"DISRUPT SCHOOL\",\n",
    "                \"DISTURBING THE PEACE\",\n",
    "                \"EXTORTION\",\n",
    "                \"FAILURE TO DISPERSE\",\n",
    "                \"FAILURE TO YIELD\",\n",
    "                \"FALSE IMPRISONMENT\",\n",
    "                \"FALSE POLICE REPORT\",\n",
    "                \"OTHER MISCELLANEOUS CRIME\",\n",
    "                \"ILLEGAL DUMPING\",\n",
    "                \"RESISTING ARREST\",\n",
    "                \"TELEPHONE PROPERTY - DAMAGE\",\n",
    "                \"THREATENING PHONE CALLS/LETTERS\",\n",
    "                \"TRAIN WRECKING\",\n",
    "                \"TRESPASSING\",\n",
    "                \"UNAUTHORIZED COMPUTER ACCESS\",\n",
    "                \"VIOLATION OF COURT ORDER\",\n",
    "                \"VIOLATION OF RESTRAINING ORDER\",\n",
    "                \"VIOLATION OF TEMPORARY RESTRAINING ORDER\",\n",
    "                \"FIREARMS EMERGENCY PROTECTIVE ORDER (FIREARMS EPO)\",\n",
    "\"FIREARMS RESTRAINING ORDER (FIREARMS RO)\",\n",
    "\"FIREARMS TEMPORARY RESTRAINING ORDER (TEMP FIREARMS RO)\",\n",
    "\"INCITING A RIOT\",\n",
    "\"DRIVING WITHOUT OWNER CONSENT (DWOC)\",\n",
    "\"RECKLESS DRIVING\",\n",
    "\"STALKING\",\n",
    "\"THROWING OBJECT AT MOVING VEHICLE\",\n",
    "\"ARSON\",\n",
    "\n",
    "\n",
    "\n",
    "\n",
    "                    # Add more keywords for other categories here\n",
    "        ]\n",
    "\n",
    "        for keyword in other_keywords:\n",
    "            if keyword in crime:\n",
    "                return \"OTHER\"\n",
    "        return None\n",
    "    #--------------------------------------------------------\n",
    "    def categorize_weapons_charges(crime):\n",
    "        weapons_charges_keywords = [\"ASSAULT WITH DEADLY WEAPON ON POLICE OFFICER\",\n",
    "                                    \"BRANDISH WEAPON\",\n",
    "                                    \"REPLICA FIREARMS(SALE,DISPLAY,MANUFACTURE OR DISTRIBUTE)\",\n",
    "\"SHOTS FIRED AT INHABITED DWELLING\",\n",
    "\"SHOTS FIRED AT MOVING VEHICLE, TRAIN OR AIRCRAFT\",\n",
    "\"WEAPONS POSSESSION/BOMBING\",\n",
    "        ]\n",
    "        for keyword in weapons_charges_keywords:\n",
    "            if keyword in crime:\n",
    "                return \"WEAPONS CHARGES\"\n",
    "        return None\n",
    "    #--------------------------------------------------------        \n",
    "    def categorize_vandalism(crime):\n",
    "        vandalism_keywords = [\"VANDALISM - FELONY ($400 & OVER, ALL CHURCH VANDALISMS)\",\"VANDALISM - MISDEAMEANOR ($399 OR UNDER)\",]\n",
    "        for keyword in vandalism_keywords:\n",
    "            if keyword in crime:\n",
    "                return \"VANDALISM\"\n",
    "        return None\n",
    "#------------------------------------------------------------------\n",
    "    def categorize_kidnapping(crime):\n",
    "        kidnapping_keywords = [\"KIDNAPPING\",\n",
    "                               \"KIDNAPPING - GRAND ATTEMPT\",\n",
    "                               \"HUMAN TRAFFICKING - INVOLUNTARY SERVITUDE\",\n",
    "\n",
    "        ]\n",
    "        for keyword in kidnapping_keywords:\n",
    "            if keyword in crime:\n",
    "                return \"KIDNAPPING\"\n",
    "        return None\n",
    "\n",
    "\n",
    "\n",
    "\n",
    "    category = categorize_theft(crime) or categorize_abortion_illegal(crime) or categorize_assault(crime) or categorize_vandalism(crime) or categorize_child_abuse(crime) or categorize_domestic_violence(crime) or categorize_drugs(crime) or categorize_homicide(crime) or categorize_kidnapping(crime) or categorize_sex_offenses(crime) or categorize_weapons_charges(crime) or categorize_other(crime)\n",
    "    if category:\n",
    "        return category\n",
    "    \n",
    "    \n",
    "    else:\n",
    "        category = categorize_other(crime)\n",
    "        if category:\n",
    "            return category\n",
    "    return \"Uncategorized\"\n",
    "\n",
    "# List of crime descriptions\n",
    "crime_descriptions = [\"ABORTION/ILLEGAL\",\n",
    "\"ARSON\",\n",
    "\"ASSAULT WITH DEADLY WEAPON ON POLICE OFFICER\",\n",
    "\"ASSAULT WITH DEADLY WEAPON, AGGRAVATED ASSAULT\",\n",
    "\"ATTEMPTED ROBBERY\",\n",
    "\"BATTERY - SIMPLE ASSAULT\",\n",
    "\"BATTERY ON A FIREFIGHTER\",\n",
    "\"BATTERY POLICE (SIMPLE)\",\n",
    "\"BATTERWITH SEXUAL CONTACT\",\n",
    "\"BEASTIALITY, CRIME AGAINST NATURE SEXUAL ASSLT WITH ANIM\",\n",
    "\"BIGAMY\",\n",
    "\"BIKE - ATTEMPTED STOLEN\",\n",
    "\"BIKE - STOLEN\",\n",
    "\"BLOCKING DOOR INDUCTION CENTER\",\n",
    "\"BOAT - STOLEN\",\n",
    "\"BOMB SCARE\",\n",
    "\"BRANDISH WEAPON\",\n",
    "\"BRIBERY\",\n",
    "\"BUNCO, ATTEMPT\",\n",
    "\"BUNCO, GRAND THEFT\",\n",
    "\"BUNCO, PETTY THEFT\",\n",
    "\"BURGLARY\",\n",
    "\"BURGLARY FROM VEHICLE\",\n",
    "\"BURGLARY FROM VEHICLE, ATTEMPTED\",\n",
    "\"BURGLARY, ATTEMPTED\",\n",
    "\"CHILD ABANDONMENT\",\n",
    "\"CHILD ABUSE (PHYSICAL)\",\n",
    "\"CHILD ABUSE (PHYSICAL)\",\n",
    "\"CHILD ANNOYING (17YRS & UNDER)\",\n",
    "\"CHILD NEGLECT (SEE 300 W.I.C.)\",\n",
    "\"CHILD PORNOGRAPHY\",\n",
    "\"CHILD STEALING\",\n",
    "\"CONSPIRACY\",\n",
    "\"CONTEMPT OF COURT\",\n",
    "\"CONTRIBUTING\",\n",
    "\"COUNTERFEIT\",\n",
    "\"CREDIT CARDS, FRAUD USE ($950 & UNDER\",\n",
    "\"CREDIT CARDS, FRAUD USE ($950.01 & OVER)\",\n",
    "\"CRIMINAL HOMICIDE\",\n",
    "\"CRIMINAL THREATS - NO WEAPON DISPLAYED\",\n",
    "\"CRM AGNST CHLD (13 OR UNDER) (14-15 & SUSP 10 YRS OLDER)\",\n",
    "\"CRUELTY TO ANIMALS\",\n",
    "\"DEFRAUDING INNKEEPER/THEFT OF SERVICES, $950 & UNDER\",\n",
    "\"DEFRAUDING INNKEEPER/THEFT OF SERVICES, OVER $950.01\",\n",
    "\"DISCHARGE FIREARMS/SHOTS FIRED\",\n",
    "\"DISHONEST EMPLOYEE - GRAND THEFT\",\n",
    "\"DISHONEST EMPLOYEE - PETTY THEFT\",\n",
    "\"DISHONEST EMPLOYEE ATTEMPTED THEFT\",\n",
    "\"DISRUPT SCHOOL\",\n",
    "\"DISTURBING THE PEACE\",\n",
    "\"DOCUMENT FORGERY / STOLEN FELONY\",\n",
    "\"DOCUMENT WORTHLESS ($200 & UNDER)\",\n",
    "\"DOCUMENT WORTHLESS ($200.01 & OVER)\",\n",
    "\"DRIVING WITHOUT OWNER CONSENT (DWOC)\",\n",
    "\"DRUGS, TO A MINOR\",\n",
    "\"DRUNK ROLL\",\n",
    "\"DRUNK ROLL - ATTEMPT\",\n",
    "\"EMBEZZLEMENT, GRAND THEFT ($950.01 & OVER)\",\n",
    "\"EMBEZZLEMENT, PETTY THEFT ($950 & UNDER)\",\n",
    "\"EXTORTION\",\n",
    "\"FAILURE TO DISPERSE\",\n",
    "\"FAILURE TO YIELD\",\n",
    "\"FALSE IMPRISONMENT\",\n",
    "\"FALSE POLICE REPORT\",\n",
    "\"FIREARMS EMERGENCY PROTECTIVE ORDER (FIREARMS EPO)\",\n",
    "\"FIREARMS RESTRAINING ORDER (FIREARMS RO)\",\n",
    "\"FIREARMS TEMPORARY RESTRAINING ORDER (TEMP FIREARMS RO)\",\n",
    "\"GRAND THEFT / AUTO REPAIR\",\n",
    "\"GRAND THEFT / INSURANCE FRAUD\",\n",
    "\"HUMAN TRAFFICKING - COMMERCIAL SEX ACTS\",\n",
    "\"HUMAN TRAFFICKING - INVOLUNTARY SERVITUDE\",\n",
    "\"ILLEGAL DUMPING\",\n",
    "\"INCEST (SEXUAL ACTS BETWEEN BLOOD RELATIVES)\",\n",
    "\"INCITING A RIOT\",\n",
    "\"INDECENT EXPOSURE\",\n",
    "\"INTIMATE PARTNER - AGGRAVATED\",\n",
    "\"INTIMATE PARTNER - SIMPLE\",\n",
    "\"KIDNAPPING\",\n",
    "\"KIDNAPPING - GRAND ATTEMPT\",\n",
    "\"LETTERS, LEWD  -  TELEPHONE CALLS, LEWD\",\n",
    "\"LEWD CONDUCT\",\n",
    "\"LEWD/LASCIVIOUS ACTS WITH CHILD\",\n",
    "\"LYNCHING\",\n",
    "\"LYNCHING - ATTEMPTED\",\n",
    "\"MANSLAUGHTER, NEGLIGENT\",\n",
    "\"ORAL COPULATION\",\n",
    "\"OTHER ASSAULT\",\n",
    "\"OTHER MISCELLANEOUS CRIME\",\n",
    "\"PANDERING\",\n",
    "\"PEEPING TOM\",\n",
    "\"PETTY THEFT - AUTO REPAIR\",\n",
    "\"PICKPOCKET\",\n",
    "\"PICKPOCKET, ATTEMPT\",\n",
    "\"PIMPING\",\n",
    "\"PROWLER\",\n",
    "\"PURSE SNATCHING\",\n",
    "\"PURSE SNATCHING - ATTEMPT\",\n",
    "\"RAPE, ATTEMPTED\",\n",
    "\"RAPE, FORCIBLE\",\n",
    "\"RECKLESS DRIVING\",\n",
    "\"REPLICA FIREARMS(SALE,DISPLAY,MANUFACTURE OR DISTRIBUTE)\",\n",
    "\"RESISTING ARREST\",\n",
    "\"ROBBERY\",\n",
    "\"SEX OFFENDER REGISTRANT OUT OF COMPLIANCE\",\n",
    "\"SEX,UNLAWFUL(INC MUTUAL CONSENT, PENETRATION W/ FRGN OBJ\",\n",
    "\"SEXUAL PENETRATION W/FOREIGN OBJECT\",\n",
    "\"SHOPLIFTING - ATTEMPT\",\n",
    "\"SHOPLIFTING - PETTY THEFT ($950 & UNDER)\",\n",
    "\"SHOPLIFTING-GRAND THEFT ($950.01 & OVER)\",\n",
    "\"SHOTS FIRED AT INHABITED DWELLING\",\n",
    "\"SHOTS FIRED AT MOVING VEHICLE, TRAIN OR AIRCRAFT\",\n",
    "\"SODOMY/SEXUAL CONTACT B/W PENIS OF ONE PERS TO ANUS OTH\",\n",
    "\"STALKING\",\n",
    "\"TELEPHONE PROPERTY - DAMAGE\",\n",
    "\"THEFT FROM MOTOR VEHICLE - ATTEMPT\",\n",
    "\"THEFT FROM MOTOR VEHICLE - GRAND ($950.01 AND OVER)\",\n",
    "\"THEFT FROM MOTOR VEHICLE - PETTY ($950 & UNDER)\",\n",
    "\"THEFT FROM PERSON - ATTEMPT\",\n",
    "\"THEFT OF IDENTITY\",\n",
    "\"THEFT PLAIN - ATTEMPT\",\n",
    "\"THEFT PLAIN - PETTY ($950 & UNDER)\",\n",
    "\"THEFT, COIN MACHINE - ATTEMPT\",\n",
    "\"THEFT, COIN MACHINE - GRAND ($950.01 & OVER)\",\n",
    "\"THEFT, COIN MACHINE - PETTY ($950 & UNDER)\",\n",
    "\"THEFT, PERSON\",\n",
    "\"THEFT-GRAND ($950.01 & OVER)EXCPT,GUNS,FOWL,LIVESTK,PROD\",\n",
    "\"THREATENING PHONE CALLS/LETTERS\",\n",
    "\"THROWING OBJECT AT MOVING VEHICLE\",\n",
    "\"TILL TAP - GRAND THEFT ($950.01 & OVER)\",\n",
    "\"TILL TAP - PETTY ($950 & UNDER)\",\n",
    "\"TRAIN WRECKING\",\n",
    "\"TRESPASSING\",\n",
    "\"UNAUTHORIZED COMPUTER ACCESS\",\n",
    "\"VANDALISM - FELONY ($400 & OVER, ALL CHURCH VANDALISMS)\",\n",
    "\"VANDALISM - MISDEAMEANOR ($399 OR UNDER)\",\n",
    "\"VEHICLE - ATTEMPT STOLEN\",\n",
    "\"VEHICLE - STOLEN\",\n",
    "\"VEHICLE, STOLEN - OTHER (MOTORIZED SCOOTERS, BIKES, ETC)\",\n",
    "\"VIOLATION OF COURT ORDER\",\n",
    "\"VIOLATION OF RESTRAINING ORDER\",\n",
    "\"VIOLATION OF TEMPORARY RESTRAINING ORDER\",\n",
    "\"WEAPONS POSSESSION/BOMBING\",\n",
    "\n",
    "\n",
    "]\n",
    "\n",
    "# Categorize each crime description\n",
    "crime_categories = [categorize_crime(crime) for crime in crime_descriptions]\n",
    "\n",
    "# Print the categorized crimes\n",
    "for i in range(len(crime_descriptions)):\n",
    "    print(f\"Crime: {crime_descriptions[i]} - Category: {crime_categories[i]}\")\n"
   ]
  },
  {
   "cell_type": "code",
   "execution_count": null,
   "metadata": {},
   "outputs": [],
   "source": [
    "df = pd.DataFrame(crime_categories)\n",
    "df.rename(columns={0: 'CRIME CATEGORY'}, inplace=True)\n",
    "df.head()\n",
    "\n",
    "plt.figure(figsize=(10, 6))\n",
    "plt.pie(df['CRIME CATEGORY'].value_counts(), labels=df['CRIME CATEGORY'].value_counts().index, autopct='%1.1f%%', startangle=140)\n",
    "plt.title('Distribution of Crime Categories')\n",
    "plt.xlabel('Crime Category')\n",
    "plt.ylabel('Number of Crimes')\n",
    "\n",
    "plt.show()"
   ]
  },
  {
   "cell_type": "markdown",
   "metadata": {},
   "source": [
    "### Victim Race "
   ]
  },
  {
   "cell_type": "markdown",
   "metadata": {},
   "source": [
    "# Child Abuse compare over the years"
   ]
  },
  {
   "cell_type": "markdown",
   "metadata": {},
   "source": [
    "## Change in crime spot"
   ]
  },
  {
   "cell_type": "code",
   "execution_count": null,
   "metadata": {},
   "outputs": [],
   "source": [
    "#Splitting race by groups: Black, White, Hispanics, Asians"
   ]
  },
  {
   "cell_type": "code",
   "execution_count": null,
   "metadata": {},
   "outputs": [],
   "source": [
    "#Splitting premise into 4 categories: Commercial, residential, industrial and outdoors\n",
    "# using Bins"
   ]
  },
  {
   "cell_type": "code",
   "execution_count": null,
   "metadata": {},
   "outputs": [],
   "source": []
  },
  {
   "cell_type": "code",
   "execution_count": null,
   "metadata": {},
   "outputs": [],
   "source": [
    "#Percentage of increase and decrease in crimes over the years\n",
    "Total_crime_count groupbyyear (count)"
   ]
  },
  {
   "cell_type": "code",
   "execution_count": null,
   "metadata": {},
   "outputs": [],
   "source": [
    " #How has crime changed over the years?\n",
    " \n",
    " Line graphs "
   ]
  }
 ],
 "metadata": {
  "anaconda-cloud": {},
  "kernel_info": {
   "name": "python3"
  },
  "kernelspec": {
   "display_name": "Python 3 (ipykernel)",
   "language": "python",
   "name": "python3"
  },
  "language_info": {
   "codemirror_mode": {
    "name": "ipython",
    "version": 3
   },
   "file_extension": ".py",
   "mimetype": "text/x-python",
   "name": "python",
   "nbconvert_exporter": "python",
   "pygments_lexer": "ipython3",
   "version": "3.10.13"
  },
  "latex_envs": {
   "LaTeX_envs_menu_present": true,
   "autoclose": false,
   "autocomplete": true,
   "bibliofile": "biblio.bib",
   "cite_by": "apalike",
   "current_citInitial": 1,
   "eqLabelWithNumbers": true,
   "eqNumInitial": 1,
   "hotkeys": {
    "equation": "Ctrl-E",
    "itemize": "Ctrl-I"
   },
   "labels_anchors": false,
   "latex_user_defs": false,
   "report_style_numbering": false,
   "user_envs_cfg": false
  },
  "nteract": {
   "version": "0.8.4"
  },
  "vscode": {
   "interpreter": {
    "hash": "5384d77d82de63fd599f73e77f9ec786e7719288bf80a29ec0288c670ac3cf32"
   }
  }
 },
 "nbformat": 4,
 "nbformat_minor": 4
}
