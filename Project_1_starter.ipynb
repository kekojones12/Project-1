{
 "cells": [
  {
   "attachments": {},
   "cell_type": "markdown",
   "metadata": {},
   "source": [
    "# Crime Data Analysis\n",
    "\n",
    "- Your analysis here\n",
    "  \n",
    "---"
   ]
  },
  {
   "cell_type": "code",
   "execution_count": 2,
   "metadata": {},
   "outputs": [
    {
     "data": {
      "text/plain": [
       "Index(['DR_NO', 'Date Rptd', 'DATE OCC', 'TIME OCC', 'AREA ', 'AREA NAME',\n",
       "       'Rpt Dist No', 'Part 1-2', 'Crm Cd', 'Crm Cd Desc', 'Mocodes',\n",
       "       'Vict Age', 'Vict Sex', 'Vict Descent', 'Premis Cd', 'Premis Desc',\n",
       "       'Weapon Used Cd', 'Weapon Desc', 'Status', 'Status Desc', 'Crm Cd 1',\n",
       "       'Crm Cd 2', 'Crm Cd 3', 'Crm Cd 4', 'LOCATION', 'Cross Street', 'LAT',\n",
       "       'LON', 'version https://git-lfs.github.com/spec/v1'],\n",
       "      dtype='object')"
      ]
     },
     "execution_count": 2,
     "metadata": {},
     "output_type": "execute_result"
    }
   ],
   "source": [
    "# Dependencies and Setup\n",
    "import pandas as pd\n",
    "from pathlib import Path\n",
    "import matplotlib\n",
    "\n",
    "# File to Load (Remember to Change These)\n",
    "data_2010_2019 = Path(\"Crime_Data_from_2010_to_2019 (1).csv\")\n",
    "data_2020_2023 = Path(\"Crime_Data_from_2020_to_Present_20231016.csv\")\n",
    "\n",
    "# Read data(2010-2019) and data (2020- present)Data File and store into Pandas DataFrames\n",
    "pre_covid_data = pd.read_csv(data_2010_2019)\n",
    "post_covid_data = pd.read_csv(data_2020_2023)\n",
    "#pre_covid_data.head(5)\n",
    "#post_covid_data.head(5)\n",
    "\n",
    "# Combine the data into a single dataset.  \n",
    "Data_complete = pd.concat([pre_covid_data, post_covid_data], ignore_index=True)\n",
    "Data_complete.columns"
   ]
  },
  {
   "cell_type": "code",
   "execution_count": 3,
   "metadata": {},
   "outputs": [
    {
     "data": {
      "text/html": [
       "<div>\n",
       "<style scoped>\n",
       "    .dataframe tbody tr th:only-of-type {\n",
       "        vertical-align: middle;\n",
       "    }\n",
       "\n",
       "    .dataframe tbody tr th {\n",
       "        vertical-align: top;\n",
       "    }\n",
       "\n",
       "    .dataframe thead th {\n",
       "        text-align: right;\n",
       "    }\n",
       "</style>\n",
       "<table border=\"1\" class=\"dataframe\">\n",
       "  <thead>\n",
       "    <tr style=\"text-align: right;\">\n",
       "      <th></th>\n",
       "      <th>DR_NO</th>\n",
       "      <th>Date Rptd</th>\n",
       "      <th>DATE OCC</th>\n",
       "      <th>TIME OCC</th>\n",
       "      <th>AREA</th>\n",
       "      <th>AREA NAME</th>\n",
       "      <th>Rpt Dist No</th>\n",
       "      <th>Part 1-2</th>\n",
       "      <th>Crm Cd</th>\n",
       "      <th>Crm Cd Desc</th>\n",
       "      <th>...</th>\n",
       "      <th>Status Desc</th>\n",
       "      <th>Crm Cd 1</th>\n",
       "      <th>Crm Cd 2</th>\n",
       "      <th>Crm Cd 3</th>\n",
       "      <th>Crm Cd 4</th>\n",
       "      <th>LOCATION</th>\n",
       "      <th>Cross Street</th>\n",
       "      <th>LAT</th>\n",
       "      <th>LON</th>\n",
       "      <th>version https://git-lfs.github.com/spec/v1</th>\n",
       "    </tr>\n",
       "  </thead>\n",
       "  <tbody>\n",
       "    <tr>\n",
       "      <th>0</th>\n",
       "      <td>1307355.0</td>\n",
       "      <td>02/20/2010 12:00:00 AM</td>\n",
       "      <td>02/20/2010 12:00:00 AM</td>\n",
       "      <td>1350.0</td>\n",
       "      <td>13.0</td>\n",
       "      <td>Newton</td>\n",
       "      <td>1385.0</td>\n",
       "      <td>2.0</td>\n",
       "      <td>900.0</td>\n",
       "      <td>VIOLATION OF COURT ORDER</td>\n",
       "      <td>...</td>\n",
       "      <td>Adult Arrest</td>\n",
       "      <td>900.0</td>\n",
       "      <td>NaN</td>\n",
       "      <td>NaN</td>\n",
       "      <td>NaN</td>\n",
       "      <td>300 E  GAGE                         AV</td>\n",
       "      <td>NaN</td>\n",
       "      <td>33.9825</td>\n",
       "      <td>-118.2695</td>\n",
       "      <td>NaN</td>\n",
       "    </tr>\n",
       "    <tr>\n",
       "      <th>1</th>\n",
       "      <td>11401303.0</td>\n",
       "      <td>09/13/2010 12:00:00 AM</td>\n",
       "      <td>09/12/2010 12:00:00 AM</td>\n",
       "      <td>45.0</td>\n",
       "      <td>14.0</td>\n",
       "      <td>Pacific</td>\n",
       "      <td>1485.0</td>\n",
       "      <td>2.0</td>\n",
       "      <td>740.0</td>\n",
       "      <td>VANDALISM - FELONY ($400 &amp; OVER, ALL CHURCH VA...</td>\n",
       "      <td>...</td>\n",
       "      <td>Invest Cont</td>\n",
       "      <td>740.0</td>\n",
       "      <td>NaN</td>\n",
       "      <td>NaN</td>\n",
       "      <td>NaN</td>\n",
       "      <td>SEPULVEDA                    BL</td>\n",
       "      <td>MANCHESTER                   AV</td>\n",
       "      <td>33.9599</td>\n",
       "      <td>-118.3962</td>\n",
       "      <td>NaN</td>\n",
       "    </tr>\n",
       "    <tr>\n",
       "      <th>2</th>\n",
       "      <td>70309629.0</td>\n",
       "      <td>08/09/2010 12:00:00 AM</td>\n",
       "      <td>08/09/2010 12:00:00 AM</td>\n",
       "      <td>1515.0</td>\n",
       "      <td>13.0</td>\n",
       "      <td>Newton</td>\n",
       "      <td>1324.0</td>\n",
       "      <td>2.0</td>\n",
       "      <td>946.0</td>\n",
       "      <td>OTHER MISCELLANEOUS CRIME</td>\n",
       "      <td>...</td>\n",
       "      <td>Invest Cont</td>\n",
       "      <td>946.0</td>\n",
       "      <td>NaN</td>\n",
       "      <td>NaN</td>\n",
       "      <td>NaN</td>\n",
       "      <td>1300 E  21ST                         ST</td>\n",
       "      <td>NaN</td>\n",
       "      <td>34.0224</td>\n",
       "      <td>-118.2524</td>\n",
       "      <td>NaN</td>\n",
       "    </tr>\n",
       "    <tr>\n",
       "      <th>3</th>\n",
       "      <td>90631215.0</td>\n",
       "      <td>01/05/2010 12:00:00 AM</td>\n",
       "      <td>01/05/2010 12:00:00 AM</td>\n",
       "      <td>150.0</td>\n",
       "      <td>6.0</td>\n",
       "      <td>Hollywood</td>\n",
       "      <td>646.0</td>\n",
       "      <td>2.0</td>\n",
       "      <td>900.0</td>\n",
       "      <td>VIOLATION OF COURT ORDER</td>\n",
       "      <td>...</td>\n",
       "      <td>Invest Cont</td>\n",
       "      <td>900.0</td>\n",
       "      <td>998.0</td>\n",
       "      <td>NaN</td>\n",
       "      <td>NaN</td>\n",
       "      <td>CAHUENGA                     BL</td>\n",
       "      <td>HOLLYWOOD                    BL</td>\n",
       "      <td>34.1016</td>\n",
       "      <td>-118.3295</td>\n",
       "      <td>NaN</td>\n",
       "    </tr>\n",
       "    <tr>\n",
       "      <th>4</th>\n",
       "      <td>100100501.0</td>\n",
       "      <td>01/03/2010 12:00:00 AM</td>\n",
       "      <td>01/02/2010 12:00:00 AM</td>\n",
       "      <td>2100.0</td>\n",
       "      <td>1.0</td>\n",
       "      <td>Central</td>\n",
       "      <td>176.0</td>\n",
       "      <td>1.0</td>\n",
       "      <td>122.0</td>\n",
       "      <td>RAPE, ATTEMPTED</td>\n",
       "      <td>...</td>\n",
       "      <td>Invest Cont</td>\n",
       "      <td>122.0</td>\n",
       "      <td>NaN</td>\n",
       "      <td>NaN</td>\n",
       "      <td>NaN</td>\n",
       "      <td>8TH                          ST</td>\n",
       "      <td>SAN PEDRO                    ST</td>\n",
       "      <td>34.0387</td>\n",
       "      <td>-118.2488</td>\n",
       "      <td>NaN</td>\n",
       "    </tr>\n",
       "  </tbody>\n",
       "</table>\n",
       "<p>5 rows × 29 columns</p>\n",
       "</div>"
      ],
      "text/plain": [
       "         DR_NO               Date Rptd                DATE OCC  TIME OCC  \\\n",
       "0    1307355.0  02/20/2010 12:00:00 AM  02/20/2010 12:00:00 AM    1350.0   \n",
       "1   11401303.0  09/13/2010 12:00:00 AM  09/12/2010 12:00:00 AM      45.0   \n",
       "2   70309629.0  08/09/2010 12:00:00 AM  08/09/2010 12:00:00 AM    1515.0   \n",
       "3   90631215.0  01/05/2010 12:00:00 AM  01/05/2010 12:00:00 AM     150.0   \n",
       "4  100100501.0  01/03/2010 12:00:00 AM  01/02/2010 12:00:00 AM    2100.0   \n",
       "\n",
       "   AREA   AREA NAME  Rpt Dist No  Part 1-2  Crm Cd  \\\n",
       "0   13.0     Newton       1385.0       2.0   900.0   \n",
       "1   14.0    Pacific       1485.0       2.0   740.0   \n",
       "2   13.0     Newton       1324.0       2.0   946.0   \n",
       "3    6.0  Hollywood        646.0       2.0   900.0   \n",
       "4    1.0    Central        176.0       1.0   122.0   \n",
       "\n",
       "                                         Crm Cd Desc  ...   Status Desc  \\\n",
       "0                           VIOLATION OF COURT ORDER  ...  Adult Arrest   \n",
       "1  VANDALISM - FELONY ($400 & OVER, ALL CHURCH VA...  ...   Invest Cont   \n",
       "2                          OTHER MISCELLANEOUS CRIME  ...   Invest Cont   \n",
       "3                           VIOLATION OF COURT ORDER  ...   Invest Cont   \n",
       "4                                    RAPE, ATTEMPTED  ...   Invest Cont   \n",
       "\n",
       "   Crm Cd 1 Crm Cd 2 Crm Cd 3  Crm Cd 4  \\\n",
       "0     900.0      NaN      NaN       NaN   \n",
       "1     740.0      NaN      NaN       NaN   \n",
       "2     946.0      NaN      NaN       NaN   \n",
       "3     900.0    998.0      NaN       NaN   \n",
       "4     122.0      NaN      NaN       NaN   \n",
       "\n",
       "                                  LOCATION                     Cross Street  \\\n",
       "0   300 E  GAGE                         AV                              NaN   \n",
       "1          SEPULVEDA                    BL  MANCHESTER                   AV   \n",
       "2  1300 E  21ST                         ST                              NaN   \n",
       "3          CAHUENGA                     BL  HOLLYWOOD                    BL   \n",
       "4          8TH                          ST  SAN PEDRO                    ST   \n",
       "\n",
       "       LAT       LON version https://git-lfs.github.com/spec/v1  \n",
       "0  33.9825 -118.2695                                        NaN  \n",
       "1  33.9599 -118.3962                                        NaN  \n",
       "2  34.0224 -118.2524                                        NaN  \n",
       "3  34.1016 -118.3295                                        NaN  \n",
       "4  34.0387 -118.2488                                        NaN  \n",
       "\n",
       "[5 rows x 29 columns]"
      ]
     },
     "execution_count": 3,
     "metadata": {},
     "output_type": "execute_result"
    }
   ],
   "source": [
    "Data_complete.head()"
   ]
  },
  {
   "cell_type": "code",
   "execution_count": 4,
   "metadata": {},
   "outputs": [
    {
     "name": "stdout",
     "output_type": "stream",
     "text": [
      "<class 'pandas.core.frame.DataFrame'>\n",
      "RangeIndex: 2135622 entries, 0 to 2135621\n",
      "Data columns (total 29 columns):\n",
      " #   Column                                      Dtype  \n",
      "---  ------                                      -----  \n",
      " 0   DR_NO                                       float64\n",
      " 1   Date Rptd                                   object \n",
      " 2   DATE OCC                                    object \n",
      " 3   TIME OCC                                    float64\n",
      " 4   AREA                                        float64\n",
      " 5   AREA NAME                                   object \n",
      " 6   Rpt Dist No                                 float64\n",
      " 7   Part 1-2                                    float64\n",
      " 8   Crm Cd                                      float64\n",
      " 9   Crm Cd Desc                                 object \n",
      " 10  Mocodes                                     object \n",
      " 11  Vict Age                                    float64\n",
      " 12  Vict Sex                                    object \n",
      " 13  Vict Descent                                object \n",
      " 14  Premis Cd                                   float64\n",
      " 15  Premis Desc                                 object \n",
      " 16  Weapon Used Cd                              float64\n",
      " 17  Weapon Desc                                 object \n",
      " 18  Status                                      object \n",
      " 19  Status Desc                                 object \n",
      " 20  Crm Cd 1                                    float64\n",
      " 21  Crm Cd 2                                    float64\n",
      " 22  Crm Cd 3                                    float64\n",
      " 23  Crm Cd 4                                    float64\n",
      " 24  LOCATION                                    object \n",
      " 25  Cross Street                                object \n",
      " 26  LAT                                         float64\n",
      " 27  LON                                         float64\n",
      " 28  version https://git-lfs.github.com/spec/v1  object \n",
      "dtypes: float64(15), object(14)\n",
      "memory usage: 472.5+ MB\n"
     ]
    }
   ],
   "source": [
    "Data_complete.info()"
   ]
  },
  {
   "cell_type": "markdown",
   "metadata": {},
   "source": [
    "Data Analysis\n"
   ]
  },
  {
   "cell_type": "code",
   "execution_count": 5,
   "metadata": {},
   "outputs": [
    {
     "data": {
      "text/plain": [
       "29"
      ]
     },
     "execution_count": 5,
     "metadata": {},
     "output_type": "execute_result"
    }
   ],
   "source": [
    "len(Data_complete.columns)"
   ]
  },
  {
   "cell_type": "code",
   "execution_count": 6,
   "metadata": {},
   "outputs": [
    {
     "name": "stderr",
     "output_type": "stream",
     "text": [
      "/var/folders/b7/40y44dls06x14fpf46krqsn80000gn/T/ipykernel_25782/517725832.py:1: UserWarning: Could not infer format, so each element will be parsed individually, falling back to `dateutil`. To ensure parsing is consistent and as-expected, please specify a format.\n",
      "  Data_complete['Crime Year'] = pd.to_datetime(Data_complete['Date Rptd']).dt.year\n"
     ]
    },
    {
     "data": {
      "text/plain": [
       "0          2010.0\n",
       "1          2010.0\n",
       "2          2010.0\n",
       "3          2010.0\n",
       "4          2010.0\n",
       "            ...  \n",
       "2135617       NaN\n",
       "2135618       NaN\n",
       "2135619       NaN\n",
       "2135620       NaN\n",
       "2135621       NaN\n",
       "Name: Crime Year, Length: 2135622, dtype: float64"
      ]
     },
     "execution_count": 6,
     "metadata": {},
     "output_type": "execute_result"
    }
   ],
   "source": [
    "\n",
    "Data_complete['Crime Year'] = pd.to_datetime(Data_complete['Date Rptd']).dt.year\n",
    "\n",
    "Data_complete['Crime Year']"
   ]
  },
  {
   "cell_type": "code",
   "execution_count": 7,
   "metadata": {},
   "outputs": [],
   "source": [
    "#Drop the columns not needed\n",
    "Data_complete.drop(Data_complete.columns[[1, 2, 3, 4, 6, 7, 10, 14, 16, 17, 18, 19, 20, 21, 22, 23, 24, 25,28]], axis=1, inplace=True)\n",
    "\n",
    "# Now, you can access Data_complete without any issues\n",
    "\n"
   ]
  },
  {
   "cell_type": "code",
   "execution_count": null,
   "metadata": {},
   "outputs": [],
   "source": []
  },
  {
   "cell_type": "code",
   "execution_count": 8,
   "metadata": {},
   "outputs": [],
   "source": [
    "\n",
    "# Clean data for duplicate\n",
    "Data_complete = Data_complete.drop_duplicates(subset=['DR_NO'])\n",
    "# Clean data for -ve values\n",
    "\n",
    "# Remove enteries with  Victim Sex : X and Victim Race: X, Removing 0 in VictAge\n",
    "\n",
    "Data_complete = Data_complete[Data_complete['Vict Age'] > 0]"
   ]
  },
  {
   "cell_type": "code",
   "execution_count": null,
   "metadata": {},
   "outputs": [],
   "source": []
  },
  {
   "cell_type": "code",
   "execution_count": 9,
   "metadata": {},
   "outputs": [
    {
     "name": "stdout",
     "output_type": "stream",
     "text": [
      "<class 'pandas.core.frame.DataFrame'>\n",
      "Index: 1758649 entries, 0 to 2135614\n",
      "Data columns (total 11 columns):\n",
      " #   Column        Dtype  \n",
      "---  ------        -----  \n",
      " 0   DR_NO         float64\n",
      " 1   AREA NAME     object \n",
      " 2   Crm Cd        float64\n",
      " 3   Crm Cd Desc   object \n",
      " 4   Vict Age      float64\n",
      " 5   Vict Sex      object \n",
      " 6   Vict Descent  object \n",
      " 7   Premis Desc   object \n",
      " 8   LAT           float64\n",
      " 9   LON           float64\n",
      " 10  Crime Year    float64\n",
      "dtypes: float64(6), object(5)\n",
      "memory usage: 161.0+ MB\n"
     ]
    }
   ],
   "source": [
    "Data_complete.info()"
   ]
  },
  {
   "cell_type": "code",
   "execution_count": null,
   "metadata": {},
   "outputs": [],
   "source": []
  },
  {
   "cell_type": "code",
   "execution_count": 10,
   "metadata": {},
   "outputs": [
    {
     "data": {
      "text/html": [
       "<div>\n",
       "<style scoped>\n",
       "    .dataframe tbody tr th:only-of-type {\n",
       "        vertical-align: middle;\n",
       "    }\n",
       "\n",
       "    .dataframe tbody tr th {\n",
       "        vertical-align: top;\n",
       "    }\n",
       "\n",
       "    .dataframe thead th {\n",
       "        text-align: right;\n",
       "    }\n",
       "</style>\n",
       "<table border=\"1\" class=\"dataframe\">\n",
       "  <thead>\n",
       "    <tr style=\"text-align: right;\">\n",
       "      <th></th>\n",
       "      <th>DR Number</th>\n",
       "      <th>Area Name</th>\n",
       "      <th>Crime Code</th>\n",
       "      <th>Type of Crime</th>\n",
       "      <th>Victim Age</th>\n",
       "      <th>Victim Gender</th>\n",
       "      <th>Victim Ethnicity</th>\n",
       "      <th>Scene of Crime</th>\n",
       "      <th>Latitude</th>\n",
       "      <th>Longitude</th>\n",
       "      <th>Crime Year</th>\n",
       "    </tr>\n",
       "  </thead>\n",
       "  <tbody>\n",
       "    <tr>\n",
       "      <th>0</th>\n",
       "      <td>1307355.0</td>\n",
       "      <td>Newton</td>\n",
       "      <td>900.0</td>\n",
       "      <td>VIOLATION OF COURT ORDER</td>\n",
       "      <td>48.0</td>\n",
       "      <td>M</td>\n",
       "      <td>H</td>\n",
       "      <td>SINGLE FAMILY DWELLING</td>\n",
       "      <td>33.9825</td>\n",
       "      <td>-118.2695</td>\n",
       "      <td>2010.0</td>\n",
       "    </tr>\n",
       "    <tr>\n",
       "      <th>3</th>\n",
       "      <td>90631215.0</td>\n",
       "      <td>Hollywood</td>\n",
       "      <td>900.0</td>\n",
       "      <td>VIOLATION OF COURT ORDER</td>\n",
       "      <td>47.0</td>\n",
       "      <td>F</td>\n",
       "      <td>W</td>\n",
       "      <td>STREET</td>\n",
       "      <td>34.1016</td>\n",
       "      <td>-118.3295</td>\n",
       "      <td>2010.0</td>\n",
       "    </tr>\n",
       "    <tr>\n",
       "      <th>4</th>\n",
       "      <td>100100501.0</td>\n",
       "      <td>Central</td>\n",
       "      <td>122.0</td>\n",
       "      <td>RAPE, ATTEMPTED</td>\n",
       "      <td>47.0</td>\n",
       "      <td>F</td>\n",
       "      <td>H</td>\n",
       "      <td>ALLEY</td>\n",
       "      <td>34.0387</td>\n",
       "      <td>-118.2488</td>\n",
       "      <td>2010.0</td>\n",
       "    </tr>\n",
       "    <tr>\n",
       "      <th>5</th>\n",
       "      <td>100100506.0</td>\n",
       "      <td>Central</td>\n",
       "      <td>442.0</td>\n",
       "      <td>SHOPLIFTING - PETTY THEFT ($950 &amp; UNDER)</td>\n",
       "      <td>23.0</td>\n",
       "      <td>M</td>\n",
       "      <td>B</td>\n",
       "      <td>DEPARTMENT STORE</td>\n",
       "      <td>34.0480</td>\n",
       "      <td>-118.2577</td>\n",
       "      <td>2010.0</td>\n",
       "    </tr>\n",
       "    <tr>\n",
       "      <th>6</th>\n",
       "      <td>100100508.0</td>\n",
       "      <td>Central</td>\n",
       "      <td>330.0</td>\n",
       "      <td>BURGLARY FROM VEHICLE</td>\n",
       "      <td>46.0</td>\n",
       "      <td>M</td>\n",
       "      <td>H</td>\n",
       "      <td>STREET</td>\n",
       "      <td>34.0389</td>\n",
       "      <td>-118.2643</td>\n",
       "      <td>2010.0</td>\n",
       "    </tr>\n",
       "  </tbody>\n",
       "</table>\n",
       "</div>"
      ],
      "text/plain": [
       "     DR Number  Area Name  Crime Code  \\\n",
       "0    1307355.0     Newton       900.0   \n",
       "3   90631215.0  Hollywood       900.0   \n",
       "4  100100501.0    Central       122.0   \n",
       "5  100100506.0    Central       442.0   \n",
       "6  100100508.0    Central       330.0   \n",
       "\n",
       "                              Type of Crime  Victim Age Victim Gender  \\\n",
       "0                  VIOLATION OF COURT ORDER        48.0             M   \n",
       "3                  VIOLATION OF COURT ORDER        47.0             F   \n",
       "4                           RAPE, ATTEMPTED        47.0             F   \n",
       "5  SHOPLIFTING - PETTY THEFT ($950 & UNDER)        23.0             M   \n",
       "6                     BURGLARY FROM VEHICLE        46.0             M   \n",
       "\n",
       "  Victim Ethnicity          Scene of Crime  Latitude  Longitude  Crime Year  \n",
       "0                H  SINGLE FAMILY DWELLING   33.9825  -118.2695      2010.0  \n",
       "3                W                  STREET   34.1016  -118.3295      2010.0  \n",
       "4                H                   ALLEY   34.0387  -118.2488      2010.0  \n",
       "5                B        DEPARTMENT STORE   34.0480  -118.2577      2010.0  \n",
       "6                H                  STREET   34.0389  -118.2643      2010.0  "
      ]
     },
     "execution_count": 10,
     "metadata": {},
     "output_type": "execute_result"
    }
   ],
   "source": [
    "# Change the name of the columns\n",
    "Data_complete.rename(columns={\n",
    "                    'DR_NO':'DR Number',\n",
    "                    'Crime Year': 'Crime Year',\n",
    "                    'AREA NAME': 'Area Name',\n",
    "                    'Crm Cd': 'Crime Code',\n",
    "                    'Crm Cd Desc':'Type of Crime',\n",
    "                    'Vict Age': 'Victim Age',\n",
    "                    'Vict Sex': 'Victim Gender',\n",
    "                    'Vict Descent': 'Victim Ethnicity',\n",
    "                    'Premis Desc': 'Scene of Crime',\n",
    "                    'LAT': 'Latitude',\n",
    "                    'LON': 'Longitude'\n",
    "                    \n",
    "},inplace= True)\n",
    "\n",
    "Data_complete.head()\n",
    "\n",
    "\n",
    "\n"
   ]
  },
  {
   "cell_type": "code",
   "execution_count": null,
   "metadata": {},
   "outputs": [],
   "source": []
  },
  {
   "cell_type": "code",
   "execution_count": 11,
   "metadata": {},
   "outputs": [
    {
     "name": "stdout",
     "output_type": "stream",
     "text": [
      "<class 'pandas.core.frame.DataFrame'>\n",
      "Index: 1758649 entries, 0 to 2135614\n",
      "Data columns (total 11 columns):\n",
      " #   Column            Dtype  \n",
      "---  ------            -----  \n",
      " 0   DR Number         float64\n",
      " 1   Area Name         object \n",
      " 2   Crime Code        float64\n",
      " 3   Type of Crime     object \n",
      " 4   Victim Age        float64\n",
      " 5   Victim Gender     object \n",
      " 6   Victim Ethnicity  object \n",
      " 7   Scene of Crime    object \n",
      " 8   Latitude          float64\n",
      " 9   Longitude         float64\n",
      " 10  Crime Year        float64\n",
      "dtypes: float64(6), object(5)\n",
      "memory usage: 161.0+ MB\n"
     ]
    }
   ],
   "source": [
    "Data_complete.info()"
   ]
  },
  {
   "cell_type": "code",
   "execution_count": 12,
   "metadata": {},
   "outputs": [
    {
     "name": "stdout",
     "output_type": "stream",
     "text": [
      "Victim Age\n",
      "25.0     48350\n",
      "26.0     47858\n",
      "27.0     47308\n",
      "28.0     46917\n",
      "24.0     46870\n",
      "         ...  \n",
      "95.0       246\n",
      "96.0       190\n",
      "97.0       171\n",
      "98.0       121\n",
      "118.0        1\n",
      "Name: count, Length: 99, dtype: int64\n"
     ]
    }
   ],
   "source": [
    "unique_demo = Data_complete[\"Victim Age\"].value_counts()\n",
    "print(unique_demo)"
   ]
  },
  {
   "cell_type": "code",
   "execution_count": 13,
   "metadata": {},
   "outputs": [
    {
     "name": "stdout",
     "output_type": "stream",
     "text": [
      "Victim Ethnicity\n",
      "H    709249\n",
      "W    470138\n",
      "B    332768\n",
      "O    165390\n",
      "A     50308\n",
      "X     15482\n",
      "K      8634\n",
      "F      2861\n",
      "C      1197\n",
      "I       962\n",
      "J       459\n",
      "P       354\n",
      "V       254\n",
      "Z       181\n",
      "U       150\n",
      "G        88\n",
      "S        35\n",
      "D        25\n",
      "L        23\n",
      "-         2\n",
      "Name: count, dtype: int64\n"
     ]
    }
   ],
   "source": [
    "unique_demo = Data_complete[\"Victim Ethnicity\"].value_counts()\n",
    "print(unique_demo)"
   ]
  },
  {
   "cell_type": "code",
   "execution_count": 14,
   "metadata": {},
   "outputs": [
    {
     "name": "stdout",
     "output_type": "stream",
     "text": [
      "Area Name\n",
      "77th Street    124029\n",
      "Southwest      119862\n",
      "Southeast       97971\n",
      "N Hollywood     92428\n",
      "Pacific         89847\n",
      "Topanga         88094\n",
      "Central         86985\n",
      "Devonshire      84442\n",
      "Van Nuys        83395\n",
      "Mission         82457\n",
      "Hollywood       80552\n",
      "Northeast       79278\n",
      "West LA         77410\n",
      "Olympic         76774\n",
      "Rampart         76297\n",
      "Newton          76290\n",
      "Wilshire        75744\n",
      "West Valley     72821\n",
      "Harbor          70777\n",
      "Foothill        65764\n",
      "Hollenbeck      57432\n",
      "Name: count, dtype: int64\n"
     ]
    }
   ],
   "source": [
    "unique_demo = Data_complete[\"Area Name\"].value_counts()\n",
    "print(unique_demo)"
   ]
  },
  {
   "cell_type": "markdown",
   "metadata": {},
   "source": [
    "## Crimes Summary"
   ]
  },
  {
   "cell_type": "code",
   "execution_count": 15,
   "metadata": {},
   "outputs": [
    {
     "data": {
      "text/plain": [
       "1758649"
      ]
     },
     "execution_count": 15,
     "metadata": {},
     "output_type": "execute_result"
    }
   ],
   "source": [
    "Total_crime_count = len(Data_complete['DR Number'])\n",
    "Total_crime_count"
   ]
  },
  {
   "cell_type": "code",
   "execution_count": 17,
   "metadata": {},
   "outputs": [],
   "source": [
    "# Calculate the total number of Crimes \n",
    "##Total_crime_count = Data_complete.len['Type of Crime']\n",
    "\n",
    "\n",
    "# unique kind of the crimes:\n",
    "#Kind_of_crimes = clean_crime_data.groupby([\"Crm Cd Desc\",\"crime_year\"], as_index = false).count()\n",
    "\n",
    "# Pick which highest frequency (5)\n",
    "#highest_frequency_crime = Kind_of_crimes.sort_values(ascending= False)\n",
    "\n",
    "# Inside the home and outside the home( COVID people were home)\n",
    "\n"
   ]
  },
  {
   "cell_type": "code",
   "execution_count": null,
   "metadata": {},
   "outputs": [],
   "source": [
    "#Plot a line graph showing the overall crimes trend change over the years\n",
    "plot.line"
   ]
  },
  {
   "cell_type": "markdown",
   "metadata": {},
   "source": []
  },
  {
   "cell_type": "code",
   "execution_count": null,
   "metadata": {},
   "outputs": [],
   "source": [
    "# Calculate the kind of crimes (e.g different kind of crimes) per year??\n",
    "#the distribution of crime types over the years\n",
    "#clean_crime_data.loc(2017)\n",
    "#df_2017= \n",
    "#df_2018\n",
    "#df_2019\n",
    "#df_2020\n",
    "#df_2021\n",
    "#df_2022\n",
    "#crime_type\n",
    "\n"
   ]
  },
  {
   "cell_type": "code",
   "execution_count": null,
   "metadata": {},
   "outputs": [],
   "source": []
  },
  {
   "cell_type": "code",
   "execution_count": null,
   "metadata": {},
   "outputs": [],
   "source": [
    "# Create a dataframe with crime_type and year????\n",
    "crime_summary = pd.DataFrame({\n",
    "    "
   ]
  },
  {
   "cell_type": "code",
   "execution_count": null,
   "metadata": {},
   "outputs": [],
   "source": [
    "# Plot a bar plot with multiple columns over the different years for total number of crimes(value count)\n"
   ]
  },
  {
   "cell_type": "code",
   "execution_count": null,
   "metadata": {},
   "outputs": [],
   "source": [
    "# Plot another histogram for average of pre covid and post covid crimes (Total and one for each crime)."
   ]
  },
  {
   "cell_type": "markdown",
   "metadata": {},
   "source": [
    "## Area Summary"
   ]
  },
  {
   "cell_type": "code",
   "execution_count": null,
   "metadata": {},
   "outputs": [],
   "source": [
    "#  select all of the different Areas\n"
   ]
  },
  {
   "cell_type": "code",
   "execution_count": null,
   "metadata": {},
   "outputs": [],
   "source": [
    "# Divide areas into Central, Valley, South, West"
   ]
  },
  {
   "cell_type": "code",
   "execution_count": null,
   "metadata": {},
   "outputs": [],
   "source": [
    "# Calculate the total crimes per area per year\n",
    "per_area_crime_counts = "
   ]
  },
  {
   "cell_type": "code",
   "execution_count": null,
   "metadata": {},
   "outputs": [],
   "source": [
    "#calculate crime types per area\n",
    "# Five highest crimes "
   ]
  },
  {
   "cell_type": "code",
   "execution_count": null,
   "metadata": {},
   "outputs": [],
   "source": [
    "# Geoplot the area "
   ]
  },
  {
   "cell_type": "code",
   "execution_count": null,
   "metadata": {},
   "outputs": [],
   "source": [
    "# Make a data frame with Columns for Average crime per area\n",
    "\n",
    "\n",
    "# Display Data Frame"
   ]
  },
  {
   "cell_type": "code",
   "execution_count": null,
   "metadata": {},
   "outputs": [],
   "source": [
    "# Highest Crime Area(By Total Crimes)"
   ]
  },
  {
   "cell_type": "code",
   "execution_count": null,
   "metadata": {},
   "outputs": [],
   "source": [
    "# Lowest Crime Area (By Total Crime)"
   ]
  },
  {
   "cell_type": "code",
   "execution_count": null,
   "metadata": {},
   "outputs": [],
   "source": [
    "#Bar chart four areas, four years and total number of crimes"
   ]
  },
  {
   "cell_type": "code",
   "execution_count": null,
   "metadata": {},
   "outputs": [],
   "source": [
    "# Identify Hot Spots\n",
    "#Crime in each area acroos the years"
   ]
  },
  {
   "cell_type": "code",
   "execution_count": null,
   "metadata": {},
   "outputs": [],
   "source": [
    "# Any change in the Hot spots overs the years\n"
   ]
  },
  {
   "cell_type": "markdown",
   "metadata": {},
   "source": [
    "### Female Vs Male Victims"
   ]
  },
  {
   "cell_type": "code",
   "execution_count": null,
   "metadata": {},
   "outputs": [],
   "source": [
    "# Generate a pie plot showing the distribution of female versus male victims using Pandas\n",
    "data = data[\"Sex\"].value_counts()\n",
    "plt.title(\"Female vs. Male Victims\")\n",
    "Female_male_data.plot.pie(autopct= \"%1.1f%%\")\n",
    "plt.show()"
   ]
  },
  {
   "cell_type": "markdown",
   "metadata": {},
   "source": [
    "### Victim Race "
   ]
  },
  {
   "cell_type": "markdown",
   "metadata": {},
   "source": [
    "# Child Abuse compare over the years"
   ]
  },
  {
   "cell_type": "markdown",
   "metadata": {},
   "source": [
    "## Change in crime spot"
   ]
  },
  {
   "cell_type": "code",
   "execution_count": null,
   "metadata": {},
   "outputs": [],
   "source": [
    "#Splitting race by groups: Black, White, Hispanics, Asians"
   ]
  },
  {
   "cell_type": "code",
   "execution_count": null,
   "metadata": {},
   "outputs": [],
   "source": [
    "#Splitting premise into 4 categories: Commercial, residential, industrial and outdoors\n",
    "# using Bins"
   ]
  },
  {
   "cell_type": "code",
   "execution_count": null,
   "metadata": {},
   "outputs": [],
   "source": []
  },
  {
   "cell_type": "code",
   "execution_count": null,
   "metadata": {},
   "outputs": [],
   "source": [
    "#Percentage of increase and decrease in crimes over the years\n",
    "Total_crime_count groupbyyear (count)"
   ]
  },
  {
   "cell_type": "code",
   "execution_count": null,
   "metadata": {},
   "outputs": [],
   "source": [
    " #How has crime changed over the years?\n",
    " \n",
    " Line graphs "
   ]
  }
 ],
 "metadata": {
  "anaconda-cloud": {},
  "kernel_info": {
   "name": "python3"
  },
  "kernelspec": {
   "display_name": "Python 3 (ipykernel)",
   "language": "python",
   "name": "python3"
  },
  "language_info": {
   "codemirror_mode": {
    "name": "ipython",
    "version": 3
   },
   "file_extension": ".py",
   "mimetype": "text/x-python",
   "name": "python",
   "nbconvert_exporter": "python",
   "pygments_lexer": "ipython3",
   "version": "3.10.13"
  },
  "latex_envs": {
   "LaTeX_envs_menu_present": true,
   "autoclose": false,
   "autocomplete": true,
   "bibliofile": "biblio.bib",
   "cite_by": "apalike",
   "current_citInitial": 1,
   "eqLabelWithNumbers": true,
   "eqNumInitial": 1,
   "hotkeys": {
    "equation": "Ctrl-E",
    "itemize": "Ctrl-I"
   },
   "labels_anchors": false,
   "latex_user_defs": false,
   "report_style_numbering": false,
   "user_envs_cfg": false
  },
  "nteract": {
   "version": "0.8.4"
  },
  "vscode": {
   "interpreter": {
    "hash": "5384d77d82de63fd599f73e77f9ec786e7719288bf80a29ec0288c670ac3cf32"
   }
  }
 },
 "nbformat": 4,
 "nbformat_minor": 4
}
