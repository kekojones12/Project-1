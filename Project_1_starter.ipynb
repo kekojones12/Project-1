{
 "cells": [
  {
   "attachments": {},
   "cell_type": "markdown",
   "metadata": {},
   "source": [
    "# Crime Data Analysis\n",
    "\n",
    "- Your analysis here\n",
    "  \n",
    "---"
   ]
  },
  {
   "cell_type": "code",
   "execution_count": 1,
   "metadata": {},
   "outputs": [
    {
     "data": {
      "text/plain": [
       "Index(['DR_NO', 'Date Rptd', 'DATE OCC', 'TIME OCC', 'AREA ', 'AREA NAME',\n",
       "       'Rpt Dist No', 'Part 1-2', 'Crm Cd', 'Crm Cd Desc', 'Mocodes',\n",
       "       'Vict Age', 'Vict Sex', 'Vict Descent', 'Premis Cd', 'Premis Desc',\n",
       "       'Weapon Used Cd', 'Weapon Desc', 'Status', 'Status Desc', 'Crm Cd 1',\n",
       "       'Crm Cd 2', 'Crm Cd 3', 'Crm Cd 4', 'LOCATION', 'Cross Street', 'LAT',\n",
       "       'LON', 'AREA'],\n",
       "      dtype='object')"
      ]
     },
     "execution_count": 1,
     "metadata": {},
     "output_type": "execute_result"
    }
   ],
   "source": [
    "# Dependencies and Setup\n",
    "import pandas as pd\n",
    "from pathlib import Path\n",
    "import matplotlib\n",
    "\n",
    "# File to Load (Remember to Change These)\n",
    "data_2010_2019 = Path(\"Crime_Data_from_2010_to_2019 (1).csv\")\n",
    "data_2020_2023 = Path(\"Crime_Data_from_2020_to_Present_20231016.csv\")\n",
    "\n",
    "# Read data(2010-2019) and data (2020- present)Data File and store into Pandas DataFrames\n",
    "pre_covid_data = pd.read_csv(data_2010_2019)\n",
    "post_covid_data = pd.read_csv(data_2020_2023)\n",
    "#pre_covid_data.head(5)\n",
    "#post_covid_data.head(5)\n",
    "\n",
    "# Combine the data into a single dataset.  \n",
    "Data_complete = pd.concat([pre_covid_data, post_covid_data], ignore_index=True)\n",
    "Data_complete.columns"
   ]
  },
  {
   "cell_type": "code",
   "execution_count": 2,
   "metadata": {},
   "outputs": [
    {
     "data": {
      "text/html": [
       "<div>\n",
       "<style scoped>\n",
       "    .dataframe tbody tr th:only-of-type {\n",
       "        vertical-align: middle;\n",
       "    }\n",
       "\n",
       "    .dataframe tbody tr th {\n",
       "        vertical-align: top;\n",
       "    }\n",
       "\n",
       "    .dataframe thead th {\n",
       "        text-align: right;\n",
       "    }\n",
       "</style>\n",
       "<table border=\"1\" class=\"dataframe\">\n",
       "  <thead>\n",
       "    <tr style=\"text-align: right;\">\n",
       "      <th></th>\n",
       "      <th>DR_NO</th>\n",
       "      <th>Date Rptd</th>\n",
       "      <th>DATE OCC</th>\n",
       "      <th>TIME OCC</th>\n",
       "      <th>AREA</th>\n",
       "      <th>AREA NAME</th>\n",
       "      <th>Rpt Dist No</th>\n",
       "      <th>Part 1-2</th>\n",
       "      <th>Crm Cd</th>\n",
       "      <th>Crm Cd Desc</th>\n",
       "      <th>...</th>\n",
       "      <th>Status Desc</th>\n",
       "      <th>Crm Cd 1</th>\n",
       "      <th>Crm Cd 2</th>\n",
       "      <th>Crm Cd 3</th>\n",
       "      <th>Crm Cd 4</th>\n",
       "      <th>LOCATION</th>\n",
       "      <th>Cross Street</th>\n",
       "      <th>LAT</th>\n",
       "      <th>LON</th>\n",
       "      <th>AREA</th>\n",
       "    </tr>\n",
       "  </thead>\n",
       "  <tbody>\n",
       "    <tr>\n",
       "      <th>0</th>\n",
       "      <td>1307355</td>\n",
       "      <td>02/20/2010 12:00:00 AM</td>\n",
       "      <td>02/20/2010 12:00:00 AM</td>\n",
       "      <td>1350</td>\n",
       "      <td>13.0</td>\n",
       "      <td>Newton</td>\n",
       "      <td>1385</td>\n",
       "      <td>2</td>\n",
       "      <td>900</td>\n",
       "      <td>VIOLATION OF COURT ORDER</td>\n",
       "      <td>...</td>\n",
       "      <td>Adult Arrest</td>\n",
       "      <td>900.0</td>\n",
       "      <td>NaN</td>\n",
       "      <td>NaN</td>\n",
       "      <td>NaN</td>\n",
       "      <td>300 E  GAGE                         AV</td>\n",
       "      <td>NaN</td>\n",
       "      <td>33.9825</td>\n",
       "      <td>-118.2695</td>\n",
       "      <td>NaN</td>\n",
       "    </tr>\n",
       "    <tr>\n",
       "      <th>1</th>\n",
       "      <td>11401303</td>\n",
       "      <td>09/13/2010 12:00:00 AM</td>\n",
       "      <td>09/12/2010 12:00:00 AM</td>\n",
       "      <td>45</td>\n",
       "      <td>14.0</td>\n",
       "      <td>Pacific</td>\n",
       "      <td>1485</td>\n",
       "      <td>2</td>\n",
       "      <td>740</td>\n",
       "      <td>VANDALISM - FELONY ($400 &amp; OVER, ALL CHURCH VA...</td>\n",
       "      <td>...</td>\n",
       "      <td>Invest Cont</td>\n",
       "      <td>740.0</td>\n",
       "      <td>NaN</td>\n",
       "      <td>NaN</td>\n",
       "      <td>NaN</td>\n",
       "      <td>SEPULVEDA                    BL</td>\n",
       "      <td>MANCHESTER                   AV</td>\n",
       "      <td>33.9599</td>\n",
       "      <td>-118.3962</td>\n",
       "      <td>NaN</td>\n",
       "    </tr>\n",
       "    <tr>\n",
       "      <th>2</th>\n",
       "      <td>70309629</td>\n",
       "      <td>08/09/2010 12:00:00 AM</td>\n",
       "      <td>08/09/2010 12:00:00 AM</td>\n",
       "      <td>1515</td>\n",
       "      <td>13.0</td>\n",
       "      <td>Newton</td>\n",
       "      <td>1324</td>\n",
       "      <td>2</td>\n",
       "      <td>946</td>\n",
       "      <td>OTHER MISCELLANEOUS CRIME</td>\n",
       "      <td>...</td>\n",
       "      <td>Invest Cont</td>\n",
       "      <td>946.0</td>\n",
       "      <td>NaN</td>\n",
       "      <td>NaN</td>\n",
       "      <td>NaN</td>\n",
       "      <td>1300 E  21ST                         ST</td>\n",
       "      <td>NaN</td>\n",
       "      <td>34.0224</td>\n",
       "      <td>-118.2524</td>\n",
       "      <td>NaN</td>\n",
       "    </tr>\n",
       "    <tr>\n",
       "      <th>3</th>\n",
       "      <td>90631215</td>\n",
       "      <td>01/05/2010 12:00:00 AM</td>\n",
       "      <td>01/05/2010 12:00:00 AM</td>\n",
       "      <td>150</td>\n",
       "      <td>6.0</td>\n",
       "      <td>Hollywood</td>\n",
       "      <td>646</td>\n",
       "      <td>2</td>\n",
       "      <td>900</td>\n",
       "      <td>VIOLATION OF COURT ORDER</td>\n",
       "      <td>...</td>\n",
       "      <td>Invest Cont</td>\n",
       "      <td>900.0</td>\n",
       "      <td>998.0</td>\n",
       "      <td>NaN</td>\n",
       "      <td>NaN</td>\n",
       "      <td>CAHUENGA                     BL</td>\n",
       "      <td>HOLLYWOOD                    BL</td>\n",
       "      <td>34.1016</td>\n",
       "      <td>-118.3295</td>\n",
       "      <td>NaN</td>\n",
       "    </tr>\n",
       "    <tr>\n",
       "      <th>4</th>\n",
       "      <td>100100501</td>\n",
       "      <td>01/03/2010 12:00:00 AM</td>\n",
       "      <td>01/02/2010 12:00:00 AM</td>\n",
       "      <td>2100</td>\n",
       "      <td>1.0</td>\n",
       "      <td>Central</td>\n",
       "      <td>176</td>\n",
       "      <td>1</td>\n",
       "      <td>122</td>\n",
       "      <td>RAPE, ATTEMPTED</td>\n",
       "      <td>...</td>\n",
       "      <td>Invest Cont</td>\n",
       "      <td>122.0</td>\n",
       "      <td>NaN</td>\n",
       "      <td>NaN</td>\n",
       "      <td>NaN</td>\n",
       "      <td>8TH                          ST</td>\n",
       "      <td>SAN PEDRO                    ST</td>\n",
       "      <td>34.0387</td>\n",
       "      <td>-118.2488</td>\n",
       "      <td>NaN</td>\n",
       "    </tr>\n",
       "  </tbody>\n",
       "</table>\n",
       "<p>5 rows × 29 columns</p>\n",
       "</div>"
      ],
      "text/plain": [
       "       DR_NO               Date Rptd                DATE OCC  TIME OCC  AREA   \\\n",
       "0    1307355  02/20/2010 12:00:00 AM  02/20/2010 12:00:00 AM      1350   13.0   \n",
       "1   11401303  09/13/2010 12:00:00 AM  09/12/2010 12:00:00 AM        45   14.0   \n",
       "2   70309629  08/09/2010 12:00:00 AM  08/09/2010 12:00:00 AM      1515   13.0   \n",
       "3   90631215  01/05/2010 12:00:00 AM  01/05/2010 12:00:00 AM       150    6.0   \n",
       "4  100100501  01/03/2010 12:00:00 AM  01/02/2010 12:00:00 AM      2100    1.0   \n",
       "\n",
       "   AREA NAME  Rpt Dist No  Part 1-2  Crm Cd  \\\n",
       "0     Newton         1385         2     900   \n",
       "1    Pacific         1485         2     740   \n",
       "2     Newton         1324         2     946   \n",
       "3  Hollywood          646         2     900   \n",
       "4    Central          176         1     122   \n",
       "\n",
       "                                         Crm Cd Desc  ...   Status Desc  \\\n",
       "0                           VIOLATION OF COURT ORDER  ...  Adult Arrest   \n",
       "1  VANDALISM - FELONY ($400 & OVER, ALL CHURCH VA...  ...   Invest Cont   \n",
       "2                          OTHER MISCELLANEOUS CRIME  ...   Invest Cont   \n",
       "3                           VIOLATION OF COURT ORDER  ...   Invest Cont   \n",
       "4                                    RAPE, ATTEMPTED  ...   Invest Cont   \n",
       "\n",
       "   Crm Cd 1 Crm Cd 2 Crm Cd 3  Crm Cd 4  \\\n",
       "0     900.0      NaN      NaN       NaN   \n",
       "1     740.0      NaN      NaN       NaN   \n",
       "2     946.0      NaN      NaN       NaN   \n",
       "3     900.0    998.0      NaN       NaN   \n",
       "4     122.0      NaN      NaN       NaN   \n",
       "\n",
       "                                  LOCATION                     Cross Street  \\\n",
       "0   300 E  GAGE                         AV                              NaN   \n",
       "1          SEPULVEDA                    BL  MANCHESTER                   AV   \n",
       "2  1300 E  21ST                         ST                              NaN   \n",
       "3          CAHUENGA                     BL  HOLLYWOOD                    BL   \n",
       "4          8TH                          ST  SAN PEDRO                    ST   \n",
       "\n",
       "       LAT       LON AREA  \n",
       "0  33.9825 -118.2695  NaN  \n",
       "1  33.9599 -118.3962  NaN  \n",
       "2  34.0224 -118.2524  NaN  \n",
       "3  34.1016 -118.3295  NaN  \n",
       "4  34.0387 -118.2488  NaN  \n",
       "\n",
       "[5 rows x 29 columns]"
      ]
     },
     "execution_count": 2,
     "metadata": {},
     "output_type": "execute_result"
    }
   ],
   "source": [
    "Data_complete.head()"
   ]
  },
  {
   "cell_type": "code",
   "execution_count": 2,
   "metadata": {},
   "outputs": [
    {
     "name": "stdout",
     "output_type": "stream",
     "text": [
      "<class 'pandas.core.frame.DataFrame'>\n",
      "RangeIndex: 2951497 entries, 0 to 2951496\n",
      "Data columns (total 29 columns):\n",
      " #   Column          Dtype  \n",
      "---  ------          -----  \n",
      " 0   DR_NO           int64  \n",
      " 1   Date Rptd       object \n",
      " 2   DATE OCC        object \n",
      " 3   TIME OCC        int64  \n",
      " 4   AREA            float64\n",
      " 5   AREA NAME       object \n",
      " 6   Rpt Dist No     int64  \n",
      " 7   Part 1-2        int64  \n",
      " 8   Crm Cd          int64  \n",
      " 9   Crm Cd Desc     object \n",
      " 10  Mocodes         object \n",
      " 11  Vict Age        int64  \n",
      " 12  Vict Sex        object \n",
      " 13  Vict Descent    object \n",
      " 14  Premis Cd       float64\n",
      " 15  Premis Desc     object \n",
      " 16  Weapon Used Cd  float64\n",
      " 17  Weapon Desc     object \n",
      " 18  Status          object \n",
      " 19  Status Desc     object \n",
      " 20  Crm Cd 1        float64\n",
      " 21  Crm Cd 2        float64\n",
      " 22  Crm Cd 3        float64\n",
      " 23  Crm Cd 4        float64\n",
      " 24  LOCATION        object \n",
      " 25  Cross Street    object \n",
      " 26  LAT             float64\n",
      " 27  LON             float64\n",
      " 28  AREA            float64\n",
      "dtypes: float64(10), int64(6), object(13)\n",
      "memory usage: 653.0+ MB\n"
     ]
    }
   ],
   "source": [
    "Data_complete.info()"
   ]
  },
  {
   "cell_type": "markdown",
   "metadata": {},
   "source": [
    "Data Analysis\n"
   ]
  },
  {
   "cell_type": "code",
   "execution_count": 3,
   "metadata": {},
   "outputs": [
    {
     "data": {
      "text/plain": [
       "29"
      ]
     },
     "execution_count": 3,
     "metadata": {},
     "output_type": "execute_result"
    }
   ],
   "source": [
    "len(Data_complete.columns)"
   ]
  },
  {
   "cell_type": "code",
   "execution_count": 4,
   "metadata": {},
   "outputs": [
    {
     "name": "stderr",
     "output_type": "stream",
     "text": [
      "/var/folders/b7/40y44dls06x14fpf46krqsn80000gn/T/ipykernel_96739/517725832.py:1: UserWarning: Could not infer format, so each element will be parsed individually, falling back to `dateutil`. To ensure parsing is consistent and as-expected, please specify a format.\n",
      "  Data_complete['Crime Year'] = pd.to_datetime(Data_complete['Date Rptd']).dt.year\n"
     ]
    },
    {
     "data": {
      "text/plain": [
       "0          2010\n",
       "1          2010\n",
       "2          2010\n",
       "3          2010\n",
       "4          2010\n",
       "           ... \n",
       "2951492    2023\n",
       "2951493    2023\n",
       "2951494    2023\n",
       "2951495    2023\n",
       "2951496    2023\n",
       "Name: Crime Year, Length: 2951497, dtype: int32"
      ]
     },
     "execution_count": 4,
     "metadata": {},
     "output_type": "execute_result"
    }
   ],
   "source": [
    "\n",
    "Data_complete['Crime Year'] = pd.to_datetime(Data_complete['Date Rptd']).dt.year\n",
    "\n",
    "Data_complete['Crime Year']"
   ]
  },
  {
   "cell_type": "code",
   "execution_count": 5,
   "metadata": {},
   "outputs": [],
   "source": [
    "#Drop the columns not needed\n",
    "Data_complete.drop(Data_complete.columns[[1, 2, 3, 4, 6, 7, 10, 14, 16, 17, 18, 19, 20, 21, 22, 23, 24, 25,28]], axis=1, inplace=True)\n",
    "\n",
    "# Now, you can access Data_complete without any issues\n",
    "\n"
   ]
  },
  {
   "cell_type": "code",
   "execution_count": null,
   "metadata": {},
   "outputs": [],
   "source": []
  },
  {
   "cell_type": "code",
   "execution_count": 6,
   "metadata": {},
   "outputs": [],
   "source": [
    "\n",
    "# Clean data for duplicate\n",
    "Data_complete = Data_complete.drop_duplicates(subset=['DR_NO'])\n",
    "# Clean data for -ve values\n",
    "\n",
    "# Remove enteries with  Victim Sex : X and Victim Race: X, Removing 0 in VictAge\n",
    "\n",
    "Data_complete = Data_complete[Data_complete['Vict Age'] > 0]"
   ]
  },
  {
   "cell_type": "code",
   "execution_count": null,
   "metadata": {},
   "outputs": [],
   "source": []
  },
  {
   "cell_type": "code",
   "execution_count": 7,
   "metadata": {},
   "outputs": [
    {
     "name": "stdout",
     "output_type": "stream",
     "text": [
      "<class 'pandas.core.frame.DataFrame'>\n",
      "Index: 2332485 entries, 0 to 2951496\n",
      "Data columns (total 11 columns):\n",
      " #   Column        Dtype  \n",
      "---  ------        -----  \n",
      " 0   DR_NO         int64  \n",
      " 1   AREA NAME     object \n",
      " 2   Crm Cd        int64  \n",
      " 3   Crm Cd Desc   object \n",
      " 4   Vict Age      int64  \n",
      " 5   Vict Sex      object \n",
      " 6   Vict Descent  object \n",
      " 7   Premis Desc   object \n",
      " 8   LAT           float64\n",
      " 9   LON           float64\n",
      " 10  Crime Year    int32  \n",
      "dtypes: float64(2), int32(1), int64(3), object(5)\n",
      "memory usage: 204.6+ MB\n"
     ]
    }
   ],
   "source": [
    "Data_complete.info()"
   ]
  },
  {
   "cell_type": "code",
   "execution_count": null,
   "metadata": {},
   "outputs": [],
   "source": []
  },
  {
   "cell_type": "code",
   "execution_count": 8,
   "metadata": {},
   "outputs": [
    {
     "data": {
      "text/html": [
       "<div>\n",
       "<style scoped>\n",
       "    .dataframe tbody tr th:only-of-type {\n",
       "        vertical-align: middle;\n",
       "    }\n",
       "\n",
       "    .dataframe tbody tr th {\n",
       "        vertical-align: top;\n",
       "    }\n",
       "\n",
       "    .dataframe thead th {\n",
       "        text-align: right;\n",
       "    }\n",
       "</style>\n",
       "<table border=\"1\" class=\"dataframe\">\n",
       "  <thead>\n",
       "    <tr style=\"text-align: right;\">\n",
       "      <th></th>\n",
       "      <th>DR Number</th>\n",
       "      <th>Area Name</th>\n",
       "      <th>Crime Code</th>\n",
       "      <th>Type of Crime</th>\n",
       "      <th>Victim Age</th>\n",
       "      <th>Victim Gender</th>\n",
       "      <th>Victim Ethnicity</th>\n",
       "      <th>Scene of Crime</th>\n",
       "      <th>Latitude</th>\n",
       "      <th>Longitude</th>\n",
       "      <th>Crime Year</th>\n",
       "    </tr>\n",
       "  </thead>\n",
       "  <tbody>\n",
       "    <tr>\n",
       "      <th>0</th>\n",
       "      <td>1307355</td>\n",
       "      <td>Newton</td>\n",
       "      <td>900</td>\n",
       "      <td>VIOLATION OF COURT ORDER</td>\n",
       "      <td>48</td>\n",
       "      <td>M</td>\n",
       "      <td>H</td>\n",
       "      <td>SINGLE FAMILY DWELLING</td>\n",
       "      <td>33.9825</td>\n",
       "      <td>-118.2695</td>\n",
       "      <td>2010</td>\n",
       "    </tr>\n",
       "    <tr>\n",
       "      <th>3</th>\n",
       "      <td>90631215</td>\n",
       "      <td>Hollywood</td>\n",
       "      <td>900</td>\n",
       "      <td>VIOLATION OF COURT ORDER</td>\n",
       "      <td>47</td>\n",
       "      <td>F</td>\n",
       "      <td>W</td>\n",
       "      <td>STREET</td>\n",
       "      <td>34.1016</td>\n",
       "      <td>-118.3295</td>\n",
       "      <td>2010</td>\n",
       "    </tr>\n",
       "    <tr>\n",
       "      <th>4</th>\n",
       "      <td>100100501</td>\n",
       "      <td>Central</td>\n",
       "      <td>122</td>\n",
       "      <td>RAPE, ATTEMPTED</td>\n",
       "      <td>47</td>\n",
       "      <td>F</td>\n",
       "      <td>H</td>\n",
       "      <td>ALLEY</td>\n",
       "      <td>34.0387</td>\n",
       "      <td>-118.2488</td>\n",
       "      <td>2010</td>\n",
       "    </tr>\n",
       "    <tr>\n",
       "      <th>5</th>\n",
       "      <td>100100506</td>\n",
       "      <td>Central</td>\n",
       "      <td>442</td>\n",
       "      <td>SHOPLIFTING - PETTY THEFT ($950 &amp; UNDER)</td>\n",
       "      <td>23</td>\n",
       "      <td>M</td>\n",
       "      <td>B</td>\n",
       "      <td>DEPARTMENT STORE</td>\n",
       "      <td>34.0480</td>\n",
       "      <td>-118.2577</td>\n",
       "      <td>2010</td>\n",
       "    </tr>\n",
       "    <tr>\n",
       "      <th>6</th>\n",
       "      <td>100100508</td>\n",
       "      <td>Central</td>\n",
       "      <td>330</td>\n",
       "      <td>BURGLARY FROM VEHICLE</td>\n",
       "      <td>46</td>\n",
       "      <td>M</td>\n",
       "      <td>H</td>\n",
       "      <td>STREET</td>\n",
       "      <td>34.0389</td>\n",
       "      <td>-118.2643</td>\n",
       "      <td>2010</td>\n",
       "    </tr>\n",
       "  </tbody>\n",
       "</table>\n",
       "</div>"
      ],
      "text/plain": [
       "   DR Number  Area Name  Crime Code                             Type of Crime  \\\n",
       "0    1307355     Newton         900                  VIOLATION OF COURT ORDER   \n",
       "3   90631215  Hollywood         900                  VIOLATION OF COURT ORDER   \n",
       "4  100100501    Central         122                           RAPE, ATTEMPTED   \n",
       "5  100100506    Central         442  SHOPLIFTING - PETTY THEFT ($950 & UNDER)   \n",
       "6  100100508    Central         330                     BURGLARY FROM VEHICLE   \n",
       "\n",
       "   Victim Age Victim Gender Victim Ethnicity          Scene of Crime  \\\n",
       "0          48             M                H  SINGLE FAMILY DWELLING   \n",
       "3          47             F                W                  STREET   \n",
       "4          47             F                H                   ALLEY   \n",
       "5          23             M                B        DEPARTMENT STORE   \n",
       "6          46             M                H                  STREET   \n",
       "\n",
       "   Latitude  Longitude  Crime Year  \n",
       "0   33.9825  -118.2695        2010  \n",
       "3   34.1016  -118.3295        2010  \n",
       "4   34.0387  -118.2488        2010  \n",
       "5   34.0480  -118.2577        2010  \n",
       "6   34.0389  -118.2643        2010  "
      ]
     },
     "execution_count": 8,
     "metadata": {},
     "output_type": "execute_result"
    }
   ],
   "source": [
    "# Change the name of the columns\n",
    "Data_complete.rename(columns={\n",
    "                    'DR_NO':'DR Number',\n",
    "                    'Crime Year': 'Crime Year',\n",
    "                    'AREA NAME': 'Area Name',\n",
    "                    'Crm Cd': 'Crime Code',\n",
    "                    'Crm Cd Desc':'Type of Crime',\n",
    "                    'Vict Age': 'Victim Age',\n",
    "                    'Vict Sex': 'Victim Gender',\n",
    "                    'Vict Descent': 'Victim Ethnicity',\n",
    "                    'Premis Desc': 'Scene of Crime',\n",
    "                    'LAT': 'Latitude',\n",
    "                    'LON': 'Longitude'\n",
    "                    \n",
    "},inplace= True)\n",
    "\n",
    "Data_complete.head()\n",
    "\n",
    "\n",
    "\n"
   ]
  },
  {
   "cell_type": "code",
   "execution_count": null,
   "metadata": {},
   "outputs": [],
   "source": []
  },
  {
   "cell_type": "code",
   "execution_count": 10,
   "metadata": {},
   "outputs": [
    {
     "name": "stdout",
     "output_type": "stream",
     "text": [
      "<class 'pandas.core.frame.DataFrame'>\n",
      "Index: 2332485 entries, 0 to 2951496\n",
      "Data columns (total 12 columns):\n",
      " #   Column            Dtype  \n",
      "---  ------            -----  \n",
      " 0   DR Number         int64  \n",
      " 1   Date Rptd         object \n",
      " 2   Area Name         object \n",
      " 3   Crime Code        int64  \n",
      " 4   Type of Crime     object \n",
      " 5   Victim Age        int64  \n",
      " 6   Victim Gender     object \n",
      " 7   Victim Ethnicity  object \n",
      " 8   Scene of Crime    object \n",
      " 9   Latitude          float64\n",
      " 10  Longitude         float64\n",
      " 11  Crime Year        int32  \n",
      "dtypes: float64(2), int32(1), int64(3), object(6)\n",
      "memory usage: 222.4+ MB\n"
     ]
    }
   ],
   "source": [
    "Data_complete.info()"
   ]
  },
  {
   "cell_type": "code",
   "execution_count": 11,
   "metadata": {},
   "outputs": [
    {
     "name": "stdout",
     "output_type": "stream",
     "text": [
      "Victim Age\n",
      "25     63307\n",
      "28     63285\n",
      "27     63116\n",
      "30     63075\n",
      "29     62990\n",
      "       ...  \n",
      "96       273\n",
      "97       228\n",
      "98       177\n",
      "118        1\n",
      "120        1\n",
      "Name: count, Length: 100, dtype: int64\n"
     ]
    }
   ],
   "source": [
    "unique_demo = Data_complete[\"Victim Age\"].value_counts()\n",
    "print(unique_demo)"
   ]
  },
  {
   "cell_type": "code",
   "execution_count": 10,
   "metadata": {},
   "outputs": [
    {
     "name": "stdout",
     "output_type": "stream",
     "text": [
      "Victim Ethnicity\n",
      "H    938014\n",
      "W    615768\n",
      "B    440622\n",
      "O    215936\n",
      "A     66599\n",
      "X     27139\n",
      "K     12271\n",
      "F      5875\n",
      "C      4157\n",
      "I      1673\n",
      "J      1538\n",
      "V      1040\n",
      "P       554\n",
      "Z       546\n",
      "U       275\n",
      "G       138\n",
      "D        82\n",
      "S        70\n",
      "L        67\n",
      "-         3\n",
      "Name: count, dtype: int64\n"
     ]
    }
   ],
   "source": [
    "unique_demo = Data_complete[\"Victim Ethnicity\"].value_counts()\n",
    "print(unique_demo)"
   ]
  },
  {
   "cell_type": "code",
   "execution_count": 14,
   "metadata": {},
   "outputs": [
    {
     "name": "stdout",
     "output_type": "stream",
     "text": [
      "Area Name\n",
      "77th Street    163033\n",
      "Southwest      158221\n",
      "Central        130086\n",
      "Pacific        123949\n",
      "Southeast      121684\n",
      "N Hollywood    121637\n",
      "Hollywood      113135\n",
      "Van Nuys       110939\n",
      "Topanga        109039\n",
      "West LA        105087\n",
      "Wilshire       105011\n",
      "Newton         104731\n",
      "Rampart        104128\n",
      "Northeast      103791\n",
      "Devonshire     102243\n",
      "Mission        101023\n",
      "Olympic         98995\n",
      "West Valley     98016\n",
      "Harbor          94000\n",
      "Foothill        85644\n",
      "Hollenbeck      78093\n",
      "Name: count, dtype: int64\n"
     ]
    }
   ],
   "source": [
    "unique_demo = Data_complete[\"Area Name\"].value_counts()\n",
    "print(unique_demo)"
   ]
  },
  {
   "cell_type": "markdown",
   "metadata": {},
   "source": [
    "## Crimes Summary"
   ]
  },
  {
   "cell_type": "code",
   "execution_count": 11,
   "metadata": {},
   "outputs": [
    {
     "ename": "SyntaxError",
     "evalue": "invalid syntax (443528139.py, line 2)",
     "output_type": "error",
     "traceback": [
      "\u001b[0;36m  Cell \u001b[0;32mIn[11], line 2\u001b[0;36m\u001b[0m\n\u001b[0;31m    Total_crime_count =\u001b[0m\n\u001b[0m                        ^\u001b[0m\n\u001b[0;31mSyntaxError\u001b[0m\u001b[0;31m:\u001b[0m invalid syntax\n"
     ]
    }
   ],
   "source": [
    "# Calculate the total number of Crimes \n",
    "Total_crime_count = Data_complete\n",
    "\n",
    "\n",
    "# unique kind of the crimes:\n",
    "Kind_of_crimes = clean_crime_data.groupby([\"Crm Cd Desc\",\"crime_year\"], as_index = false).count()\n",
    "\n",
    "# Pick which highest frequency (5)\n",
    "highest_frequency_crime = Kind_of_crimes.sort_values(ascending= False)\n",
    "\n",
    "# Inside the home and outside the home( COVID people were home)\n",
    "\n"
   ]
  },
  {
   "cell_type": "code",
   "execution_count": null,
   "metadata": {},
   "outputs": [],
   "source": [
    "#Plot a line graph showing the overall crimes trend change over the years\n",
    "plot.line"
   ]
  },
  {
   "cell_type": "markdown",
   "metadata": {},
   "source": []
  },
  {
   "cell_type": "code",
   "execution_count": null,
   "metadata": {},
   "outputs": [],
   "source": [
    "# Calculate the kind of crimes (e.g different kind of crimes) per year??\n",
    "#the distribution of crime types over the years\n",
    "#clean_crime_data.loc(2017)\n",
    "#df_2017= \n",
    "#df_2018\n",
    "#df_2019\n",
    "#df_2020\n",
    "#df_2021\n",
    "#df_2022\n",
    "#crime_type\n",
    "\n"
   ]
  },
  {
   "cell_type": "code",
   "execution_count": null,
   "metadata": {},
   "outputs": [],
   "source": []
  },
  {
   "cell_type": "code",
   "execution_count": null,
   "metadata": {},
   "outputs": [],
   "source": [
    "# Create a dataframe with crime_type and year????\n",
    "crime_summary = pd.DataFrame({\n",
    "    "
   ]
  },
  {
   "cell_type": "code",
   "execution_count": null,
   "metadata": {},
   "outputs": [],
   "source": [
    "# Plot a bar plot with multiple columns over the different years for total number of crimes(value count)\n"
   ]
  },
  {
   "cell_type": "code",
   "execution_count": null,
   "metadata": {},
   "outputs": [],
   "source": [
    "# Plot another histogram for average of pre covid and post covid crimes (Total and one for each crime)."
   ]
  },
  {
   "cell_type": "markdown",
   "metadata": {},
   "source": [
    "## Area Summary"
   ]
  },
  {
   "cell_type": "code",
   "execution_count": null,
   "metadata": {},
   "outputs": [],
   "source": [
    "#  select all of the different Areas\n"
   ]
  },
  {
   "cell_type": "code",
   "execution_count": null,
   "metadata": {},
   "outputs": [],
   "source": [
    "# Divide areas into Central, Valley, South, West"
   ]
  },
  {
   "cell_type": "code",
   "execution_count": null,
   "metadata": {},
   "outputs": [],
   "source": [
    "# Calculate the total crimes per area per year\n",
    "per_area_crime_counts = "
   ]
  },
  {
   "cell_type": "code",
   "execution_count": null,
   "metadata": {},
   "outputs": [],
   "source": [
    "#calculate crime types per area\n",
    "# Five highest crimes "
   ]
  },
  {
   "cell_type": "code",
   "execution_count": null,
   "metadata": {},
   "outputs": [],
   "source": [
    "# Geoplot the area "
   ]
  },
  {
   "cell_type": "code",
   "execution_count": null,
   "metadata": {},
   "outputs": [],
   "source": [
    "# Make a data frame with Columns for Average crime per area\n",
    "\n",
    "\n",
    "# Display Data Frame"
   ]
  },
  {
   "cell_type": "code",
   "execution_count": null,
   "metadata": {},
   "outputs": [],
   "source": [
    "# Highest Crime Area(By Total Crimes)"
   ]
  },
  {
   "cell_type": "code",
   "execution_count": null,
   "metadata": {},
   "outputs": [],
   "source": [
    "# Lowest Crime Area (By Total Crime)"
   ]
  },
  {
   "cell_type": "code",
   "execution_count": null,
   "metadata": {},
   "outputs": [],
   "source": [
    "#Bar chart four areas, four years and total number of crimes"
   ]
  },
  {
   "cell_type": "code",
   "execution_count": null,
   "metadata": {},
   "outputs": [],
   "source": [
    "# Identify Hot Spots\n",
    "#Crime in each area acroos the years"
   ]
  },
  {
   "cell_type": "code",
   "execution_count": null,
   "metadata": {},
   "outputs": [],
   "source": [
    "# Any change in the Hot spots overs the years\n"
   ]
  },
  {
   "cell_type": "markdown",
   "metadata": {},
   "source": [
    "### Female Vs Male Victims"
   ]
  },
  {
   "cell_type": "code",
   "execution_count": null,
   "metadata": {},
   "outputs": [],
   "source": [
    "# Generate a pie plot showing the distribution of female versus male victims using Pandas\n",
    "data = data[\"Sex\"].value_counts()\n",
    "plt.title(\"Female vs. Male Victims\")\n",
    "Female_male_data.plot.pie(autopct= \"%1.1f%%\")\n",
    "plt.show()"
   ]
  },
  {
   "cell_type": "markdown",
   "metadata": {},
   "source": [
    "### Victim Race "
   ]
  },
  {
   "cell_type": "markdown",
   "metadata": {},
   "source": [
    "# Child Abuse compare over the years"
   ]
  },
  {
   "cell_type": "markdown",
   "metadata": {},
   "source": [
    "## Change in crime spot"
   ]
  },
  {
   "cell_type": "code",
   "execution_count": null,
   "metadata": {},
   "outputs": [],
   "source": [
    "#Splitting race by groups: Black, White, Hispanics, Asians"
   ]
  },
  {
   "cell_type": "code",
   "execution_count": null,
   "metadata": {},
   "outputs": [],
   "source": [
    "#Splitting premise into 4 categories: Commercial, residential, industrial and outdoors\n",
    "# using Bins"
   ]
  },
  {
   "cell_type": "code",
   "execution_count": null,
   "metadata": {},
   "outputs": [],
   "source": []
  },
  {
   "cell_type": "code",
   "execution_count": null,
   "metadata": {},
   "outputs": [],
   "source": [
    "#Percentage of increase and decrease in crimes over the years\n",
    "Total_crime_count groupbyyear (count)"
   ]
  },
  {
   "cell_type": "code",
   "execution_count": null,
   "metadata": {},
   "outputs": [],
   "source": [
    " #How has crime changed over the years?\n",
    " \n",
    " Line graphs "
   ]
  }
 ],
 "metadata": {
  "anaconda-cloud": {},
  "kernel_info": {
   "name": "python3"
  },
  "kernelspec": {
   "display_name": "Python 3 (ipykernel)",
   "language": "python",
   "name": "python3"
  },
  "language_info": {
   "codemirror_mode": {
    "name": "ipython",
    "version": 3
   },
   "file_extension": ".py",
   "mimetype": "text/x-python",
   "name": "python",
   "nbconvert_exporter": "python",
   "pygments_lexer": "ipython3",
   "version": "3.11.4"
  },
  "latex_envs": {
   "LaTeX_envs_menu_present": true,
   "autoclose": false,
   "autocomplete": true,
   "bibliofile": "biblio.bib",
   "cite_by": "apalike",
   "current_citInitial": 1,
   "eqLabelWithNumbers": true,
   "eqNumInitial": 1,
   "hotkeys": {
    "equation": "Ctrl-E",
    "itemize": "Ctrl-I"
   },
   "labels_anchors": false,
   "latex_user_defs": false,
   "report_style_numbering": false,
   "user_envs_cfg": false
  },
  "nteract": {
   "version": "0.8.4"
  },
  "vscode": {
   "interpreter": {
    "hash": "5384d77d82de63fd599f73e77f9ec786e7719288bf80a29ec0288c670ac3cf32"
   }
  }
 },
 "nbformat": 4,
 "nbformat_minor": 4
}
