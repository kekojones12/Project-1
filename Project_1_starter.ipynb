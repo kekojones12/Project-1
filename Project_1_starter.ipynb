{
 "cells": [
  {
   "attachments": {},
   "cell_type": "markdown",
   "metadata": {},
   "source": [
    "# Crime Data Analysis\n",
    "\n",
    "- Your analysis here\n",
    "  \n",
    "---"
   ]
  },
  {
   "cell_type": "code",
   "execution_count": 28,
   "metadata": {},
   "outputs": [
    {
     "data": {
      "text/plain": [
       "Index(['DR_NO', 'Date Rptd', 'DATE OCC', 'TIME OCC', 'AREA ', 'AREA NAME',\n",
       "       'Rpt Dist No', 'Part 1-2', 'Crm Cd', 'Crm Cd Desc', 'Mocodes',\n",
       "       'Vict Age', 'Vict Sex', 'Vict Descent', 'Premis Cd', 'Premis Desc',\n",
       "       'Weapon Used Cd', 'Weapon Desc', 'Status', 'Status Desc', 'Crm Cd 1',\n",
       "       'Crm Cd 2', 'Crm Cd 3', 'Crm Cd 4', 'LOCATION', 'Cross Street', 'LAT',\n",
       "       'LON', 'version https://git-lfs.github.com/spec/v1'],\n",
       "      dtype='object')"
      ]
     },
     "execution_count": 28,
     "metadata": {},
     "output_type": "execute_result"
    }
   ],
   "source": [
    "# Dependencies and Setup\n",
    "import pandas as pd\n",
    "from pathlib import Path\n",
    "import matplotlib\n",
    "\n",
    "# File to Load (Remember to Change These)\n",
    "data_2010_2019 = Path(\"Crime_Data_from_2010_to_2019 (1).csv\")\n",
    "data_2020_2023 = Path(\"Crime_Data_from_2020_to_Present_20231016.csv\")\n",
    "\n",
    "# Read data(2010-2019) and data (2020- present)Data File and store into Pandas DataFrames\n",
    "pre_covid_data = pd.read_csv(data_2010_2019)\n",
    "post_covid_data = pd.read_csv(data_2020_2023)\n",
    "#pre_covid_data.head(5)\n",
    "#post_covid_data.head(5)\n",
    "\n",
    "# Combine the data into a single dataset.  \n",
    "Data_complete = pd.concat([pre_covid_data, post_covid_data], ignore_index=True)\n",
    "Data_complete.columns"
   ]
  },
  {
   "cell_type": "code",
   "execution_count": 21,
   "metadata": {},
   "outputs": [
    {
     "data": {
      "text/html": [
       "<div>\n",
       "<style scoped>\n",
       "    .dataframe tbody tr th:only-of-type {\n",
       "        vertical-align: middle;\n",
       "    }\n",
       "\n",
       "    .dataframe tbody tr th {\n",
       "        vertical-align: top;\n",
       "    }\n",
       "\n",
       "    .dataframe thead th {\n",
       "        text-align: right;\n",
       "    }\n",
       "</style>\n",
       "<table border=\"1\" class=\"dataframe\">\n",
       "  <thead>\n",
       "    <tr style=\"text-align: right;\">\n",
       "      <th></th>\n",
       "      <th>DR Number</th>\n",
       "      <th>Date Rptd</th>\n",
       "      <th>DATE OCC</th>\n",
       "      <th>TIME OCC</th>\n",
       "      <th>AREA</th>\n",
       "      <th>Area Name</th>\n",
       "      <th>Rpt Dist No</th>\n",
       "      <th>Part 1-2</th>\n",
       "      <th>Crime Code</th>\n",
       "      <th>Type of Crime</th>\n",
       "      <th>...</th>\n",
       "      <th>Crm Cd 1</th>\n",
       "      <th>Crm Cd 2</th>\n",
       "      <th>Crm Cd 3</th>\n",
       "      <th>Crm Cd 4</th>\n",
       "      <th>LOCATION</th>\n",
       "      <th>Cross Street</th>\n",
       "      <th>Latitude</th>\n",
       "      <th>Longitude</th>\n",
       "      <th>version https://git-lfs.github.com/spec/v1</th>\n",
       "      <th>Crime Location</th>\n",
       "    </tr>\n",
       "  </thead>\n",
       "  <tbody>\n",
       "    <tr>\n",
       "      <th>0</th>\n",
       "      <td>1307355.0</td>\n",
       "      <td>02/20/2010 12:00:00 AM</td>\n",
       "      <td>02/20/2010 12:00:00 AM</td>\n",
       "      <td>1350.0</td>\n",
       "      <td>13.0</td>\n",
       "      <td>Newton</td>\n",
       "      <td>1385.0</td>\n",
       "      <td>2.0</td>\n",
       "      <td>900.0</td>\n",
       "      <td>VIOLATION OF COURT ORDER</td>\n",
       "      <td>...</td>\n",
       "      <td>900.0</td>\n",
       "      <td>NaN</td>\n",
       "      <td>NaN</td>\n",
       "      <td>NaN</td>\n",
       "      <td>300 E  GAGE                         AV</td>\n",
       "      <td>NaN</td>\n",
       "      <td>33.9825</td>\n",
       "      <td>-118.2695</td>\n",
       "      <td>NaN</td>\n",
       "      <td>RESIDENTIAL</td>\n",
       "    </tr>\n",
       "    <tr>\n",
       "      <th>3</th>\n",
       "      <td>90631215.0</td>\n",
       "      <td>01/05/2010 12:00:00 AM</td>\n",
       "      <td>01/05/2010 12:00:00 AM</td>\n",
       "      <td>150.0</td>\n",
       "      <td>6.0</td>\n",
       "      <td>Hollywood</td>\n",
       "      <td>646.0</td>\n",
       "      <td>2.0</td>\n",
       "      <td>900.0</td>\n",
       "      <td>VIOLATION OF COURT ORDER</td>\n",
       "      <td>...</td>\n",
       "      <td>900.0</td>\n",
       "      <td>998.0</td>\n",
       "      <td>NaN</td>\n",
       "      <td>NaN</td>\n",
       "      <td>CAHUENGA                     BL</td>\n",
       "      <td>HOLLYWOOD                    BL</td>\n",
       "      <td>34.1016</td>\n",
       "      <td>-118.3295</td>\n",
       "      <td>NaN</td>\n",
       "      <td>OUTDOORS</td>\n",
       "    </tr>\n",
       "    <tr>\n",
       "      <th>4</th>\n",
       "      <td>100100501.0</td>\n",
       "      <td>01/03/2010 12:00:00 AM</td>\n",
       "      <td>01/02/2010 12:00:00 AM</td>\n",
       "      <td>2100.0</td>\n",
       "      <td>1.0</td>\n",
       "      <td>Central</td>\n",
       "      <td>176.0</td>\n",
       "      <td>1.0</td>\n",
       "      <td>122.0</td>\n",
       "      <td>RAPE, ATTEMPTED</td>\n",
       "      <td>...</td>\n",
       "      <td>122.0</td>\n",
       "      <td>NaN</td>\n",
       "      <td>NaN</td>\n",
       "      <td>NaN</td>\n",
       "      <td>8TH                          ST</td>\n",
       "      <td>SAN PEDRO                    ST</td>\n",
       "      <td>34.0387</td>\n",
       "      <td>-118.2488</td>\n",
       "      <td>NaN</td>\n",
       "      <td>OTHER</td>\n",
       "    </tr>\n",
       "    <tr>\n",
       "      <th>5</th>\n",
       "      <td>100100506.0</td>\n",
       "      <td>01/05/2010 12:00:00 AM</td>\n",
       "      <td>01/04/2010 12:00:00 AM</td>\n",
       "      <td>1650.0</td>\n",
       "      <td>1.0</td>\n",
       "      <td>Central</td>\n",
       "      <td>162.0</td>\n",
       "      <td>1.0</td>\n",
       "      <td>442.0</td>\n",
       "      <td>SHOPLIFTING - PETTY THEFT ($950 &amp; UNDER)</td>\n",
       "      <td>...</td>\n",
       "      <td>442.0</td>\n",
       "      <td>NaN</td>\n",
       "      <td>NaN</td>\n",
       "      <td>NaN</td>\n",
       "      <td>700 W  7TH                          ST</td>\n",
       "      <td>NaN</td>\n",
       "      <td>34.0480</td>\n",
       "      <td>-118.2577</td>\n",
       "      <td>NaN</td>\n",
       "      <td>OTHER</td>\n",
       "    </tr>\n",
       "    <tr>\n",
       "      <th>6</th>\n",
       "      <td>100100508.0</td>\n",
       "      <td>01/08/2010 12:00:00 AM</td>\n",
       "      <td>01/07/2010 12:00:00 AM</td>\n",
       "      <td>2005.0</td>\n",
       "      <td>1.0</td>\n",
       "      <td>Central</td>\n",
       "      <td>182.0</td>\n",
       "      <td>1.0</td>\n",
       "      <td>330.0</td>\n",
       "      <td>BURGLARY FROM VEHICLE</td>\n",
       "      <td>...</td>\n",
       "      <td>330.0</td>\n",
       "      <td>NaN</td>\n",
       "      <td>NaN</td>\n",
       "      <td>NaN</td>\n",
       "      <td>PICO                         BL</td>\n",
       "      <td>GRAND                        AV</td>\n",
       "      <td>34.0389</td>\n",
       "      <td>-118.2643</td>\n",
       "      <td>NaN</td>\n",
       "      <td>OUTDOORS</td>\n",
       "    </tr>\n",
       "  </tbody>\n",
       "</table>\n",
       "<p>5 rows × 30 columns</p>\n",
       "</div>"
      ],
      "text/plain": [
       "     DR Number               Date Rptd                DATE OCC  TIME OCC  \\\n",
       "0    1307355.0  02/20/2010 12:00:00 AM  02/20/2010 12:00:00 AM    1350.0   \n",
       "3   90631215.0  01/05/2010 12:00:00 AM  01/05/2010 12:00:00 AM     150.0   \n",
       "4  100100501.0  01/03/2010 12:00:00 AM  01/02/2010 12:00:00 AM    2100.0   \n",
       "5  100100506.0  01/05/2010 12:00:00 AM  01/04/2010 12:00:00 AM    1650.0   \n",
       "6  100100508.0  01/08/2010 12:00:00 AM  01/07/2010 12:00:00 AM    2005.0   \n",
       "\n",
       "   AREA   Area Name  Rpt Dist No  Part 1-2  Crime Code  \\\n",
       "0   13.0     Newton       1385.0       2.0       900.0   \n",
       "3    6.0  Hollywood        646.0       2.0       900.0   \n",
       "4    1.0    Central        176.0       1.0       122.0   \n",
       "5    1.0    Central        162.0       1.0       442.0   \n",
       "6    1.0    Central        182.0       1.0       330.0   \n",
       "\n",
       "                              Type of Crime  ... Crm Cd 1  Crm Cd 2 Crm Cd 3  \\\n",
       "0                  VIOLATION OF COURT ORDER  ...    900.0       NaN      NaN   \n",
       "3                  VIOLATION OF COURT ORDER  ...    900.0     998.0      NaN   \n",
       "4                           RAPE, ATTEMPTED  ...    122.0       NaN      NaN   \n",
       "5  SHOPLIFTING - PETTY THEFT ($950 & UNDER)  ...    442.0       NaN      NaN   \n",
       "6                     BURGLARY FROM VEHICLE  ...    330.0       NaN      NaN   \n",
       "\n",
       "  Crm Cd 4                                LOCATION  \\\n",
       "0      NaN  300 E  GAGE                         AV   \n",
       "3      NaN         CAHUENGA                     BL   \n",
       "4      NaN         8TH                          ST   \n",
       "5      NaN  700 W  7TH                          ST   \n",
       "6      NaN         PICO                         BL   \n",
       "\n",
       "                      Cross Street  Latitude Longitude  \\\n",
       "0                              NaN   33.9825 -118.2695   \n",
       "3  HOLLYWOOD                    BL   34.1016 -118.3295   \n",
       "4  SAN PEDRO                    ST   34.0387 -118.2488   \n",
       "5                              NaN   34.0480 -118.2577   \n",
       "6  GRAND                        AV   34.0389 -118.2643   \n",
       "\n",
       "  version https://git-lfs.github.com/spec/v1 Crime Location  \n",
       "0                                        NaN    RESIDENTIAL  \n",
       "3                                        NaN       OUTDOORS  \n",
       "4                                        NaN          OTHER  \n",
       "5                                        NaN          OTHER  \n",
       "6                                        NaN       OUTDOORS  \n",
       "\n",
       "[5 rows x 30 columns]"
      ]
     },
     "execution_count": 21,
     "metadata": {},
     "output_type": "execute_result"
    }
   ],
   "source": [
    "Data_complete.head()"
   ]
  },
  {
   "cell_type": "code",
   "execution_count": 31,
   "metadata": {},
   "outputs": [
    {
     "name": "stdout",
     "output_type": "stream",
     "text": [
      "<class 'pandas.core.frame.DataFrame'>\n",
      "RangeIndex: 2135622 entries, 0 to 2135621\n",
      "Data columns (total 29 columns):\n",
      " #   Column                                      Dtype  \n",
      "---  ------                                      -----  \n",
      " 0   DR_NO                                       float64\n",
      " 1   Date Rptd                                   object \n",
      " 2   DATE OCC                                    object \n",
      " 3   TIME OCC                                    float64\n",
      " 4   AREA                                        float64\n",
      " 5   AREA NAME                                   object \n",
      " 6   Rpt Dist No                                 float64\n",
      " 7   Part 1-2                                    float64\n",
      " 8   Crm Cd                                      float64\n",
      " 9   Crm Cd Desc                                 object \n",
      " 10  Mocodes                                     object \n",
      " 11  Vict Age                                    float64\n",
      " 12  Vict Sex                                    object \n",
      " 13  Vict Descent                                object \n",
      " 14  Premis Cd                                   float64\n",
      " 15  Premis Desc                                 object \n",
      " 16  Weapon Used Cd                              float64\n",
      " 17  Weapon Desc                                 object \n",
      " 18  Status                                      object \n",
      " 19  Status Desc                                 object \n",
      " 20  Crm Cd 1                                    float64\n",
      " 21  Crm Cd 2                                    float64\n",
      " 22  Crm Cd 3                                    float64\n",
      " 23  Crm Cd 4                                    float64\n",
      " 24  LOCATION                                    object \n",
      " 25  Cross Street                                object \n",
      " 26  LAT                                         float64\n",
      " 27  LON                                         float64\n",
      " 28  version https://git-lfs.github.com/spec/v1  object \n",
      "dtypes: float64(15), object(14)\n",
      "memory usage: 472.5+ MB\n"
     ]
    }
   ],
   "source": [
    "Data_complete.info()"
   ]
  },
  {
   "cell_type": "markdown",
   "metadata": {},
   "source": [
    "Data Analysis\n"
   ]
  },
  {
   "cell_type": "code",
   "execution_count": 32,
   "metadata": {},
   "outputs": [
    {
     "data": {
      "text/plain": [
       "29"
      ]
     },
     "execution_count": 32,
     "metadata": {},
     "output_type": "execute_result"
    }
   ],
   "source": [
    "len(Data_complete.columns)"
   ]
  },
  {
   "cell_type": "code",
   "execution_count": 29,
   "metadata": {},
   "outputs": [
    {
     "data": {
      "text/plain": [
       "0          2010.0\n",
       "1          2010.0\n",
       "2          2010.0\n",
       "3          2010.0\n",
       "4          2010.0\n",
       "            ...  \n",
       "2135617       NaN\n",
       "2135618       NaN\n",
       "2135619       NaN\n",
       "2135620       NaN\n",
       "2135621       NaN\n",
       "Name: Crime Year, Length: 2135622, dtype: float64"
      ]
     },
     "execution_count": 29,
     "metadata": {},
     "output_type": "execute_result"
    }
   ],
   "source": [
    "\n",
    "Data_complete['Crime Year'] = pd.to_datetime(Data_complete['Date Rptd']).dt.year\n",
    "\n",
    "Data_complete['Crime Year']"
   ]
  },
  {
   "cell_type": "code",
   "execution_count": 22,
   "metadata": {},
   "outputs": [],
   "source": [
    "#Drop the columns not needed\n",
    "Data_complete.drop(Data_complete.columns[[1, 2, 3, 4, 6, 7, 10, 14, 16, 17, 18, 19, 20, 21, 22, 23, 24, 25,28]], axis=1, inplace=True)\n",
    "\n",
    "# Now, you can access Data_complete without any issues\n",
    "\n"
   ]
  },
  {
   "cell_type": "code",
   "execution_count": null,
   "metadata": {},
   "outputs": [],
   "source": []
  },
  {
   "cell_type": "code",
   "execution_count": 24,
   "metadata": {},
   "outputs": [
    {
     "ename": "KeyError",
     "evalue": "Index(['DR_NO'], dtype='object')",
     "output_type": "error",
     "traceback": [
      "\u001b[1;31m---------------------------------------------------------------------------\u001b[0m",
      "\u001b[1;31mKeyError\u001b[0m                                  Traceback (most recent call last)",
      "\u001b[1;32mc:\\Users\\lisal\\OneDrive\\Desktop\\Project 1\\Project-1\\Project_1_starter.ipynb Cell 10\u001b[0m line \u001b[0;36m2\n\u001b[0;32m      <a href='vscode-notebook-cell:/c%3A/Users/lisal/OneDrive/Desktop/Project%201/Project-1/Project_1_starter.ipynb#X12sZmlsZQ%3D%3D?line=0'>1</a>\u001b[0m \u001b[39m# Clean data for duplicate\u001b[39;00m\n\u001b[1;32m----> <a href='vscode-notebook-cell:/c%3A/Users/lisal/OneDrive/Desktop/Project%201/Project-1/Project_1_starter.ipynb#X12sZmlsZQ%3D%3D?line=1'>2</a>\u001b[0m Data_complete \u001b[39m=\u001b[39m Data_complete\u001b[39m.\u001b[39mdrop_duplicates(subset\u001b[39m=\u001b[39m[\u001b[39m'\u001b[39m\u001b[39mDR_NO\u001b[39m\u001b[39m'\u001b[39m])\n\u001b[0;32m      <a href='vscode-notebook-cell:/c%3A/Users/lisal/OneDrive/Desktop/Project%201/Project-1/Project_1_starter.ipynb#X12sZmlsZQ%3D%3D?line=2'>3</a>\u001b[0m \u001b[39m# Clean data for -ve values\u001b[39;00m\n\u001b[0;32m      <a href='vscode-notebook-cell:/c%3A/Users/lisal/OneDrive/Desktop/Project%201/Project-1/Project_1_starter.ipynb#X12sZmlsZQ%3D%3D?line=3'>4</a>\u001b[0m \n\u001b[0;32m      <a href='vscode-notebook-cell:/c%3A/Users/lisal/OneDrive/Desktop/Project%201/Project-1/Project_1_starter.ipynb#X12sZmlsZQ%3D%3D?line=4'>5</a>\u001b[0m \u001b[39m# Remove enteries with  Victim Sex : X and Victim Race: X, Removing 0 in VictAge\u001b[39;00m\n\u001b[0;32m      <a href='vscode-notebook-cell:/c%3A/Users/lisal/OneDrive/Desktop/Project%201/Project-1/Project_1_starter.ipynb#X12sZmlsZQ%3D%3D?line=6'>7</a>\u001b[0m Data_complete \u001b[39m=\u001b[39m Data_complete[Data_complete[\u001b[39m'\u001b[39m\u001b[39mVict Age\u001b[39m\u001b[39m'\u001b[39m] \u001b[39m>\u001b[39m \u001b[39m0\u001b[39m]\n",
      "File \u001b[1;32mc:\\ProgramData\\anaconda3\\Lib\\site-packages\\pandas\\util\\_decorators.py:331\u001b[0m, in \u001b[0;36mdeprecate_nonkeyword_arguments.<locals>.decorate.<locals>.wrapper\u001b[1;34m(*args, **kwargs)\u001b[0m\n\u001b[0;32m    325\u001b[0m \u001b[39mif\u001b[39;00m \u001b[39mlen\u001b[39m(args) \u001b[39m>\u001b[39m num_allow_args:\n\u001b[0;32m    326\u001b[0m     warnings\u001b[39m.\u001b[39mwarn(\n\u001b[0;32m    327\u001b[0m         msg\u001b[39m.\u001b[39mformat(arguments\u001b[39m=\u001b[39m_format_argument_list(allow_args)),\n\u001b[0;32m    328\u001b[0m         \u001b[39mFutureWarning\u001b[39;00m,\n\u001b[0;32m    329\u001b[0m         stacklevel\u001b[39m=\u001b[39mfind_stack_level(),\n\u001b[0;32m    330\u001b[0m     )\n\u001b[1;32m--> 331\u001b[0m \u001b[39mreturn\u001b[39;00m func(\u001b[39m*\u001b[39margs, \u001b[39m*\u001b[39m\u001b[39m*\u001b[39mkwargs)\n",
      "File \u001b[1;32mc:\\ProgramData\\anaconda3\\Lib\\site-packages\\pandas\\core\\frame.py:6672\u001b[0m, in \u001b[0;36mDataFrame.drop_duplicates\u001b[1;34m(self, subset, keep, inplace, ignore_index)\u001b[0m\n\u001b[0;32m   6670\u001b[0m inplace \u001b[39m=\u001b[39m validate_bool_kwarg(inplace, \u001b[39m\"\u001b[39m\u001b[39minplace\u001b[39m\u001b[39m\"\u001b[39m)\n\u001b[0;32m   6671\u001b[0m ignore_index \u001b[39m=\u001b[39m validate_bool_kwarg(ignore_index, \u001b[39m\"\u001b[39m\u001b[39mignore_index\u001b[39m\u001b[39m\"\u001b[39m)\n\u001b[1;32m-> 6672\u001b[0m duplicated \u001b[39m=\u001b[39m \u001b[39mself\u001b[39m\u001b[39m.\u001b[39mduplicated(subset, keep\u001b[39m=\u001b[39mkeep)\n\u001b[0;32m   6674\u001b[0m result \u001b[39m=\u001b[39m \u001b[39mself\u001b[39m[\u001b[39m-\u001b[39mduplicated]\n\u001b[0;32m   6675\u001b[0m \u001b[39mif\u001b[39;00m ignore_index:\n",
      "File \u001b[1;32mc:\\ProgramData\\anaconda3\\Lib\\site-packages\\pandas\\core\\frame.py:6806\u001b[0m, in \u001b[0;36mDataFrame.duplicated\u001b[1;34m(self, subset, keep)\u001b[0m\n\u001b[0;32m   6804\u001b[0m diff \u001b[39m=\u001b[39m \u001b[39mset\u001b[39m(subset) \u001b[39m-\u001b[39m \u001b[39mset\u001b[39m(\u001b[39mself\u001b[39m\u001b[39m.\u001b[39mcolumns)\n\u001b[0;32m   6805\u001b[0m \u001b[39mif\u001b[39;00m diff:\n\u001b[1;32m-> 6806\u001b[0m     \u001b[39mraise\u001b[39;00m \u001b[39mKeyError\u001b[39;00m(Index(diff))\n\u001b[0;32m   6808\u001b[0m \u001b[39mif\u001b[39;00m \u001b[39mlen\u001b[39m(subset) \u001b[39m==\u001b[39m \u001b[39m1\u001b[39m \u001b[39mand\u001b[39;00m \u001b[39mself\u001b[39m\u001b[39m.\u001b[39mcolumns\u001b[39m.\u001b[39mis_unique:\n\u001b[0;32m   6809\u001b[0m     \u001b[39m# GH#45236 This is faster than get_group_index below\u001b[39;00m\n\u001b[0;32m   6810\u001b[0m     result \u001b[39m=\u001b[39m \u001b[39mself\u001b[39m[subset[\u001b[39m0\u001b[39m]]\u001b[39m.\u001b[39mduplicated(keep)\n",
      "\u001b[1;31mKeyError\u001b[0m: Index(['DR_NO'], dtype='object')"
     ]
    }
   ],
   "source": [
    "\n",
    "# Clean data for duplicate\n",
    "Data_complete = Data_complete.drop_duplicates(subset=['DR_NO'])\n",
    "# Clean data for -ve values\n",
    "\n",
    "# Remove enteries with  Victim Sex : X and Victim Race: X, Removing 0 in VictAge\n",
    "\n",
    "Data_complete = Data_complete[Data_complete['Vict Age'] > 0]"
   ]
  },
  {
   "cell_type": "code",
   "execution_count": null,
   "metadata": {},
   "outputs": [],
   "source": []
  },
  {
   "cell_type": "code",
   "execution_count": 18,
   "metadata": {},
   "outputs": [
    {
     "name": "stdout",
     "output_type": "stream",
     "text": [
      "<class 'pandas.core.frame.DataFrame'>\n",
      "Int64Index: 1758649 entries, 0 to 2135614\n",
      "Data columns (total 30 columns):\n",
      " #   Column                                      Dtype  \n",
      "---  ------                                      -----  \n",
      " 0   DR Number                                   float64\n",
      " 1   Date Rptd                                   object \n",
      " 2   DATE OCC                                    object \n",
      " 3   TIME OCC                                    float64\n",
      " 4   AREA                                        float64\n",
      " 5   Area Name                                   object \n",
      " 6   Rpt Dist No                                 float64\n",
      " 7   Part 1-2                                    float64\n",
      " 8   Crime Code                                  float64\n",
      " 9   Type of Crime                               object \n",
      " 10  Mocodes                                     object \n",
      " 11  Victim Age                                  float64\n",
      " 12  Victim Gender                               object \n",
      " 13  Victim Ethnicity                            object \n",
      " 14  Premis Cd                                   float64\n",
      " 15  Scene of Crime                              object \n",
      " 16  Weapon Used Cd                              float64\n",
      " 17  Weapon Desc                                 object \n",
      " 18  Status                                      object \n",
      " 19  Status Desc                                 object \n",
      " 20  Crm Cd 1                                    float64\n",
      " 21  Crm Cd 2                                    float64\n",
      " 22  Crm Cd 3                                    float64\n",
      " 23  Crm Cd 4                                    float64\n",
      " 24  LOCATION                                    object \n",
      " 25  Cross Street                                object \n",
      " 26  Latitude                                    float64\n",
      " 27  Longitude                                   float64\n",
      " 28  version https://git-lfs.github.com/spec/v1  object \n",
      " 29  Crime Location                              object \n",
      "dtypes: float64(15), object(15)\n",
      "memory usage: 415.9+ MB\n"
     ]
    }
   ],
   "source": [
    "Data_complete.info()"
   ]
  },
  {
   "cell_type": "code",
   "execution_count": null,
   "metadata": {},
   "outputs": [],
   "source": []
  },
  {
   "cell_type": "code",
   "execution_count": 25,
   "metadata": {},
   "outputs": [
    {
     "data": {
      "text/html": [
       "<div>\n",
       "<style scoped>\n",
       "    .dataframe tbody tr th:only-of-type {\n",
       "        vertical-align: middle;\n",
       "    }\n",
       "\n",
       "    .dataframe tbody tr th {\n",
       "        vertical-align: top;\n",
       "    }\n",
       "\n",
       "    .dataframe thead th {\n",
       "        text-align: right;\n",
       "    }\n",
       "</style>\n",
       "<table border=\"1\" class=\"dataframe\">\n",
       "  <thead>\n",
       "    <tr style=\"text-align: right;\">\n",
       "      <th></th>\n",
       "      <th>DR Number</th>\n",
       "      <th>Area Name</th>\n",
       "      <th>Crime Code</th>\n",
       "      <th>Type of Crime</th>\n",
       "      <th>Victim Age</th>\n",
       "      <th>Victim Gender</th>\n",
       "      <th>Victim Ethnicity</th>\n",
       "      <th>Scene of Crime</th>\n",
       "      <th>Latitude</th>\n",
       "      <th>Longitude</th>\n",
       "      <th>Crime Location</th>\n",
       "    </tr>\n",
       "  </thead>\n",
       "  <tbody>\n",
       "    <tr>\n",
       "      <th>0</th>\n",
       "      <td>1307355.0</td>\n",
       "      <td>Newton</td>\n",
       "      <td>900.0</td>\n",
       "      <td>VIOLATION OF COURT ORDER</td>\n",
       "      <td>48.0</td>\n",
       "      <td>M</td>\n",
       "      <td>H</td>\n",
       "      <td>SINGLE FAMILY DWELLING</td>\n",
       "      <td>33.9825</td>\n",
       "      <td>-118.2695</td>\n",
       "      <td>RESIDENTIAL</td>\n",
       "    </tr>\n",
       "    <tr>\n",
       "      <th>3</th>\n",
       "      <td>90631215.0</td>\n",
       "      <td>Hollywood</td>\n",
       "      <td>900.0</td>\n",
       "      <td>VIOLATION OF COURT ORDER</td>\n",
       "      <td>47.0</td>\n",
       "      <td>F</td>\n",
       "      <td>W</td>\n",
       "      <td>STREET</td>\n",
       "      <td>34.1016</td>\n",
       "      <td>-118.3295</td>\n",
       "      <td>OUTDOORS</td>\n",
       "    </tr>\n",
       "    <tr>\n",
       "      <th>4</th>\n",
       "      <td>100100501.0</td>\n",
       "      <td>Central</td>\n",
       "      <td>122.0</td>\n",
       "      <td>RAPE, ATTEMPTED</td>\n",
       "      <td>47.0</td>\n",
       "      <td>F</td>\n",
       "      <td>H</td>\n",
       "      <td>ALLEY</td>\n",
       "      <td>34.0387</td>\n",
       "      <td>-118.2488</td>\n",
       "      <td>OTHER</td>\n",
       "    </tr>\n",
       "    <tr>\n",
       "      <th>5</th>\n",
       "      <td>100100506.0</td>\n",
       "      <td>Central</td>\n",
       "      <td>442.0</td>\n",
       "      <td>SHOPLIFTING - PETTY THEFT ($950 &amp; UNDER)</td>\n",
       "      <td>23.0</td>\n",
       "      <td>M</td>\n",
       "      <td>B</td>\n",
       "      <td>DEPARTMENT STORE</td>\n",
       "      <td>34.0480</td>\n",
       "      <td>-118.2577</td>\n",
       "      <td>OTHER</td>\n",
       "    </tr>\n",
       "    <tr>\n",
       "      <th>6</th>\n",
       "      <td>100100508.0</td>\n",
       "      <td>Central</td>\n",
       "      <td>330.0</td>\n",
       "      <td>BURGLARY FROM VEHICLE</td>\n",
       "      <td>46.0</td>\n",
       "      <td>M</td>\n",
       "      <td>H</td>\n",
       "      <td>STREET</td>\n",
       "      <td>34.0389</td>\n",
       "      <td>-118.2643</td>\n",
       "      <td>OUTDOORS</td>\n",
       "    </tr>\n",
       "  </tbody>\n",
       "</table>\n",
       "</div>"
      ],
      "text/plain": [
       "     DR Number  Area Name  Crime Code  \\\n",
       "0    1307355.0     Newton       900.0   \n",
       "3   90631215.0  Hollywood       900.0   \n",
       "4  100100501.0    Central       122.0   \n",
       "5  100100506.0    Central       442.0   \n",
       "6  100100508.0    Central       330.0   \n",
       "\n",
       "                              Type of Crime  Victim Age Victim Gender  \\\n",
       "0                  VIOLATION OF COURT ORDER        48.0             M   \n",
       "3                  VIOLATION OF COURT ORDER        47.0             F   \n",
       "4                           RAPE, ATTEMPTED        47.0             F   \n",
       "5  SHOPLIFTING - PETTY THEFT ($950 & UNDER)        23.0             M   \n",
       "6                     BURGLARY FROM VEHICLE        46.0             M   \n",
       "\n",
       "  Victim Ethnicity          Scene of Crime  Latitude  Longitude Crime Location  \n",
       "0                H  SINGLE FAMILY DWELLING   33.9825  -118.2695    RESIDENTIAL  \n",
       "3                W                  STREET   34.1016  -118.3295       OUTDOORS  \n",
       "4                H                   ALLEY   34.0387  -118.2488          OTHER  \n",
       "5                B        DEPARTMENT STORE   34.0480  -118.2577          OTHER  \n",
       "6                H                  STREET   34.0389  -118.2643       OUTDOORS  "
      ]
     },
     "execution_count": 25,
     "metadata": {},
     "output_type": "execute_result"
    }
   ],
   "source": [
    "# Change the name of the columns\n",
    "Data_complete.rename(columns={\n",
    "                    'DR_NO':'DR Number',\n",
    "                    'Crime Year': 'Crime Year',\n",
    "                    'AREA NAME': 'Area Name',\n",
    "                    'Crm Cd': 'Crime Code',\n",
    "                    'Crm Cd Desc':'Type of Crime',\n",
    "                    'Vict Age': 'Victim Age',\n",
    "                    'Vict Sex': 'Victim Gender',\n",
    "                    'Vict Descent': 'Victim Ethnicity',\n",
    "                    'Premis Desc': 'Scene of Crime',\n",
    "                    'LAT': 'Latitude',\n",
    "                    'LON': 'Longitude'\n",
    "                    \n",
    "},inplace= True)\n",
    "\n",
    "Data_complete.head()\n",
    "\n",
    "\n",
    "\n"
   ]
  },
  {
   "cell_type": "code",
   "execution_count": null,
   "metadata": {},
   "outputs": [],
   "source": []
  },
  {
   "cell_type": "code",
   "execution_count": 30,
   "metadata": {},
   "outputs": [
    {
     "name": "stdout",
     "output_type": "stream",
     "text": [
      "<class 'pandas.core.frame.DataFrame'>\n",
      "RangeIndex: 2135622 entries, 0 to 2135621\n",
      "Data columns (total 30 columns):\n",
      " #   Column                                      Dtype  \n",
      "---  ------                                      -----  \n",
      " 0   DR_NO                                       float64\n",
      " 1   Date Rptd                                   object \n",
      " 2   DATE OCC                                    object \n",
      " 3   TIME OCC                                    float64\n",
      " 4   AREA                                        float64\n",
      " 5   AREA NAME                                   object \n",
      " 6   Rpt Dist No                                 float64\n",
      " 7   Part 1-2                                    float64\n",
      " 8   Crm Cd                                      float64\n",
      " 9   Crm Cd Desc                                 object \n",
      " 10  Mocodes                                     object \n",
      " 11  Vict Age                                    float64\n",
      " 12  Vict Sex                                    object \n",
      " 13  Vict Descent                                object \n",
      " 14  Premis Cd                                   float64\n",
      " 15  Premis Desc                                 object \n",
      " 16  Weapon Used Cd                              float64\n",
      " 17  Weapon Desc                                 object \n",
      " 18  Status                                      object \n",
      " 19  Status Desc                                 object \n",
      " 20  Crm Cd 1                                    float64\n",
      " 21  Crm Cd 2                                    float64\n",
      " 22  Crm Cd 3                                    float64\n",
      " 23  Crm Cd 4                                    float64\n",
      " 24  LOCATION                                    object \n",
      " 25  Cross Street                                object \n",
      " 26  LAT                                         float64\n",
      " 27  LON                                         float64\n",
      " 28  version https://git-lfs.github.com/spec/v1  object \n",
      " 29  Crime Year                                  float64\n",
      "dtypes: float64(16), object(14)\n",
      "memory usage: 488.8+ MB\n"
     ]
    }
   ],
   "source": [
    "Data_complete.info()"
   ]
  },
  {
   "cell_type": "code",
   "execution_count": 39,
   "metadata": {},
   "outputs": [
    {
     "name": "stdout",
     "output_type": "stream",
     "text": [
      "25.0     48350\n",
      "26.0     47858\n",
      "27.0     47308\n",
      "28.0     46917\n",
      "24.0     46870\n",
      "         ...  \n",
      "95.0       246\n",
      "96.0       190\n",
      "97.0       171\n",
      "98.0       121\n",
      "118.0        1\n",
      "Name: Victim Age, Length: 99, dtype: int64\n"
     ]
    }
   ],
   "source": [
    "unique_demo = Data_complete[\"Victim Age\"].value_counts()\n",
    "print(unique_demo)\n",
    "\n"
   ]
  },
  {
   "cell_type": "code",
   "execution_count": 7,
   "metadata": {},
   "outputs": [
    {
     "name": "stdout",
     "output_type": "stream",
     "text": [
      "H    709249\n",
      "W    470138\n",
      "B    332768\n",
      "O    165390\n",
      "A     50308\n",
      "X     15482\n",
      "K      8634\n",
      "F      2861\n",
      "C      1197\n",
      "I       962\n",
      "J       459\n",
      "P       354\n",
      "V       254\n",
      "Z       181\n",
      "U       150\n",
      "G        88\n",
      "S        35\n",
      "D        25\n",
      "L        23\n",
      "-         2\n",
      "Name: Victim Ethnicity, dtype: int64\n"
     ]
    }
   ],
   "source": [
    "unique_demo = Data_complete[\"Victim Ethnicity\"].value_counts()\n",
    "print(unique_demo)"
   ]
  },
  {
   "cell_type": "code",
   "execution_count": 8,
   "metadata": {},
   "outputs": [
    {
     "name": "stdout",
     "output_type": "stream",
     "text": [
      "77th Street    124029\n",
      "Southwest      119862\n",
      "Southeast       97971\n",
      "N Hollywood     92428\n",
      "Pacific         89847\n",
      "Topanga         88094\n",
      "Central         86985\n",
      "Devonshire      84442\n",
      "Van Nuys        83395\n",
      "Mission         82457\n",
      "Hollywood       80552\n",
      "Northeast       79278\n",
      "West LA         77410\n",
      "Olympic         76774\n",
      "Rampart         76297\n",
      "Newton          76290\n",
      "Wilshire        75744\n",
      "West Valley     72821\n",
      "Harbor          70777\n",
      "Foothill        65764\n",
      "Hollenbeck      57432\n",
      "Name: Area Name, dtype: int64\n"
     ]
    }
   ],
   "source": [
    "unique_demo = Data_complete[\"Area Name\"].value_counts()\n",
    "print(unique_demo)"
   ]
  },
  {
   "cell_type": "markdown",
   "metadata": {},
   "source": [
    "## Crimes Summary"
   ]
  },
  {
   "cell_type": "code",
   "execution_count": 9,
   "metadata": {},
   "outputs": [
    {
     "data": {
      "text/plain": [
       "1758649"
      ]
     },
     "execution_count": 9,
     "metadata": {},
     "output_type": "execute_result"
    }
   ],
   "source": [
    "Total_crime_count = len(Data_complete['DR Number'])\n",
    "Total_crime_count"
   ]
  },
  {
   "cell_type": "code",
   "execution_count": 43,
   "metadata": {},
   "outputs": [
    {
     "ename": "NameError",
     "evalue": "name 'plot' is not defined",
     "output_type": "error",
     "traceback": [
      "\u001b[1;31m---------------------------------------------------------------------------\u001b[0m",
      "\u001b[1;31mNameError\u001b[0m                                 Traceback (most recent call last)",
      "\u001b[1;32mc:\\Users\\lisal\\OneDrive\\Desktop\\Project 1\\Project-1\\Project_1_starter.ipynb Cell 22\u001b[0m line \u001b[0;36m2\n\u001b[0;32m      <a href='vscode-notebook-cell:/c%3A/Users/lisal/OneDrive/Desktop/Project%201/Project-1/Project_1_starter.ipynb#X31sZmlsZQ%3D%3D?line=0'>1</a>\u001b[0m \u001b[39m#Plot a line graph showing the overall crimes trend change over the years\u001b[39;00m\n\u001b[1;32m----> <a href='vscode-notebook-cell:/c%3A/Users/lisal/OneDrive/Desktop/Project%201/Project-1/Project_1_starter.ipynb#X31sZmlsZQ%3D%3D?line=1'>2</a>\u001b[0m plot\u001b[39m.\u001b[39mline\n",
      "\u001b[1;31mNameError\u001b[0m: name 'plot' is not defined"
     ]
    }
   ],
   "source": [
    "#Plot a line graph showing the overall crimes trend change over the years\n",
    "plot.line"
   ]
  },
  {
   "cell_type": "markdown",
   "metadata": {},
   "source": []
  },
  {
   "cell_type": "code",
   "execution_count": 12,
   "metadata": {},
   "outputs": [
    {
     "name": "stdout",
     "output_type": "stream",
     "text": [
      "SINGLE FAMILY DWELLING                          425723\n",
      "STREET                                          312874\n",
      "MULTI-UNIT DWELLING (APARTMENT, DUPLEX, ETC)    258746\n",
      "PARKING LOT                                     114346\n",
      "SIDEWALK                                        100816\n",
      "                                                 ...  \n",
      "MTA - SILVER LINE - LAC/USC MEDICAL CENTER           2\n",
      "GREEN LINE (I-105 FWY LEVEL TRAIN)                   1\n",
      "TACTICAL SIGNIFICANCE                                1\n",
      "NUCLEAR FACILITY                                     1\n",
      "REDLINE SUBWAY TUNNEL                                1\n",
      "Name: Scene of Crime, Length: 320, dtype: int64\n"
     ]
    }
   ],
   "source": [
    "# Groups in Scene of Crime\n",
    "unique_SOC = Data_complete[\"Scene of Crime\"].value_counts()\n",
    "print(unique_SOC)"
   ]
  },
  {
   "cell_type": "code",
   "execution_count": null,
   "metadata": {},
   "outputs": [],
   "source": [
    "# Calculate the kind of crimes (e.g different kind of crimes) per year??\n",
    "#the distribution of crime types over the years\n",
    "#clean_crime_data.loc(2017)\n",
    "#df_2017= \n",
    "#df_2018\n",
    "#df_2019\n",
    "#df_2020\n",
    "#df_2021\n",
    "#df_2022\n",
    "#crime_type\n",
    "\n"
   ]
  },
  {
   "cell_type": "code",
   "execution_count": 11,
   "metadata": {},
   "outputs": [
    {
     "name": "stdout",
     "output_type": "stream",
     "text": [
      "RESIDENTIAL    684469\n",
      "OTHER          546144\n",
      "OUTDOORS       528036\n",
      "Name: Crime Location, dtype: int64\n",
      "4                     ALLEY\n",
      "5          DEPARTMENT STORE\n",
      "7             OTHER PREMISE\n",
      "9             OTHER PREMISE\n",
      "13                  LIBRARY\n",
      "                 ...       \n",
      "2135582      PUBLIC STORAGE\n",
      "2135590     OTHER RESIDENCE\n",
      "2135596      PUBLIC STORAGE\n",
      "2135610     PARK/PLAYGROUND\n",
      "2135614      GARAGE/CARPORT\n",
      "Name: Scene of Crime, Length: 546144, dtype: object\n"
     ]
    }
   ],
   "source": [
    "\n",
    "# Create a mapping of the bins\n",
    "bin_mapping = {\n",
    "    \"SINGLE FAMILY DWELLING\": \"RESIDENTIAL\",\n",
    "    \"MULTI-UNIT DWELLING (APARTMENT, DUPLEX, ETC)\": \"RESIDENTIAL\",\n",
    "    \"PARKING LOT\": \"OUTDOORS\",\n",
    "    \"STREET\": \"OUTDOORS\",\n",
    "    \"SIDEWALK\": \"OUTDOORS\"\n",
    "}\n",
    "\n",
    "# Create a new column \"Crime Location\" based on the mapping\n",
    "Data_complete['Crime Location'] = Data_complete['Scene of Crime'].map(bin_mapping)\n",
    "\n",
    "# Fill any remaining values with \"OTHER\"\n",
    "Data_complete['Crime Location'].fillna(\"OTHER\", inplace=True)\n",
    "\n",
    "# Groups in Crime Location\n",
    "unique_CL = Data_complete[\"Crime Location\"].value_counts()\n",
    "print(unique_CL)\n",
    "\n",
    "# Use boolean indexing to filter the DataFrame\n",
    "filtered_data = Data_complete[Data_complete['Crime Location'] == 'OTHER']\n",
    "\n",
    "# Extract the values in the \"Scene of Crime\" column where \"Crime Location\" is \"OTHER\"\n",
    "scene_of_crime_values = filtered_data['Scene of Crime']\n",
    "\n",
    "# Print or use the values as needed\n",
    "print(scene_of_crime_values)"
   ]
  },
  {
   "cell_type": "code",
   "execution_count": null,
   "metadata": {},
   "outputs": [],
   "source": [
    "# Create a dataframe with crime_type and year????\n",
    "crime_summary = pd.DataFrame({\n",
    "    "
   ]
  },
  {
   "cell_type": "markdown",
   "metadata": {},
   "source": [
    "## Area Summary"
   ]
  },
  {
   "cell_type": "code",
   "execution_count": null,
   "metadata": {},
   "outputs": [],
   "source": [
    "#  select all of the different Areas\n"
   ]
  },
  {
   "cell_type": "code",
   "execution_count": null,
   "metadata": {},
   "outputs": [],
   "source": [
    "# Divide areas into Central, Valley, South, West"
   ]
  },
  {
   "cell_type": "code",
   "execution_count": null,
   "metadata": {},
   "outputs": [],
   "source": [
    "# Calculate the total crimes per area per year\n",
    "per_area_crime_counts = "
   ]
  },
  {
   "cell_type": "code",
   "execution_count": 31,
   "metadata": {},
   "outputs": [
    {
     "name": "stdout",
     "output_type": "stream",
     "text": [
      "Index(['DR_NO', 'Date Rptd', 'DATE OCC', 'TIME OCC', 'AREA ', 'AREA NAME',\n",
      "       'Rpt Dist No', 'Part 1-2', 'Crm Cd', 'Crm Cd Desc', 'Mocodes',\n",
      "       'Vict Age', 'Vict Sex', 'Vict Descent', 'Premis Cd', 'Premis Desc',\n",
      "       'Weapon Used Cd', 'Weapon Desc', 'Status', 'Status Desc', 'Crm Cd 1',\n",
      "       'Crm Cd 2', 'Crm Cd 3', 'Crm Cd 4', 'LOCATION', 'Cross Street', 'LAT',\n",
      "       'LON', 'version https://git-lfs.github.com/spec/v1', 'Crime Year'],\n",
      "      dtype='object')\n"
     ]
    }
   ],
   "source": [
    "#calculate crime types per area\n",
    "# Five highest crimes \n",
    "print(Data_complete.columns)"
   ]
  },
  {
   "cell_type": "code",
   "execution_count": 35,
   "metadata": {},
   "outputs": [
    {
     "name": "stdout",
     "output_type": "stream",
     "text": [
      "Crime Year\n",
      "2010.0    43226\n",
      "2011.0    43792\n",
      "2012.0    43608\n",
      "2013.0    41288\n",
      "2014.0    34761\n",
      "2015.0    40567\n",
      "2016.0    42654\n",
      "2017.0    43077\n",
      "2018.0    43136\n",
      "2019.0    41205\n",
      "2020.0     2487\n",
      "2021.0    10111\n",
      "2022.0     2544\n",
      "2023.0      825\n",
      "dtype: int64\n",
      "Crime Year\n",
      "2010.0    25654\n",
      "2011.0    25939\n",
      "2012.0    27467\n",
      "2013.0    26107\n",
      "2014.0    21427\n",
      "2015.0    26426\n",
      "2016.0    26957\n",
      "2017.0    27013\n",
      "2018.0    26355\n",
      "2019.0    24774\n",
      "2020.0     1147\n",
      "2021.0     6272\n",
      "2022.0     1333\n",
      "2023.0      542\n",
      "dtype: int64\n"
     ]
    }
   ],
   "source": [
    "# Geoplot the area \n",
    "# Use the groupby and value_counts methods to count occurrences of \"SINGLE FAMILY DWELLING\" by \"Crime_Year\"\n",
    "# Use the groupby and value_counts methods to count occurrences of \"SINGLE FAMILY DWELLING\" by \"Crime Year\"\n",
    "frequency_by_year = Data_complete[Data_complete['Premis Desc'] == 'SINGLE FAMILY DWELLING'].groupby('Crime Year').size()\n",
    "\n",
    "# Print the resulting Series \n",
    "print(frequency_by_year)\n",
    "\n",
    "# Use the groupby and value_counts methods to count occurrences of \"SINGLE FAMILY DWELLING\" by \"Crime Year\"\n",
    "frequency_by_year = Data_complete[Data_complete['Premis Desc'] == 'MULTI-UNIT DWELLING (APARTMENT, DUPLEX, ETC)'].groupby('Crime Year').size()\n",
    "\n",
    "# Print the resulting Series \"MULTI-UNIT DWELLING (APARTMENT, DUPLEX, ETC)\"\n",
    "print(frequency_by_year)"
   ]
  },
  {
   "cell_type": "code",
   "execution_count": 36,
   "metadata": {},
   "outputs": [
    {
     "data": {
      "image/png": "[encoded data removed]",
      "text/plain": [
       "<Figure size 640x480 with 1 Axes>"
      ]
     },
     "metadata": {},
     "output_type": "display_data"
    }
   ],
   "source": [
    "# Make a data frame with Columns for Average crime per area\n",
    "\n",
    "import pandas as pd\n",
    "import matplotlib.pyplot as plt\n",
    "\n",
    "# Assuming you have a DataFrame named \"Data_complete\"\n",
    "\n",
    "# Use the groupby and value_counts methods to count occurrences of \"SINGLE FAMILY DWELLING\" by \"Crime Year\"\n",
    "filtered_data = Data_complete[Data_complete['Premis Desc'] == 'SINGLE FAMILY DWELLING']\n",
    "frequency_by_year = filtered_data.groupby('Crime Year').size()\n",
    "\n",
    "# Plot the results as a bar chart\n",
    "frequency_by_year.plot(kind='bar')\n",
    "plt.xlabel('Crime Year')\n",
    "plt.ylabel('Frequency')\n",
    "plt.title('Frequency of \"SINGLE FAMILY DWELLING\" by Crime Year')\n",
    "plt.show()\n",
    "# Display Data Frame"
   ]
  },
  {
   "cell_type": "code",
   "execution_count": null,
   "metadata": {},
   "outputs": [],
   "source": [
    "# Highest Crime Area(By Total Crimes)"
   ]
  },
  {
   "cell_type": "code",
   "execution_count": null,
   "metadata": {},
   "outputs": [],
   "source": [
    "# Lowest Crime Area (By Total Crime)"
   ]
  },
  {
   "cell_type": "code",
   "execution_count": null,
   "metadata": {},
   "outputs": [],
   "source": [
    "#Bar chart four areas, four years and total number of crimes"
   ]
  },
  {
   "cell_type": "code",
   "execution_count": null,
   "metadata": {},
   "outputs": [],
   "source": [
    "# Identify Hot Spots\n",
    "#Crime in each area acroos the years"
   ]
  },
  {
   "cell_type": "code",
   "execution_count": 27,
   "metadata": {},
   "outputs": [
    {
     "name": "stdout",
     "output_type": "stream",
     "text": [
      "Index(['DR Number', 'Area Name', 'Crime Code', 'Type of Crime', 'Victim Age',\n",
      "       'Victim Gender', 'Victim Ethnicity', 'Scene of Crime', 'Latitude',\n",
      "       'Longitude', 'Crime Location'],\n",
      "      dtype='object')\n"
     ]
    }
   ],
   "source": [
    "# Any change in the Hot spots overs the years\n",
    "print(Data_complete.columns)"
   ]
  },
  {
   "cell_type": "markdown",
   "metadata": {},
   "source": [
    "### Female Vs Male Victims"
   ]
  },
  {
   "cell_type": "code",
   "execution_count": null,
   "metadata": {},
   "outputs": [],
   "source": [
    "# Generate a pie plot showing the distribution of female versus male victims using Pandas\n",
    "data = data[\"Sex\"].value_counts()\n",
    "plt.title(\"Female vs. Male Victims\")\n",
    "Female_male_data.plot.pie(autopct= \"%1.1f%%\")\n",
    "plt.show()"
   ]
  },
  {
   "cell_type": "markdown",
   "metadata": {},
   "source": [
    "### Victim Race "
   ]
  },
  {
   "cell_type": "markdown",
   "metadata": {},
   "source": [
    "# Child Abuse compare over the years"
   ]
  },
  {
   "cell_type": "markdown",
   "metadata": {},
   "source": [
    "## Change in crime spot"
   ]
  },
  {
   "cell_type": "code",
   "execution_count": null,
   "metadata": {},
   "outputs": [],
   "source": [
    "#Splitting race by groups: Black, White, Hispanics, Asians"
   ]
  },
  {
   "cell_type": "code",
   "execution_count": null,
   "metadata": {},
   "outputs": [],
   "source": [
    "#Splitting premise into 4 categories: Commercial, residential, industrial and outdoors\n",
    "# using Bins\n"
   ]
  },
  {
   "cell_type": "code",
   "execution_count": null,
   "metadata": {},
   "outputs": [],
   "source": []
  },
  {
   "cell_type": "code",
   "execution_count": null,
   "metadata": {},
   "outputs": [],
   "source": [
    "#Percentage of increase and decrease in crimes over the years\n",
    "Total_crime_count groupbyyear (count)"
   ]
  },
  {
   "cell_type": "code",
   "execution_count": null,
   "metadata": {},
   "outputs": [],
   "source": [
    " #How has crime changed over the years?\n",
    " \n",
    " Line graphs "
   ]
  }
 ],
 "metadata": {
  "anaconda-cloud": {},
  "kernel_info": {
   "name": "python3"
  },
  "kernelspec": {
   "display_name": "Python 3 (ipykernel)",
   "language": "python",
   "name": "python3"
  },
  "language_info": {
   "codemirror_mode": {
    "name": "ipython",
    "version": 3
   },
   "file_extension": ".py",
   "mimetype": "text/x-python",
   "name": "python",
   "nbconvert_exporter": "python",
   "pygments_lexer": "ipython3",
   "version": "3.11.4"
  },
  "latex_envs": {
   "LaTeX_envs_menu_present": true,
   "autoclose": false,
   "autocomplete": true,
   "bibliofile": "biblio.bib",
   "cite_by": "apalike",
   "current_citInitial": 1,
   "eqLabelWithNumbers": true,
   "eqNumInitial": 1,
   "hotkeys": {
    "equation": "Ctrl-E",
    "itemize": "Ctrl-I"
   },
   "labels_anchors": false,
   "latex_user_defs": false,
   "report_style_numbering": false,
   "user_envs_cfg": false
  },
  "nteract": {
   "version": "0.8.4"
  },
  "vscode": {
   "interpreter": {
    "hash": "5384d77d82de63fd599f73e77f9ec786e7719288bf80a29ec0288c670ac3cf32"
   }
  }
 },
 "nbformat": 4,
 "nbformat_minor": 4
}
