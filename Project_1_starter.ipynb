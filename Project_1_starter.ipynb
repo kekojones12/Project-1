{
 "cells": [
  {
   "attachments": {},
   "cell_type": "markdown",
   "metadata": {},
   "source": [
    "# Crime Data Analysis\n",
    "\n",
    "- Your analysis here\n",
    "  \n",
    "---"
   ]
  },
  {
   "cell_type": "code",
   "execution_count": null,
   "metadata": {},
   "outputs": [],
   "source": [
    "# Dependencies and Setup\n",
    "import pandas as pd\n",
    "from pathlib import Path\n",
    "import matplotlib.pyplot as plt\n",
    "import numpy as np\n",
    "from scipy import stats\n",
    "import hvplot.pandas\n",
    "\n",
    "# Files to Load\n",
    "data_2010_2019 = Path(\"Crime_Data_from_2010_to_2019 (1).csv\")\n",
    "data_2020_2023 = Path(\"Crime_Data_from_2020_to_Present_20231016.csv\")\n",
    "\n",
    "# Read data(2010-2019) and data (2020- present)Data File and store into Pandas DataFrames\n",
    "pre_covid_data = pd.read_csv(data_2010_2019)\n",
    "post_covid_data = pd.read_csv(data_2020_2023)\n",
    "\n",
    "# Combine the data into a single dataset.  \n",
    "Data_complete = pd.concat([pre_covid_data, post_covid_data], ignore_index=True)\n",
    "Data_complete.head()"
   ]
  },
  {
   "cell_type": "markdown",
   "metadata": {},
   "source": [
    "Data Cleaning\n"
   ]
  },
  {
   "cell_type": "code",
   "execution_count": null,
   "metadata": {},
   "outputs": [],
   "source": [
    "# Create a Year column from the dataframe\n",
    "Data_complete['Crime Year'] = pd.to_datetime(Data_complete['Date Rptd']).dt.year"
   ]
  },
  {
   "cell_type": "code",
   "execution_count": null,
   "metadata": {},
   "outputs": [],
   "source": [
    "# Remove unused columns\n",
    "Data_complete.drop(Data_complete.columns[[1, 2, 3, 4, 6, 7, 10, 14, 16, 17, 18, 19, 20, 21, 22, 23, 24, 25,28]], axis=1, inplace=True)"
   ]
  },
  {
   "cell_type": "code",
   "execution_count": null,
   "metadata": {},
   "outputs": [],
   "source": [
    "# Remove NaN entries\n",
    "Data_complete = Data_complete.dropna()\n",
    "\n",
    "# Clean data for duplicate crime records\n",
    "Data_complete = Data_complete.drop_duplicates(subset=['DR_NO'])\n",
    "\n",
    "# Remove unrecorded victim age data\n",
    "Data_complete = Data_complete[Data_complete['Vict Age'] > 0]"
   ]
  },
  {
   "cell_type": "code",
   "execution_count": null,
   "metadata": {},
   "outputs": [],
   "source": [
    "# Change the name of the columns to complete the data cleaning\n",
    "Data_complete.rename(columns={\n",
    "                    'DR_NO':'DR Number',\n",
    "                    'Crime Year': 'Crime Year',\n",
    "                    'AREA NAME': 'Area Name',\n",
    "                    'Crm Cd': 'Crime Code',\n",
    "                    'Crm Cd Desc':'Type of Crime',\n",
    "                    'Vict Age': 'Victim Age',\n",
    "                    'Vict Sex': 'Victim Gender',\n",
    "                    'Vict Descent': 'Victim Ethnicity',\n",
    "                    'Premis Desc': 'Scene of Crime',\n",
    "                    'LAT': 'Latitude',\n",
    "                    'LON': 'Longitude'\n",
    "                    \n",
    "},inplace= True)\n",
    "\n",
    "# Remove coordinates outside of Los Angeles\n",
    "Data_complete = Data_complete[(Data_complete['Longitude'] < -108) & (Data_complete['Longitude'] > -128)]\n",
    "Data_complete = Data_complete[(Data_complete['Latitude'] < 44) & (Data_complete['Latitude'] > 24)]\n",
    "\n",
    "Data_complete.head()"
   ]
  },
  {
   "cell_type": "markdown",
   "metadata": {},
   "source": [
    "## Data Analysis"
   ]
  },
  {
   "cell_type": "code",
   "execution_count": null,
   "metadata": {},
   "outputs": [],
   "source": [
    "count = len(Data_complete[\"DR Number\"])\n",
    "print(count)"
   ]
  },
  {
   "cell_type": "code",
   "execution_count": null,
   "metadata": {},
   "outputs": [],
   "source": [
    "unique_demo = Data_complete[\"Victim Age\"].value_counts()\n",
    "print(unique_demo)"
   ]
  },
  {
   "cell_type": "code",
   "execution_count": null,
   "metadata": {},
   "outputs": [],
   "source": [
    "unique_demo = Data_complete[\"Victim Ethnicity\"].value_counts()\n",
    "print(unique_demo)"
   ]
  },
  {
   "cell_type": "code",
   "execution_count": null,
   "metadata": {},
   "outputs": [],
   "source": [
    "unique_demo = Data_complete[\"Area Name\"].value_counts()\n",
    "print(unique_demo)"
   ]
  },
  {
   "cell_type": "markdown",
   "metadata": {},
   "source": [
    "## Yearly Summary"
   ]
  },
  {
   "cell_type": "code",
   "execution_count": null,
   "metadata": {},
   "outputs": [],
   "source": [
    "# Get the total number of crimes by year\n",
    "yearly_total = Data_complete[\"DR Number\"].groupby(Data_complete[\"Crime Year\"]).count().reset_index()\n",
    "yearly_total.rename(columns={\"DR Number\": \"Total Crimes\"}, inplace=True)\n",
    "\n",
    "# Add a column that calculates the yearly rate of change in crime\n",
    "yearly_total['Percentage Change'] = yearly_total['Total Crimes'].pct_change() * 100\n",
    "\n",
    "# Convert NaN first row to a dash\n",
    "yearly_total['Percentage Change'].iloc[0] = '-'\n",
    "yearly_total.set_index('Crime Year', inplace=True)\n",
    "yearly_total"
   ]
  },
  {
   "cell_type": "code",
   "execution_count": null,
   "metadata": {},
   "outputs": [],
   "source": [
    "# Create a Summary Statistics table of the total crimes over the entire dataset\n",
    "yearly_sum_stats = yearly_total.describe()\n",
    "yearly_sum_stats"
   ]
  },
  {
   "cell_type": "code",
   "execution_count": null,
   "metadata": {},
   "outputs": [],
   "source": [
    "yearly_total_plot.plot?"
   ]
  },
  {
   "cell_type": "code",
   "execution_count": null,
   "metadata": {},
   "outputs": [],
   "source": [
    "# Bar plot of the total crime count over the length of the dataset\n",
    "yearly_total_plot = yearly_total\n",
    "mean_total = yearly_sum_stats.loc['mean', 'Total Crimes']\n",
    "covid_color = [\"r\" if year >= 2020 else \"b\" for year in yearly_total_plot.index]\n",
    "# Trying to plot the covid years in red\n",
    "yearly_total_plot.plot.bar(y = \"Total Crimes\", \n",
    "                       color= covid_color)\n",
    "\n",
    "plt.axhline(y=mean_total, color='black', linestyle='--', label='Mean: {mean_total}')\n",
    "plt.text(9.5, 172000, \"Mean\")\n",
    "plt.xlabel(\"\")\n",
    "plt.xticks(rotation=45)\n",
    "plt.ylabel(\"Total Crimes by Year\")\n",
    "plt.title(\"Totals Crimes in Los Angeles (2010-2023)\")\n",
    "plt.savefig(\"output_data/TotalCrimeYTY.png\")\n",
    "plt.show()"
   ]
  },
  {
   "cell_type": "code",
   "execution_count": null,
   "metadata": {},
   "outputs": [],
   "source": [
    "# Line graph showing the percentage change in total crimes year-to-year\n",
    "yearly_total_index_reset = yearly_total.reset_index()\n",
    "percent_plot = yearly_total_index_reset.iloc[1:]\n",
    "plt.figure(figsize=(7, 5))\n",
    "plt.plot(percent_plot[\"Crime Year\"], percent_plot[\"Percentage Change\"], marker='o', linestyle='-')\n",
    "plt.title(\"Percentage Change in Total Crimes (2010-2023)\")\n",
    "plt.xlabel(\"Year\")\n",
    "plt.ylabel(\"Percentage Change\")\n",
    "plt.xticks(percent_plot[\"Crime Year\"], rotation=45)\n",
    "plt.grid(True)\n",
    "\n",
    "# Show or save the plot\n",
    "plt.show()"
   ]
  },
  {
   "cell_type": "code",
   "execution_count": null,
   "metadata": {},
   "outputs": [],
   "source": [
    "# Linear Regression plot\n",
    "slope, intercept, rvalue, pvalue, stderr = stats.linregress(yearly_total_reg[\"Crime Year\"], yearly_total_reg[\"Total Crimes\"])\n",
    "regress = yearly_total_reg[\"Crime Year\"] * slope + intercept\n",
    "line_eq = \"y = \" + str(round(slope,2)) + \"x +\" + str(round(intercept, 2))\n",
    "\n",
    "plt.scatter(yearly_total_reg[\"Crime Year\"], yearly_total_reg[\"Total Crimes\"])\n",
    "plt.plot(yearly_total_reg[\"Crime Year\"], regress, \"r-\")\n",
    "plt.xticks(yearly_total_reg[\"Crime Year\"], rotation=45)\n",
    "plt.ylabel(\"Total Crimes\")\n",
    "plt.title(\"Linear Regression Plot of Total Crime in Los Angeles (2010-2023)\")\n",
    "plt.annotate(line_eq, (min(yearly_total_index_reset[\"Crime Year\"]), max(yearly_total_index_reset[\"Total Crimes\"])-1), fontsize=12, color=\"red\")\n",
    "print(f\"The r-value is: {rvalue ** 2}\")\n",
    "print(f\"The p-value is: {pvalue}\")\n",
    "plt.show()"
   ]
  },
  {
   "cell_type": "code",
   "execution_count": null,
   "metadata": {},
   "outputs": [],
   "source": [
    "# T-Test of Pre-Covid and Post-Covid Yearly Total Crimes\n",
    "# Slice the dataframe to create pre and post covid\n",
    "pre_covid_slice = yearly_total_index_reset[(yearly_total_index_reset['Crime Year'] >= 2010) & (yearly_total_index_reset['Crime Year'] <= 2019)]\n",
    "post_covid_slice = yearly_total_index_reset[(yearly_total_index_reset['Crime Year'] >= 2020) & (yearly_total_index_reset['Crime Year'] <= 2023)]\n",
    "\n",
    "# Calculate the mean for before and after covid\n",
    "pre_covid_mean = pre_covid_slice['Total Crimes'].mean()\n",
    "post_covid_mean = post_covid_slice['Total Crimes'].mean()\n",
    "\n",
    "print(pre_covid_mean)\n",
    "print(post_covid_mean)\n",
    "# Perform a t-test to compare the means of the two groups\n",
    "stats.ttest_ind(pre_covid_slice['Total Crimes'], post_covid_slice['Total Crimes'], equal_var=False)"
   ]
  },
  {
   "cell_type": "code",
   "execution_count": null,
   "metadata": {},
   "outputs": [],
   "source": [
    "# Linear Regression plot\n",
    "yearly_total_index_reset = yearly_total.reset_index()\n",
    "slope, intercept, rvalue, pvalue, stderr = stats.linregress(yearly_total_reg[\"Crime Year\"], yearly_total_reg[\"Total Crimes\"])\n",
    "regress = yearly_total_reg[\"Crime Year\"] * slope + intercept\n",
    "line_eq = \"y = \" + str(round(slope,2)) + \"x +\" + str(round(intercept, 2))\n",
    "\n",
    "plt.scatter(yearly_total_reg[\"Crime Year\"], yearly_total_reg[\"Total Crimes\"])\n",
    "plt.plot(yearly_total_reg[\"Crime Year\"], regress, \"r-\")\n",
    "plt.xticks(yearly_total_reg[\"Crime Year\"], rotation=45)\n",
    "plt.ylabel(\"Total Crimes\")\n",
    "plt.title(\"Linear Regression Plot of Total Crime in Los Angeles (2010-2023)\")\n",
    "plt.annotate(line_eq, (min(yearly_total_index_reset[\"Crime Year\"]), max(yearly_total_index_reset[\"Total Crimes\"])-1), fontsize=12, color=\"red\")\n",
    "print(f\"The r-value is: {rvalue ** 2}\")\n",
    "print(f\"The p-value is: {pvalue}\")\n",
    "plt.show()"
   ]
  },
  {
   "cell_type": "code",
   "execution_count": null,
   "metadata": {},
   "outputs": [],
   "source": [
    "# Define function to pull the most common occurring value in each column\n",
    "def highest_occurance(column):\n",
    "    return column.value_counts().idxmax()\n",
    "\n",
    "# Group the data by 'Crime Year' and apply the most_frequent_value function to each column\n",
    "highest_occurance = Data_complete.groupby('Crime Year').agg({\n",
    "                    'Area Name': highest_occurance,\n",
    "                    'Crime Code': highest_occurance,\n",
    "                    'Type of Crime': highest_occurance,\n",
    "                    'Victim Age': highest_occurance,\n",
    "                    'Victim Gender': highest_occurance,\n",
    "                    'Victim Ethnicity': highest_occurance,\n",
    "                    'Scene of Crime': highest_occurance\n",
    "                    }).reset_index()"
   ]
  },
  {
   "cell_type": "code",
   "execution_count": null,
   "metadata": {},
   "outputs": [],
   "source": [
    "# Create Yearly Summary table by merging the two new yearly analysis dataframes\n",
    "yearly_summary_df = pd.merge(yearly_total, highest_occurance, on='Crime Year')\n",
    "yearly_summary_df.set_index('Crime Year', inplace=True)\n",
    "yearly_summary_df"
   ]
  },
  {
   "cell_type": "markdown",
   "metadata": {},
   "source": [
    "## Crimes Summary"
   ]
  },
  {
   "cell_type": "code",
   "execution_count": null,
   "metadata": {},
   "outputs": [],
   "source": [
    "Total_crime_count = len(Data_complete['DR Number'])\n",
    "Total_crime_count"
   ]
  },
  {
   "cell_type": "code",
   "execution_count": null,
   "metadata": {},
   "outputs": [],
   "source": [
    "# Calculate the total number of Crimes \n",
    "##Total_crime_count = Data_complete.len['Type of Crime']\n",
    "\n",
    "\n",
    "# unique kind of the crimes:\n",
    "#Kind_of_crimes = clean_crime_data.groupby([\"Crm Cd Desc\",\"crime_year\"], as_index = false).count()\n",
    "\n",
    "# Pick which highest frequency (5)\n",
    "#highest_frequency_crime = Kind_of_crimes.sort_values(ascending= False)\n",
    "\n",
    "# Inside the home and outside the home( COVID people were home)\n",
    "\n"
   ]
  },
  {
   "cell_type": "code",
   "execution_count": null,
   "metadata": {},
   "outputs": [],
   "source": [
    "#Plot a line graph showing the overall crimes trend change over the years\n",
    "plot.line"
   ]
  },
  {
   "cell_type": "markdown",
   "metadata": {},
   "source": []
  },
  {
   "cell_type": "code",
   "execution_count": null,
   "metadata": {},
   "outputs": [],
   "source": [
    "# Calculate the kind of crimes (e.g different kind of crimes) per year??\n",
    "#the distribution of crime types over the years\n",
    "#clean_crime_data.loc(2017)\n",
    "#df_2017= \n",
    "#df_2018\n",
    "#df_2019\n",
    "#df_2020\n",
    "#df_2021\n",
    "#df_2022\n",
    "#crime_type\n",
    "\n"
   ]
  },
  {
   "cell_type": "code",
   "execution_count": null,
   "metadata": {},
   "outputs": [],
   "source": []
  },
  {
   "cell_type": "code",
   "execution_count": null,
   "metadata": {},
   "outputs": [],
   "source": [
    "# Create a dataframe with crime_type and year????\n",
    "crime_summary = pd.DataFrame({\n",
    "    "
   ]
  },
  {
   "cell_type": "code",
   "execution_count": null,
   "metadata": {},
   "outputs": [],
   "source": [
    "# Plot a bar plot with multiple columns over the different years for total number of crimes(value count)\n"
   ]
  },
  {
   "cell_type": "code",
   "execution_count": null,
   "metadata": {},
   "outputs": [],
   "source": [
    "# Plot another histogram for average of pre covid and post covid crimes (Total and one for each crime)."
   ]
  },
  {
   "cell_type": "markdown",
   "metadata": {},
   "source": [
    "## Area Summary"
   ]
  },
  {
   "cell_type": "code",
   "execution_count": null,
   "metadata": {},
   "outputs": [],
   "source": [
    "#  select all of the different Areas\n"
   ]
  },
  {
   "cell_type": "code",
   "execution_count": null,
   "metadata": {},
   "outputs": [],
   "source": [
    "# Divide areas into Central, Valley, South, West"
   ]
  },
  {
   "cell_type": "code",
   "execution_count": null,
   "metadata": {},
   "outputs": [],
   "source": [
    "# Calculate the total crimes per area per year\n",
    "per_area_crime_counts = "
   ]
  },
  {
   "cell_type": "code",
   "execution_count": null,
   "metadata": {},
   "outputs": [],
   "source": [
    "#calculate crime types per area\n",
    "# Five highest crimes "
   ]
  },
  {
   "cell_type": "code",
   "execution_count": null,
   "metadata": {},
   "outputs": [],
   "source": [
    "# Geoplot the area "
   ]
  },
  {
   "cell_type": "code",
   "execution_count": null,
   "metadata": {},
   "outputs": [],
   "source": [
    "# Make a data frame with Columns for Average crime per area\n",
    "\n",
    "\n",
    "# Display Data Frame"
   ]
  },
  {
   "cell_type": "code",
   "execution_count": null,
   "metadata": {},
   "outputs": [],
   "source": [
    "# Highest Crime Area(By Total Crimes)"
   ]
  },
  {
   "cell_type": "code",
   "execution_count": null,
   "metadata": {},
   "outputs": [],
   "source": [
    "# Lowest Crime Area (By Total Crime)"
   ]
  },
  {
   "cell_type": "code",
   "execution_count": null,
   "metadata": {},
   "outputs": [],
   "source": [
    "#Bar chart four areas, four years and total number of crimes"
   ]
  },
  {
   "cell_type": "code",
   "execution_count": null,
   "metadata": {},
   "outputs": [],
   "source": [
    "# Identify Hot Spots\n",
    "#Crime in each area acroos the years"
   ]
  },
  {
   "cell_type": "code",
   "execution_count": null,
   "metadata": {},
   "outputs": [],
   "source": [
    "# Any change in the Hot spots overs the years\n"
   ]
  },
  {
   "cell_type": "markdown",
   "metadata": {},
   "source": [
    "### Female Vs Male Victims"
   ]
  },
  {
   "cell_type": "code",
   "execution_count": null,
   "metadata": {},
   "outputs": [],
   "source": [
    "# Generate a pie plot showing the distribution of female versus male victims using Pandas\n",
    "data = data[\"Sex\"].value_counts()\n",
    "plt.title(\"Female vs. Male Victims\")\n",
    "Female_male_data.plot.pie(autopct= \"%1.1f%%\")\n",
    "plt.show()"
   ]
  },
  {
   "cell_type": "markdown",
   "metadata": {},
   "source": [
    "### Victim Race "
   ]
  },
  {
   "cell_type": "markdown",
   "metadata": {},
   "source": [
    "# Child Abuse compare over the years"
   ]
  },
  {
   "cell_type": "markdown",
   "metadata": {},
   "source": [
    "## Change in crime spot"
   ]
  },
  {
   "cell_type": "code",
   "execution_count": null,
   "metadata": {},
   "outputs": [],
   "source": [
    "#Splitting race by groups: Black, White, Hispanics, Asians"
   ]
  },
  {
   "cell_type": "code",
   "execution_count": null,
   "metadata": {},
   "outputs": [],
   "source": [
    "#Splitting premise into 4 categories: Commercial, residential, industrial and outdoors\n",
    "# using Bins"
   ]
  },
  {
   "cell_type": "code",
   "execution_count": null,
   "metadata": {},
   "outputs": [],
   "source": []
  },
  {
   "cell_type": "code",
   "execution_count": null,
   "metadata": {},
   "outputs": [],
   "source": [
    "#Percentage of increase and decrease in crimes over the years\n",
    "Total_crime_count groupbyyear (count)"
   ]
  },
  {
   "cell_type": "code",
   "execution_count": null,
   "metadata": {},
   "outputs": [],
   "source": [
    " #How has crime changed over the years?\n",
    " \n",
    " Line graphs "
   ]
  }
 ],
 "metadata": {
  "anaconda-cloud": {},
  "kernel_info": {
   "name": "python3"
  },
  "kernelspec": {
   "display_name": "Python 3 (ipykernel)",
   "language": "python",
   "name": "python3"
  },
  "language_info": {
   "codemirror_mode": {
    "name": "ipython",
    "version": 3
   },
   "file_extension": ".py",
   "mimetype": "text/x-python",
   "name": "python",
   "nbconvert_exporter": "python",
   "pygments_lexer": "ipython3",
   "version": "3.10.13"
  },
  "latex_envs": {
   "LaTeX_envs_menu_present": true,
   "autoclose": false,
   "autocomplete": true,
   "bibliofile": "biblio.bib",
   "cite_by": "apalike",
   "current_citInitial": 1,
   "eqLabelWithNumbers": true,
   "eqNumInitial": 1,
   "hotkeys": {
    "equation": "Ctrl-E",
    "itemize": "Ctrl-I"
   },
   "labels_anchors": false,
   "latex_user_defs": false,
   "report_style_numbering": false,
   "user_envs_cfg": false
  },
  "nteract": {
   "version": "0.8.4"
  },
  "vscode": {
   "interpreter": {
    "hash": "5384d77d82de63fd599f73e77f9ec786e7719288bf80a29ec0288c670ac3cf32"
   }
  }
 },
 "nbformat": 4,
 "nbformat_minor": 4
}
