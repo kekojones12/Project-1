{
 "cells": [
  {
   "cell_type": "markdown",
   "metadata": {},
   "source": [
    "# CRIME DATA ANALYSIS"
   ]
  },
  {
   "cell_type": "code",
   "execution_count": null,
   "metadata": {},
   "outputs": [],
   "source": [
    "# Dependencies and Setup\n",
    "import pandas as pd\n",
    "from pathlib import Path\n",
    "import matplotlib.pyplot as plt\n",
    "import numpy as np\n",
    "from scipy import stats\n",
    "import hvplot.pandas\n",
    "from scipy.stats import chi2_contingency\n",
    "from scipy.stats import ttest_ind_from_stats, ttest_ind\n",
    "from scipy.special import stdtr\n",
    "\n",
    "# Files to Load\n",
    "data_2010_2019 = Path(\"Crime_Data_from_2010_to_2019 (1).csv\")\n",
    "data_2020_2023 = Path(\"Crime_Data_from_2020_to_Present_20231016.csv\")\n",
    "\n",
    "# Read data(2010-2019) and data (2020- present)Data File and store into Pandas DataFrames\n",
    "pre_covid_data = pd.read_csv(data_2010_2019)\n",
    "post_covid_data = pd.read_csv(data_2020_2023)\n",
    "\n",
    "# Combine the data into a single dataset.  \n",
    "Data_complete = pd.concat([pre_covid_data, post_covid_data], ignore_index=True)\n",
    "Data_complete.head()"
   ]
  },
  {
   "cell_type": "markdown",
   "metadata": {},
   "source": [
    "Data Cleaning"
   ]
  },
  {
   "cell_type": "code",
   "execution_count": null,
   "metadata": {},
   "outputs": [],
   "source": [
    "# Create a Year column from the dataframe\n",
    "Data_complete['Crime Year'] = pd.to_datetime(Data_complete['Date Rptd']).dt.year\n",
    "\n",
    "Data_complete.head()"
   ]
  },
  {
   "cell_type": "code",
   "execution_count": null,
   "metadata": {},
   "outputs": [],
   "source": [
    "# Remove unused columns\n",
    "Data_complete.drop(Data_complete.columns[[1, 2, 3, 4, 6, 7, 10, 14, 16, 17, 18, 19, 20, 21, 22, 23, 24, 25,28]],\n",
    "                    axis=1, inplace=True)\n",
    "\n",
    "Data_complete.head()"
   ]
  },
  {
   "cell_type": "code",
   "execution_count": null,
   "metadata": {},
   "outputs": [],
   "source": [
    "# Remove NaN entries\n",
    "Data_complete = Data_complete.dropna()\n",
    "\n",
    "# Clean data for duplicate crime records\n",
    "Data_complete = Data_complete.drop_duplicates(subset=['DR_NO'])\n",
    "\n",
    "# Remove unrecorded victim age data\n",
    "Data_complete = Data_complete[Data_complete['Vict Age'] > 0]\n",
    "\n",
    "Data_complete.head()"
   ]
  },
  {
   "cell_type": "code",
   "execution_count": null,
   "metadata": {},
   "outputs": [],
   "source": [
    "# Change the name of the columns to complete the data cleaning\n",
    "Data_complete.rename(columns={\n",
    "                    'DR_NO':'DR Number',\n",
    "                    'Crime Year': 'Crime Year',\n",
    "                    'AREA NAME': 'Area Name',\n",
    "                    'Crm Cd': 'Crime Code',\n",
    "                    'Crm Cd Desc':'Type of Crime',\n",
    "                    'Vict Age': 'Victim Age',\n",
    "                    'Vict Sex': 'Victim Gender',\n",
    "                    'Vict Descent': 'Victim Ethnicity',\n",
    "                    'Premis Desc': 'Scene of Crime',\n",
    "                    'LAT': 'Latitude',\n",
    "                    'LON': 'Longitude'\n",
    "                    \n",
    "},inplace= True)\n",
    "\n",
    "# Remove coordinates outside of Los Angeles\n",
    "Data_complete = Data_complete[(Data_complete['Longitude'] < -108) & (Data_complete['Longitude'] > -128)]\n",
    "Data_complete = Data_complete[(Data_complete['Latitude'] < 44) & (Data_complete['Latitude'] > 24)]\n",
    "\n",
    "Data_complete.head()"
   ]
  },
  {
   "cell_type": "markdown",
   "metadata": {},
   "source": [
    "Data Analysis"
   ]
  },
  {
   "cell_type": "code",
   "execution_count": null,
   "metadata": {},
   "outputs": [],
   "source": [
    "count = len(Data_complete[\"DR Number\"])\n",
    "print(count)"
   ]
  },
  {
   "cell_type": "code",
   "execution_count": null,
   "metadata": {},
   "outputs": [],
   "source": [
    "unique_demo = Data_complete[\"Victim Ethnicity\"].value_counts()\n",
    "print(unique_demo)"
   ]
  },
  {
   "cell_type": "code",
   "execution_count": null,
   "metadata": {},
   "outputs": [],
   "source": [
    "unique_demo = Data_complete[\"Victim Ethnicity\"].value_counts()\n",
    "print(unique_demo)"
   ]
  },
  {
   "cell_type": "code",
   "execution_count": null,
   "metadata": {},
   "outputs": [],
   "source": [
    "unique_demo = Data_complete[\"Area Name\"].value_counts()\n",
    "print(unique_demo)"
   ]
  },
  {
   "cell_type": "markdown",
   "metadata": {},
   "source": [
    "Annual Crime Analysis"
   ]
  },
  {
   "cell_type": "code",
   "execution_count": null,
   "metadata": {},
   "outputs": [],
   "source": [
    "# Get the total number of crimes by year\n",
    "yearly_total = Data_complete[\"DR Number\"].groupby(Data_complete[\"Crime Year\"]).count().reset_index()\n",
    "yearly_total.rename(columns={\"DR Number\": \"Total Crimes\"}, inplace=True)\n",
    "\n",
    "# Add a column that calculates the yearly rate of change in crime\n",
    "yearly_total['Percentage Change'] = yearly_total['Total Crimes'].pct_change() * 100\n",
    "\n",
    "# Convert NaN first row to a dash\n",
    "if not yearly_total.empty and pd.isna(yearly_total['Percentage Change'].iloc[0]):\n",
    "    yearly_total.loc[0, 'Percentage Change'] = '-'\n",
    "\n",
    "yearly_total.set_index('Crime Year', inplace=True)\n",
    "yearly_total"
   ]
  },
  {
   "cell_type": "code",
   "execution_count": null,
   "metadata": {},
   "outputs": [],
   "source": [
    "# Create a Summary Statistics table of the total crimes over the entire dataset\n",
    "yearly_sum_stats = yearly_total.describe()\n",
    "yearly_sum_stats"
   ]
  },
  {
   "cell_type": "code",
   "execution_count": null,
   "metadata": {},
   "outputs": [],
   "source": [
    "# Obtain the first and third quartiles\n",
    "Q1 = yearly_sum_stats.loc['25%']\n",
    "Q3 = yearly_sum_stats.loc['75%']\n",
    "\n",
    "# Calculate the IQR\n",
    "IQR = Q3 - Q1\n",
    "\n",
    "# Calculate the lower and upper bounds\n",
    "lower_bound = Q1 - 1.5 * IQR\n",
    "upper_bound = Q3 + 1.5 * IQR\n",
    "\n",
    "# Print lower and upper Bounds to find the range for determining outliers\n",
    "print(\"Lower Bound:\", lower_bound)\n",
    "print(\"Upper Bound:\", upper_bound)"
   ]
  },
  {
   "cell_type": "code",
   "execution_count": null,
   "metadata": {},
   "outputs": [],
   "source": [
    "# Bar plot of the total crime count over the length of the dataset\n",
    "yearly_total_plot = yearly_total\n",
    "mean_total = yearly_sum_stats.loc['mean', 'Total Crimes']\n",
    "\n",
    "# Use list comprehension to change the covid years to red\n",
    "covid_color = [\"r\" if year >= 2020 else \"b\" for year in yearly_total_plot.index]\n",
    "yearly_total_plot.plot.bar(y = \"Total Crimes\", \n",
    "                       color= covid_color,\n",
    "                       legend = False)\n",
    "\n",
    "plt.axhline(y=mean_total, color='black', linestyle='--')\n",
    "plt.text(9.5, 169000, \"Mean\")\n",
    "plt.xlabel(\"\")\n",
    "plt.xticks(rotation=45)\n",
    "plt.ylabel(\"Total Crimes by Year\")\n",
    "plt.title(\"Totals Crimes in Los Angeles (2010-2023)\")\n",
    "plt.savefig(\"output_data/TotalCrimeYTY.png\", bbox_inches=\"tight\")\n",
    "plt.show()"
   ]
  },
  {
   "cell_type": "code",
   "execution_count": null,
   "metadata": {},
   "outputs": [],
   "source": [
    "# Line graph showing the percentage change in total crimes year-to-year\n",
    "yearly_total_index_reset = yearly_total.reset_index()\n",
    "percent_plot = yearly_total_index_reset.iloc[1:]\n",
    "plt.figure(figsize=(7, 5))\n",
    "plt.plot(percent_plot[\"Crime Year\"], percent_plot[\"Percentage Change\"], marker='o', linestyle='-')\n",
    "plt.title(\"Percentage Change in Total Crimes (2010-2023)\")\n",
    "plt.xlabel(\"Year\")\n",
    "plt.ylabel(\"Percentage Change\")\n",
    "plt.xticks(percent_plot[\"Crime Year\"], rotation=45)\n",
    "plt.grid(True)\n",
    "plt.savefig(\"output_data/PercentChangeYTY.png\", bbox_inches=\"tight\")\n",
    "plt.show()"
   ]
  },
  {
   "cell_type": "code",
   "execution_count": null,
   "metadata": {},
   "outputs": [],
   "source": [
    "# Linear Regression plot\n",
    "slope, intercept, rvalue, pvalue, stderr = stats.linregress(yearly_total_index_reset[\"Crime Year\"], yearly_total_index_reset[\"Total Crimes\"])\n",
    "regress = yearly_total_index_reset[\"Crime Year\"] * slope + intercept\n",
    "line_eq = \"y = \" + str(round(slope,2)) + \"x +\" + str(round(intercept, 2))\n",
    "plt.scatter(yearly_total_index_reset[\"Crime Year\"], yearly_total_index_reset[\"Total Crimes\"])\n",
    "plt.plot(yearly_total_index_reset[\"Crime Year\"], regress, \"r-\")\n",
    "plt.xticks(yearly_total_index_reset[\"Crime Year\"], rotation=45)\n",
    "plt.ylabel(\"Total Crimes\")\n",
    "plt.title(\"Linear Regression Plot of Total Crime in Los Angeles (2010-2023)\")\n",
    "plt.annotate(line_eq, (min(yearly_total_index_reset[\"Crime Year\"]), max(yearly_total_index_reset[\"Total Crimes\"])-1), fontsize=12, color=\"red\")\n",
    "plt.savefig(\"output_data/LinearRegressionYTY.png\", bbox_inches=\"tight\")\n",
    "print(f\"The r-value is: {rvalue ** 2}\")\n",
    "print(f\"The p-value is: {pvalue}\")\n",
    "plt.show()"
   ]
  },
  {
   "cell_type": "code",
   "execution_count": null,
   "metadata": {},
   "outputs": [],
   "source": [
    "# T-Test of Pre-Covid and Covid-Era Total Crimes\n",
    "# Slice the dataframe to create Pre-Covid and Covid-Era\n",
    "pre_covid_slice = yearly_total_index_reset[(yearly_total_index_reset['Crime Year'] >= 2010) & (yearly_total_index_reset['Crime Year'] <= 2019)]\n",
    "covid_slice = yearly_total_index_reset[(yearly_total_index_reset['Crime Year'] >= 2020) & (yearly_total_index_reset['Crime Year'] <= 2023)]\n",
    "\n",
    "# Calculate the mean for before and after covid\n",
    "pre_covid_mean = pre_covid_slice['Total Crimes'].mean()\n",
    "covid_mean = covid_slice['Total Crimes'].mean()\n",
    "\n",
    "print(pre_covid_mean)\n",
    "print(covid_mean)\n",
    "# Perform a t-test to compare the means of the two groups\n",
    "stats.ttest_ind(pre_covid_slice['Total Crimes'], covid_slice['Total Crimes'], equal_var=False)\n"
   ]
  },
  {
   "cell_type": "code",
   "execution_count": null,
   "metadata": {},
   "outputs": [],
   "source": [
    "# Define function to pull the most common occurring value in each column\n",
    "def highest_occurance(column):\n",
    "    return column.value_counts().idxmax()\n",
    "\n",
    "# Group the data by 'Crime Year' and apply the most_frequent_value function to each column\n",
    "highest_occurance = Data_complete.groupby('Crime Year').agg({\n",
    "                    'Area Name': highest_occurance,\n",
    "                    'Crime Code': highest_occurance,\n",
    "                    'Type of Crime': highest_occurance,\n",
    "                    'Victim Age': highest_occurance,\n",
    "                    'Victim Gender': highest_occurance,\n",
    "                    'Victim Ethnicity': highest_occurance,\n",
    "                    'Scene of Crime': highest_occurance\n",
    "                    }).reset_index()"
   ]
  },
  {
   "cell_type": "code",
   "execution_count": null,
   "metadata": {},
   "outputs": [],
   "source": [
    "# Create Yearly Summary table by merging the two new yearly analysis dataframes\n",
    "yearly_summary_df = pd.merge(yearly_total, highest_occurance, on='Crime Year')\n",
    "yearly_summary_df.set_index('Crime Year', inplace=True)\n",
    "yearly_summary_df"
   ]
  },
  {
   "cell_type": "markdown",
   "metadata": {},
   "source": [
    "Crime Summary"
   ]
  },
  {
   "cell_type": "code",
   "execution_count": null,
   "metadata": {},
   "outputs": [],
   "source": [
    "Total_crime_count = len(Data_complete['DR Number'])\n",
    "Total_crime_count"
   ]
  },
  {
   "cell_type": "markdown",
   "metadata": {},
   "source": [
    "Area Summary"
   ]
  },
  {
   "cell_type": "code",
   "execution_count": null,
   "metadata": {},
   "outputs": [],
   "source": [
    "#  select all of the different Areas\n",
    "Data_complete[\"Area Name\"].value_counts()"
   ]
  },
  {
   "cell_type": "code",
   "execution_count": null,
   "metadata": {},
   "outputs": [],
   "source": [
    "Data_complete[\"Area Name\"].replace({\"West LA\":\"West\", \n",
    "                                    \"77th Street\":\"South\",\n",
    "                                    \"Southwest\": \"South\",\n",
    "                                    \"Southeast\": \"South\",\n",
    "                                    \"Harbor\": \"South\",\n",
    "                                    \"Pacific\":\"West\",\n",
    "                                    \"Wilshire\":\"West\",\n",
    "                                    \"Olympic\":\"West\",\n",
    "                                    \"Hollywood\":\"West\",\n",
    "                                    \"Central\":\"Central\",\n",
    "                                    \"Hollenbeck\":\"Central\",\n",
    "                                    \"Newton\":\"Central\",\n",
    "                                    \"Northeast\":\"Central\",\n",
    "                                    \"Rampart\":\"Central\",\n",
    "                                    \"Devonshire\":\"Valley\",\n",
    "                                    \"Foothill\":\"Valley\",\n",
    "                                    \"Mission\":\"Valley\",\n",
    "                                    \"North\":\"Valley\",\n",
    "                                    \"Topanga\":\"Valley\",\n",
    "                                    \"Van Nuys\":\"Valley\",\n",
    "                                    \"West Valley\":\"Valley\",\n",
    "                                    \"N Hollywood\":\"Valley\",\n",
    "}, inplace= True)"
   ]
  },
  {
   "cell_type": "code",
   "execution_count": null,
   "metadata": {},
   "outputs": [],
   "source": [
    "# First, filter your DataFrame to include only the data for the years 2010 to 2019.\n",
    "pre_covid_data = Data_complete[(Data_complete['Crime Year'] >= 2010) & (Data_complete['Crime Year'] <= 2019)]\n",
    "crime_mean_by_area = pre_covid_data.groupby(['Area Name', 'Crime Year'],as_index= False)['Crime Year'].count()\n",
    "crime_mean_by_area = crime_mean_by_area.groupby('Area Name').mean()\n",
    "crime_mean_by_area"
   ]
  },
  {
   "cell_type": "code",
   "execution_count": null,
   "metadata": {},
   "outputs": [],
   "source": [
    "# First, filter your DataFrame to include only the data for the years 2020 and 2023.\n",
    "Covid_data_2020_2023 = Data_complete[(Data_complete['Crime Year'] >= 2020) & (Data_complete['Crime Year'] <= 2022)]\n",
    "Mean_crime_2020_2023 = Covid_data_2020_2023.groupby(['Area Name', 'Crime Year'],as_index= False)['Crime Year'].count()\n",
    "Mean_crime_2020_2023 = Mean_crime_2020_2023.groupby('Area Name').mean()\n",
    "Mean_crime_2020_2023"
   ]
  },
  {
   "cell_type": "code",
   "execution_count": null,
   "metadata": {},
   "outputs": [],
   "source": [
    "crime_2020 = Data_complete[(Data_complete['Crime Year'] == 2020) ]"
   ]
  },
  {
   "cell_type": "code",
   "execution_count": null,
   "metadata": {},
   "outputs": [],
   "source": [
    "plt.figure(figsize=(15, 8))\n",
    "x_axis = ['Central', 'South', 'Valley', 'West']\n",
    "y_axis_1 = [37285, 40188, 54326, 38842]\n",
    "y_axis_2 = [38260, 35408, 48395, 41450]\n",
    " \n",
    "width = 0.2  # Adjust the bar width to prevent overlap\n",
    "x_pos = np.arange(len(x_axis))\n",
    "\n",
    "\n",
    "plt.bar(x_pos - width/2, y_axis_1, width=width, alpha=0.8, color=\"r\", label=\"Crime Count 2010-2019\")\n",
    "plt.bar(x_pos + width/2, y_axis_2, width=width, alpha=0.8, color=\"b\", label=\"Crime Count 2020\")\n",
    "\n",
    "\n",
    "plt.title(\"Crime per Year\")\n",
    "plt.ylabel(\"Crime Mean\")\n",
    "plt.xlabel(\"Area Name\")\n",
    "#plt.xticks(rotation=45)\n",
    "tick_locations = [0, 1, 2, 3]\n",
    "plt.xticks(tick_locations, [\"Central\", \"South\", \"Valley\", \"West\"], rotation= 45)\n",
    "plt.legend()  # Add a legend to differentiate the two years\n",
    "plt.show()"
   ]
  },
  {
   "cell_type": "code",
   "execution_count": null,
   "metadata": {},
   "outputs": [],
   "source": [
    "base_url = \"https://api.geoapify.com/v2/places\"\n",
    "base_url"
   ]
  },
  {
   "cell_type": "code",
   "execution_count": null,
   "metadata": {},
   "outputs": [],
   "source": [
    " # Configure the map\n",
    "Crime_map_2010_2019 = pre_covid_data .hvplot.points(\n",
    "    \"Longitude\",\n",
    "    \"Latitude\",\n",
    "    geo = True,\n",
    "    tiles = \"OSM\",\n",
    "    #alpha = 0.5,\n",
    "    frame_width = 800,\n",
    "    frame_height = 600,\n",
    "    size = \"Total\",\n",
    "    scale = 2.0,\n",
    "    color = \"Area Name\",\n",
    "    title = \"Crimes Per Area in Pre Covid Years\"\n",
    ")\n",
    "# Display the map plot\n",
    "Crime_map_2010_2019"
   ]
  },
  {
   "cell_type": "code",
   "execution_count": null,
   "metadata": {},
   "outputs": [],
   "source": [
    " # Configure the map\n",
    "Crime_map_covid_era = Covid_data_2020_2023 .hvplot.points(\n",
    "    \"Longitude\",\n",
    "    \"Latitude\",\n",
    "    geo = True,\n",
    "    tiles = \"OSM\",\n",
    "    #alpha = 0.5,\n",
    "    frame_width = 800,\n",
    "    frame_height = 600,\n",
    "    size = \"Total\",\n",
    "    scale = 2.0,\n",
    "    color = \"Area Name\",\n",
    "    title = \"Crimes Per Area During Covid Years\"\n",
    ")\n",
    "# Display the map plot\n",
    "Crime_map_covid_era"
   ]
  },
  {
   "cell_type": "code",
   "execution_count": null,
   "metadata": {},
   "outputs": [],
   "source": [
    "#Merged the data of Area Name/ Pre Covid Years/ Mean Data and Area Name/ Covid Years/ Mean Data\n",
    "merged_df = pd.merge(crime_mean_by_area,Mean_crime_2020_2023,  on=\"Area Name\", how=\"inner\")\n",
    "merged_df.rename(columns={'Crime Year_x': 'Mean for Pre Covid Era', 'Crime Year_y': 'Mean for Covid Era'})"
   ]
  },
  {
   "cell_type": "code",
   "execution_count": null,
   "metadata": {},
   "outputs": [],
   "source": [
    "stat, p, dof, expected = chi2_contingency(merged_df)\n",
    "alpha = 0.05\n",
    "print(\"p value is \" + str (p))\n",
    "if p <= alpha:\n",
    "    print(\"Dependent (reject HO)\")\n",
    "else:\n",
    "     print(\"Independent (HO holds true)\")    "
   ]
  },
  {
   "cell_type": "markdown",
   "metadata": {},
   "source": [
    "Null Hypothesis : There is no statistical difference between two datas\n",
    "\n",
    "Hypothesis: There is a statistically significant difference."
   ]
  },
  {
   "cell_type": "markdown",
   "metadata": {},
   "source": [
    "COVID EFFECTS ON MALE AND FEMALE VICTIMS"
   ]
  },
  {
   "cell_type": "code",
   "execution_count": null,
   "metadata": {},
   "outputs": [],
   "source": [
    "male_data = Data_complete[Data_complete['Victim Gender'] == 'M']\n",
    "female_data = Data_complete[Data_complete['Victim Gender'] == 'F']\n",
    "\n",
    "# Calculate the total number of crimes for each gender over the years\n",
    "male_counts = male_data['Crime Year'].value_counts().sort_index()\n",
    "female_counts = female_data['Crime Year'].value_counts().sort_index()\n",
    "\n",
    "# Create a grouped bar chart for both genders   \n",
    "plt.figure(figsize=(10, 6))\n",
    "bar_width = 0.35  # Width of each bar\n",
    "\n",
    "x = male_counts.index  # X-axis values (years)\n",
    "\n",
    "plt.bar(x - bar_width/2, male_counts.values, bar_width, color='blue', alpha=0.5, label='Male')\n",
    "plt.bar(x + bar_width/2, female_counts.values, bar_width, color='red', alpha=0.5, label='Female')\n",
    "\n",
    "plt.title('Total Crimes for Men and Women Over the Years')\n",
    "plt.xlabel('Year')\n",
    "plt.ylabel('Total Count')\n",
    "plt.xticks(x)\n",
    "plt.legend()\n",
    "plt.show()"
   ]
  },
  {
   "cell_type": "code",
   "execution_count": null,
   "metadata": {},
   "outputs": [],
   "source": [
    "# Calculate the mean and standard deviation for the female group\n",
    "female_mean = sum(female_counts) / len(female_counts)\n",
    "std1 = (sum((x - female_mean) ** 2 for x in female_counts) / (len(female_counts) - 1)) ** 0.5\n",
    "n1 = len(female_counts)\n",
    "\n",
    "# Calculate the mean and standard deviation for the male group\n",
    "male_mean = sum(male_counts) / len(male_counts)\n",
    "std2 = (sum((x - male_mean) ** 2 for x in male_counts) / (len(male_counts) - 1)) ** 0.5\n",
    "n2 = len(male_counts)\n",
    "\n",
    "# Perform the t-test\n",
    "t_stat_from_stats, p_value_from_stats = stats.ttest_ind_from_stats(female_mean, std1, n1, male_mean, std2, n2)\n",
    "\n",
    "# Output the results\n",
    "print(\"T-statistic (from stats):\", t_stat_from_stats)\n",
    "print(\"P-value (from stats):\", p_value_from_stats)\n",
    "\n",
    "\n",
    "# Set the alpha value\n",
    "alpha = 0.05  \n",
    "if p_value_from_stats < alpha:\n",
    "    print(\"Reject the null hypothesis (from stats): There is a significant difference between the groups.\")\n",
    "else:\n",
    "    print(\"Failed to reject the null hypothesis (from stats): There is no significant difference between the groups.\")\n",
    "\n"
   ]
  },
  {
   "cell_type": "markdown",
   "metadata": {},
   "source": [
    "Residential vs Non-Residential Crimes"
   ]
  },
  {
   "cell_type": "code",
   "execution_count": null,
   "metadata": {},
   "outputs": [],
   "source": [
    "# Groups in Scene of Crime\n",
    "unique_CRIME = Data_complete[\"Type of Crime\"].value_counts()\n",
    "print(unique_CRIME)\n",
    "\n",
    "\n",
    "# Groups in Scene of Crime\n",
    "unique_SOC = Data_complete[\"Scene of Crime\"].value_counts()\n",
    "print(unique_SOC)"
   ]
  },
  {
   "cell_type": "code",
   "execution_count": null,
   "metadata": {},
   "outputs": [],
   "source": [
    "\n",
    "# Create a mapping of the bins\n",
    "bin_mapping = {\n",
    "    \"SINGLE FAMILY DWELLING\": \"RESIDENTIAL\",\n",
    "    \"MULTI-UNIT DWELLING (APARTMENT, DUPLEX, ETC)\": \"RESIDENTIAL\",\n",
    "    \"PARKING LOT\": \"OUTDOORS\",\n",
    "    \"STREET\": \"OUTDOORS\",\n",
    "    \"SIDEWALK\": \"OUTDOORS\",\n",
    "    \"OTHER PREMISE\": \"RESIDENTIAL\",\n",
    "    \"OTHER RESIDENCE\": \"RESIDENTIAL\"\n",
    "}\n",
    "\n",
    "# Create a new column \"Crime Location\" based on the mapping\n",
    "Data_complete['Crime Location'] = Data_complete['Scene of Crime'].map(bin_mapping)\n",
    "\n",
    "# Fill any remaining values with \"OTHER\"\n",
    "Data_complete['Crime Location'].fillna(\"OTHER\", inplace=True)\n",
    "\n",
    "# Groups in Crime Location\n",
    "unique_CL = Data_complete[\"Crime Location\"].value_counts()\n",
    "print(unique_CL)\n",
    "\n",
    "# Use boolean indexing to filter the DataFrame\n",
    "filtered_data = Data_complete[Data_complete['Crime Location'] == 'OTHER']\n",
    "\n",
    "# Extract the values in the \"Scene of Crime\" column where \"Crime Location\" is \"OTHER\"\n",
    "scene_of_crime_values = filtered_data['Scene of Crime']\n",
    "\n",
    "# Print or use the values as needed\n",
    "print(scene_of_crime_values)"
   ]
  },
  {
   "cell_type": "code",
   "execution_count": null,
   "metadata": {},
   "outputs": [],
   "source": [
    "# Create a dataframe with crime\n",
    "\n",
    "residential_crimes = Data_complete[Data_complete['Crime Location'] == \"RESIDENTIAL\"]\n",
    "crime_by_year = residential_crimes.groupby(['Crime Year', 'Type of Crime']).size().reset_index(name='Frequency')"
   ]
  },
  {
   "cell_type": "markdown",
   "metadata": {},
   "source": [
    "Area Summary"
   ]
  },
  {
   "cell_type": "code",
   "execution_count": null,
   "metadata": {},
   "outputs": [],
   "source": [
    "frequency_by_year = Data_complete[Data_complete['Crime Location'] == 'RESIDENTIAL'].groupby('Crime Year').size()\n",
    "\n",
    "# Print the resulting Series \n",
    "print(frequency_by_year)\n",
    "\n"
   ]
  },
  {
   "cell_type": "code",
   "execution_count": null,
   "metadata": {},
   "outputs": [],
   "source": [
    "# Make a data frame with Columns for Average crime per area, and total crime per area\n",
    "\n",
    "filtered_data = Data_complete[Data_complete['Crime Location'] == 'RESIDENTIAL']\n",
    "frequency_by_year = filtered_data.groupby('Crime Year').size()\n",
    "\n",
    "# Plot the results as a bar chart\n",
    "frequency_by_year.plot(kind='bar')\n",
    "plt.xlabel('Crime Year')\n",
    "plt.ylabel('Frequency')\n",
    "plt.title('Frequency of \"RESIDENTIAL\" by Crime Year')\n",
    "plt.show()"
   ]
  },
  {
   "cell_type": "code",
   "execution_count": null,
   "metadata": {},
   "outputs": [],
   "source": [
    "# Display Data Frame\n",
    "\n",
    "crime_frequency = Data_complete.groupby(['Crime Year', 'Type of Crime']).size().reset_index(name='Frequency')\n",
    "print(crime_frequency.head())\n",
    "\n",
    "# Set the figure size (optional)\n",
    "plt.figure(figsize=(12, 6))\n",
    "\n",
    "# Group the data by \"Type of Crime\" and create a line plot for each type\n",
    "for crime_type, group in crime_frequency.groupby('Type of Crime'):\n",
    "    plt.plot(group['Crime Year'], group['Frequency'], label=crime_type)\n",
    "\n",
    "# Add labels and legend\n",
    "plt.xlabel(\"Crime Year\")\n",
    "plt.ylabel(\"Frequency\")\n",
    "plt.title(\"Frequency of Type of Crime by Year\")\n",
    "plt.legend()\n",
    "\n",
    "# Show the plot\n",
    "plt.show()"
   ]
  },
  {
   "cell_type": "code",
   "execution_count": 40,
   "metadata": {},
   "outputs": [
    {
     "data": {
      "image/png": "[encoded data removed]",
      "text/plain": [
       "<Figure size 1200x600 with 1 Axes>"
      ]
     },
     "metadata": {},
     "output_type": "display_data"
    },
    {
     "ename": "ValueError",
     "evalue": "Series.replace cannot use dict-like to_replace and non-None value",
     "output_type": "error",
     "traceback": [
      "\u001b[1;31m---------------------------------------------------------------------------\u001b[0m",
      "\u001b[1;31mValueError\u001b[0m                                Traceback (most recent call last)",
      "\u001b[1;32m~\\AppData\\Local\\Temp\\ipykernel_19404\\693255421.py\u001b[0m in \u001b[0;36m?\u001b[1;34m()\u001b[0m\n\u001b[0;32m     26\u001b[0m     \u001b[1;34m\"CHILD STEALING\"\u001b[0m\u001b[1;33m:\u001b[0m \u001b[1;34m\"CHILD CRIMES\"\u001b[0m\u001b[1;33m,\u001b[0m\u001b[1;33m\u001b[0m\u001b[1;33m\u001b[0m\u001b[0m\n\u001b[0;32m     27\u001b[0m     \u001b[1;34m\"CRM AGNST CHLD (13 OR UNDER) (14-15 & SUSP 10 YRS OLDER)\"\u001b[0m\u001b[1;33m:\u001b[0m \u001b[1;34m\"CHILD CRIMES\"\u001b[0m\u001b[1;33m\u001b[0m\u001b[1;33m\u001b[0m\u001b[0m\n\u001b[0;32m     28\u001b[0m }\n\u001b[0;32m     29\u001b[0m \u001b[1;31m# Use the replace function to map values to new categories\u001b[0m\u001b[1;33m\u001b[0m\u001b[1;33m\u001b[0m\u001b[0m\n\u001b[1;32m---> 30\u001b[1;33m \u001b[0mData_complete\u001b[0m\u001b[1;33m[\u001b[0m\u001b[1;34m'Type of Crime'\u001b[0m\u001b[1;33m]\u001b[0m \u001b[1;33m=\u001b[0m \u001b[0mData_complete\u001b[0m\u001b[1;33m[\u001b[0m\u001b[1;34m'Type of Crime'\u001b[0m\u001b[1;33m]\u001b[0m\u001b[1;33m.\u001b[0m\u001b[0mreplace\u001b[0m\u001b[1;33m(\u001b[0m\u001b[0mmapping\u001b[0m\u001b[1;33m,\u001b[0m \u001b[1;34m\"OTHER\"\u001b[0m\u001b[1;33m)\u001b[0m\u001b[1;33m\u001b[0m\u001b[1;33m\u001b[0m\u001b[0m\n\u001b[0m",
      "\u001b[1;32mc:\\Users\\kekoj\\anaconda3\\envs\\PythonData_2023_08\\lib\\site-packages\\pandas\\core\\series.py\u001b[0m in \u001b[0;36m?\u001b[1;34m(self, to_replace, value, inplace, limit, regex, method)\u001b[0m\n\u001b[0;32m   5219\u001b[0m         \u001b[0mlimit\u001b[0m\u001b[1;33m:\u001b[0m \u001b[0mint\u001b[0m \u001b[1;33m|\u001b[0m \u001b[1;32mNone\u001b[0m \u001b[1;33m=\u001b[0m \u001b[1;32mNone\u001b[0m\u001b[1;33m,\u001b[0m\u001b[1;33m\u001b[0m\u001b[1;33m\u001b[0m\u001b[0m\n\u001b[0;32m   5220\u001b[0m         \u001b[0mregex\u001b[0m\u001b[1;33m:\u001b[0m \u001b[0mbool\u001b[0m \u001b[1;33m=\u001b[0m \u001b[1;32mFalse\u001b[0m\u001b[1;33m,\u001b[0m\u001b[1;33m\u001b[0m\u001b[1;33m\u001b[0m\u001b[0m\n\u001b[0;32m   5221\u001b[0m         \u001b[0mmethod\u001b[0m\u001b[1;33m:\u001b[0m \u001b[0mLiteral\u001b[0m\u001b[1;33m[\u001b[0m\u001b[1;34m\"pad\"\u001b[0m\u001b[1;33m,\u001b[0m \u001b[1;34m\"ffill\"\u001b[0m\u001b[1;33m,\u001b[0m \u001b[1;34m\"bfill\"\u001b[0m\u001b[1;33m]\u001b[0m \u001b[1;33m|\u001b[0m \u001b[0mlib\u001b[0m\u001b[1;33m.\u001b[0m\u001b[0mNoDefault\u001b[0m \u001b[1;33m=\u001b[0m \u001b[0mlib\u001b[0m\u001b[1;33m.\u001b[0m\u001b[0mno_default\u001b[0m\u001b[1;33m,\u001b[0m\u001b[1;33m\u001b[0m\u001b[1;33m\u001b[0m\u001b[0m\n\u001b[0;32m   5222\u001b[0m     ) -> Series | None:\n\u001b[1;32m-> 5223\u001b[1;33m         return super().replace(\n\u001b[0m\u001b[0;32m   5224\u001b[0m             \u001b[0mto_replace\u001b[0m\u001b[1;33m=\u001b[0m\u001b[0mto_replace\u001b[0m\u001b[1;33m,\u001b[0m\u001b[1;33m\u001b[0m\u001b[1;33m\u001b[0m\u001b[0m\n\u001b[0;32m   5225\u001b[0m             \u001b[0mvalue\u001b[0m\u001b[1;33m=\u001b[0m\u001b[0mvalue\u001b[0m\u001b[1;33m,\u001b[0m\u001b[1;33m\u001b[0m\u001b[1;33m\u001b[0m\u001b[0m\n\u001b[0;32m   5226\u001b[0m             \u001b[0minplace\u001b[0m\u001b[1;33m=\u001b[0m\u001b[0minplace\u001b[0m\u001b[1;33m,\u001b[0m\u001b[1;33m\u001b[0m\u001b[1;33m\u001b[0m\u001b[0m\n",
      "\u001b[1;32mc:\\Users\\kekoj\\anaconda3\\envs\\PythonData_2023_08\\lib\\site-packages\\pandas\\core\\generic.py\u001b[0m in \u001b[0;36m?\u001b[1;34m(self, to_replace, value, inplace, limit, regex, method)\u001b[0m\n\u001b[0;32m   7320\u001b[0m                 \u001b[1;31m# {'A': NA} -> 0\u001b[0m\u001b[1;33m\u001b[0m\u001b[1;33m\u001b[0m\u001b[0m\n\u001b[0;32m   7321\u001b[0m                 \u001b[1;32melif\u001b[0m \u001b[1;32mnot\u001b[0m \u001b[0mis_list_like\u001b[0m\u001b[1;33m(\u001b[0m\u001b[0mvalue\u001b[0m\u001b[1;33m)\u001b[0m\u001b[1;33m:\u001b[0m\u001b[1;33m\u001b[0m\u001b[1;33m\u001b[0m\u001b[0m\n\u001b[0;32m   7322\u001b[0m                     \u001b[1;31m# Operate column-wise\u001b[0m\u001b[1;33m\u001b[0m\u001b[1;33m\u001b[0m\u001b[0m\n\u001b[0;32m   7323\u001b[0m                     \u001b[1;32mif\u001b[0m \u001b[0mself\u001b[0m\u001b[1;33m.\u001b[0m\u001b[0mndim\u001b[0m \u001b[1;33m==\u001b[0m \u001b[1;36m1\u001b[0m\u001b[1;33m:\u001b[0m\u001b[1;33m\u001b[0m\u001b[1;33m\u001b[0m\u001b[0m\n\u001b[1;32m-> 7324\u001b[1;33m                         raise ValueError(\n\u001b[0m\u001b[0;32m   7325\u001b[0m                             \u001b[1;34m\"Series.replace cannot use dict-like to_replace \"\u001b[0m\u001b[1;33m\u001b[0m\u001b[1;33m\u001b[0m\u001b[0m\n\u001b[0;32m   7326\u001b[0m                             \u001b[1;34m\"and non-None value\"\u001b[0m\u001b[1;33m\u001b[0m\u001b[1;33m\u001b[0m\u001b[0m\n\u001b[0;32m   7327\u001b[0m                         )\n",
      "\u001b[1;31mValueError\u001b[0m: Series.replace cannot use dict-like to_replace and non-None value"
     ]
    }
   ],
   "source": [
    "# Filter the data to include only \"Type of Crime\" that starts with \"Child\"\n",
    "\n",
    "child_crimes = crime_frequency[crime_frequency['Type of Crime'].str.startswith('Child')]\n",
    "# Set the figure size (optional)\n",
    "plt.figure(figsize=(12, 6))\n",
    "# Create a line plot for each \"Type of Crime\" that starts with \"Child\"\n",
    "for crime_type, group in child_crimes.groupby('Type of Crime'):\n",
    "    plt.plot(group['Crime Year'], group['Frequency'], label=crime_type)\n",
    "# Add labels and legend\n",
    "plt.xlabel(\"Crime Year\")\n",
    "plt.ylabel(\"Frequency\")\n",
    "plt.title(\"Frequency of Type of Crime (Starting with 'Child') by Year\")\n",
    "plt.legend()\n",
    "# Show the plot\n",
    "plt.show()\n",
    "# Create a mapping of values to new categories\n",
    "mapping = {\n",
    "    \"BATTERY - SIMPLE ASSAULT\": \"BATTERY\",\n",
    "    \"BATTERY WITH SEXUAL CONTACT\": \"BATTERY\",\n",
    "    \"CHILD ABANDONMENT\": \"CHILD CRIMES\",\n",
    "    \"CHILD ABUSE (PHYSICAL) - AGGRAVATED ASSAULT\": \"CHILD CRIMES\",\n",
    "    \"CHILD ABUSE (PHYSICAL) - SIMPLE ASSAULT\": \"CHILD CRIMES\",\n",
    "    \"CHILD ANNOYING (17YRS & UNDER)\": \"CHILD CRIMES\",\n",
    "    \"CHILD NEGLECT (SEE 300 W.I.C)\": \"CHILD CRIMES\",\n",
    "    \"CHILD PORNOGRAPHY\": \"CHILD CRIMES\",\n",
    "    \"CHILD STEALING\": \"CHILD CRIMES\",\n",
    "    \"CRM AGNST CHLD (13 OR UNDER) (14-15 & SUSP 10 YRS OLDER)\": \"CHILD CRIMES\"\n",
    "}\n",
    "# Use the replace function to map values to new categories\n",
    "Data_complete['Type of Crime'] = Data_complete['Type of Crime'].replace(mapping, \"OTHER\")"
   ]
  },
  {
   "cell_type": "code",
   "execution_count": null,
   "metadata": {},
   "outputs": [],
   "source": [
    "# Make a data frame with Columns for Average crime per area\n",
    "\n",
    "\n",
    "\n",
    "\n",
    "filtered_data = Data_complete[Data_complete['Crime Location'] != 'RESIDENTIAL']\n",
    "frequency_by_year = filtered_data.groupby('Crime Year').size()\n",
    "\n",
    "# Plot the results as a bar chart\n",
    "frequency_by_year.plot(kind='bar')\n",
    "plt.xlabel('Crime Year')\n",
    "plt.ylabel('Frequency')\n",
    "plt.title('Frequency of \"NON RESIDENTIAL\" by Crime Year')\n",
    "plt.show()\n",
    "# Display Data Frame\n",
    "\n",
    "\n",
    "\n",
    "# Filter the data to include only \"Type of Crime\" that starts with \"Child\"\n",
    "child_crimes = crime_frequency[crime_frequency['Type of Crime'].str.startswith('Child')]\n",
    "\n",
    "# Set the figure size (optional)\n",
    "plt.figure(figsize=(12, 6))\n",
    "\n",
    "# Create a line plot for each \"Type of Crime\" that starts with \"Child\"\n",
    "for crime_type, group in child_crimes.groupby('Type of Crime'):\n",
    "    plt.plot(group['Crime Year'], group['Frequency'], label=crime_type)\n",
    "\n",
    "# Add labels and legend\n",
    "plt.xlabel(\"Crime Year\")\n",
    "plt.ylabel(\"Frequency\")\n",
    "plt.title(\"Frequency of Type of Crime (Starting with 'Child') by Year\")\n",
    "plt.legend()\n",
    "\n",
    "# Show the plot\n",
    "plt.show()\n",
    "\n",
    "# Create a mapping of values to new categories\n",
    "mapping = {\n",
    "    \"BATTERY - SIMPLE ASSAULT\": \"BATTERY\",\n",
    "    \"BATTERY WITH SEXUAL CONTACT\": \"BATTERY\",\n",
    "    \"CHILD ABANDONMENT\": \"CHILD CRIMES\",\n",
    "    \"CHILD ABUSE (PHYSICAL) - AGGRAVATED ASSAULT\": \"CHILD CRIMES\",\n",
    "    \"CHILD ABUSE (PHYSICAL) - SIMPLE ASSAULT\": \"CHILD CRIMES\",\n",
    "    \"CHILD ANNOYING (17YRS & UNDER)\": \"CHILD CRIMES\",\n",
    "    \"CHILD NEGLECT (SEE 300 W.I.C)\": \"CHILD CRIMES\",\n",
    "    \"CHILD PORNOGRAPHY\": \"CHILD CRIMES\",\n",
    "    \"CHILD STEALING\": \"CHILD CRIMES\",\n",
    "    \"CRM AGNST CHLD (13 OR UNDER) (14-15 & SUSP 10 YRS OLDER)\": \"CHILD CRIMES\"\n",
    "}\n",
    "\n",
    "# Use the replace function to map values to new categories\n",
    "Data_complete['Type of Crime'] = Data_complete['Type of Crime'].replace(mapping, \"OTHER\")\n",
    "\n",
    "# Now, the values have been replaced in the \"Type of Crime\" column\n",
    "\n",
    "# Set the figure size (optional)\n",
    "plt.figure(figsize=(12, 6))\n",
    "\n",
    "# Group the data by \"Type of Crime\" and \"Crime Year\" and count the frequency\n",
    "crime_counts = Data_complete.groupby(['Type of Crime', 'Crime Year']).size().unstack().fillna(0)\n",
    "\n",
    "# Create a bar chart for each \"Type of Crime\"\n",
    "for crime_type in crime_counts.columns:\n",
    "    plt.bar(crime_counts.index, crime_counts[crime_type], label=crime_type)\n",
    "\n",
    "# Add labels and legend\n",
    "plt.xlabel(\"Crime Year\")\n",
    "plt.ylabel(\"Frequency\")\n",
    "plt.title(\"Type of Crime by Year\")\n",
    "plt.legend(loc='upper left', bbox_to_anchor=(1, 1))\n",
    "\n",
    "# Rotate x-axis labels for better readability\n",
    "plt.xticks(rotation=45, ha='right')\n",
    "\n",
    "# Show the plot\n",
    "plt.show()\n"
   ]
  },
  {
   "cell_type": "markdown",
   "metadata": {},
   "source": [
    "Total Crimes for Hispanic Victims (Pre and Post COVID)"
   ]
  },
  {
   "cell_type": "code",
   "execution_count": null,
   "metadata": {},
   "outputs": [],
   "source": [
    "# Load your pre and post-COVID data\n",
    "pre_covid_data = pd.read_csv(data_2010_2019)\n",
    "post_covid_data = pd.read_csv(data_2020_2023)\n",
    "\n",
    "# Concatenate the data into one DataFrame \n",
    "Data_complete = pd.concat([pre_covid_data, post_covid_data], ignore_index=True)\n",
    "\n",
    "# Filter the data for Hispanic race# Filter the data for Hispanic ethnicity ('H') in the 'Vict Descent' column\n",
    "hispanic_data = Data_complete[Data_complete['Vict Descent'] == 'H']\n",
    "# Ensure 'DATE OCC' is in datetime format\n",
    "hispanic_data['DATE OCC'] = pd.to_datetime(hispanic_data['DATE OCC'])\n",
    "\n",
    "# Extract the year from 'DATE OCC' and store it in a new column 'Crime Year'\n",
    "hispanic_data['Crime Year'] = hispanic_data['DATE OCC'].dt.year\n",
    "\n",
    "# Group the data by 'Crime Year' and count the number of crimes\n",
    "crime_counts = hispanic_data.groupby('Crime Year').size()\n",
    "\n",
    "# Group the data by year and count the number of crimes\n",
    "crime_counts = hispanic_data.groupby('Crime Year').size()\n",
    "\n",
    "# Plot a line graph to visualize the total crimes over the years\n",
    "plt.figure(figsize=(10, 6))\n",
    "plt.plot(crime_counts.index, crime_counts.values, marker='o', linestyle='-', color='b')\n",
    "plt.title('Total Crimes for Hispanic Victims (Pre and Post COVID)')\n",
    "plt.xlabel('Year')\n",
    "plt.ylabel('Total Crimes')\n",
    "plt.grid(True)\n",
    "plt.xticks(crime_counts.index, rotation=45)\n",
    "# Show the plot\n",
    "plt.show()"
   ]
  }
 ],
 "metadata": {
  "kernelspec": {
   "display_name": "PythonData_2023_08",
   "language": "python",
   "name": "python3"
  },
  "language_info": {
   "codemirror_mode": {
    "name": "ipython",
    "version": 3
   },
   "file_extension": ".py",
   "mimetype": "text/x-python",
   "name": "python",
   "nbconvert_exporter": "python",
   "pygments_lexer": "ipython3",
   "version": "3.10.13"
  }
 },
 "nbformat": 4,
 "nbformat_minor": 2
}
